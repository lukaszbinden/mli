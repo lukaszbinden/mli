{
 "cells": [
  {
   "cell_type": "markdown",
   "metadata": {},
   "source": [
    "1. Suppose that we express the first feature in millimetres instead. What will be the corresponding sample covariance matrix, Q_{mm, g}?\n",
    "\n",
    "The corresponding matrix is\n",
    "\n",
    "Q_{mm,g} = ((8000,440),(440,80))\n",
    "\n",
    "Considering that the off-diagonal elements contain the covariances for each pair of variables, here millimeters and grams, the covariance changes by a factor of 10 as we change from centimeters to millimeters. In the diagonal, bottom right is the covariance of the gram variable which does not change at all since the distance unit is not part of it. Top left is the covariance for the millimeter variable which now changes by a factor of 100 (10 * 10) as \"both\" variables in that \"pair\" change by a factor of 10.\n",
    "\n",
    "https://support.minitab.com/en-us/minitab-express/1/help-and-how-to/modeling-statistics/regression/how-to/covariance/interpret-the-results/"
   ]
  },
  {
   "cell_type": "code",
   "execution_count": 1,
   "metadata": {},
   "outputs": [],
   "source": [
    "import numpy as np"
   ]
  },
  {
   "cell_type": "code",
   "execution_count": 2,
   "metadata": {},
   "outputs": [],
   "source": [
    "Q_cm_g = np.array([[80, 44],[44,80]])\n",
    "Q_mm_g = np.array([[8000, 440],[440,80]])"
   ]
  },
  {
   "cell_type": "markdown",
   "metadata": {},
   "source": [
    "2. Largest eigenvalues and corresponding eigenvector"
   ]
  },
  {
   "cell_type": "code",
   "execution_count": 15,
   "metadata": {},
   "outputs": [
    {
     "name": "stdout",
     "output_type": "stream",
     "text": [
      "eigenvalues of Q_cm_g..: [124.  36.]\n",
      "eigenvectors of Q_cm_g.: [[ 0.70710678 -0.70710678]\n",
      " [ 0.70710678  0.70710678]]\n",
      "largest eigenvalue lambda_1: 124.0, eigenvector w_1: [ 0.70710678 -0.70710678]\n",
      "eigenvalue lambda_2: 36.0, eigenvalue w_2: [0.70710678 0.70710678]\n"
     ]
    }
   ],
   "source": [
    "# 2.1 with respect to Q_{cm, g}:\n",
    "\n",
    "w_cm_g, v_cm_g = np.linalg.eig(Q_cm_g)\n",
    "print(f\"eigenvalues of Q_cm_g..: {w_cm_g}\")\n",
    "print(f\"eigenvectors of Q_cm_g.: {v_cm_g}\")\n",
    "print(f\"largest eigenvalue lambda_1: {w_cm_g[np.argmax(w_cm_g)]}, eigenvector w_1: {v_cm_g[np.argmax(w_cm_g)]}\")\n",
    "print(f\"eigenvalue lambda_2: {w_cm_g[np.argmin(w_cm_g)]}, eigenvalue w_2: {v_cm_g[np.argmin(w_cm_g)]}\")"
   ]
  },
  {
   "cell_type": "code",
   "execution_count": 16,
   "metadata": {},
   "outputs": [
    {
     "name": "stdout",
     "output_type": "stream",
     "text": [
      "eigenvalues of Q_mm_g..: [8024.36946078   55.63053922]\n",
      "eigenvectors of Q_mm_g.: [[ 0.99846976 -0.05530039]\n",
      " [ 0.05530039  0.99846976]]\n",
      "largest eigenvalue nu_1: 8024.369460780464, eigenvector v_1: [ 0.99846976 -0.05530039]\n",
      "eigenvalue nu_2: 55.630539219536686, corresponding eigenvalue v_2: [0.05530039 0.99846976]\n"
     ]
    }
   ],
   "source": [
    "# 2.2 with respect to Q_{mm, g}:\n",
    "\n",
    "w_mm_g, v_mm_g = np.linalg.eig(Q_mm_g)\n",
    "print(f\"eigenvalues of Q_mm_g..: {w_mm_g}\")\n",
    "print(f\"eigenvectors of Q_mm_g.: {v_mm_g}\")\n",
    "print(f\"largest eigenvalue nu_1: {w_mm_g[np.argmax(w_mm_g)]}, eigenvector v_1: {v_mm_g[np.argmax(w_mm_g)]}\")\n",
    "print(f\"eigenvalue nu_2: {w_mm_g[np.argmin(w_mm_g)]}, corresponding eigenvalue v_2: {v_mm_g[np.argmin(w_mm_g)]}\")"
   ]
  },
  {
   "cell_type": "markdown",
   "metadata": {},
   "source": [
    "3. What is the matrix of weights, W"
   ]
  },
  {
   "cell_type": "code",
   "execution_count": 17,
   "metadata": {},
   "outputs": [
    {
     "data": {
      "text/plain": [
       "array([[ 0.70710678,  0.70710678],\n",
       "       [-0.70710678,  0.70710678]])"
      ]
     },
     "execution_count": 17,
     "metadata": {},
     "output_type": "execute_result"
    }
   ],
   "source": [
    "# 3.1 for the case when the first feature is expressed in centimetres:\n",
    "\n",
    "# -> W is the matrix of weights whose columns are the eigenvectors of Q, thus:\n",
    "W_cm_g = v_cm_g.T\n",
    "W_cm_g\n"
   ]
  },
  {
   "cell_type": "code",
   "execution_count": 18,
   "metadata": {},
   "outputs": [
    {
     "data": {
      "text/plain": [
       "array([[ 0.99846976,  0.05530039],\n",
       "       [-0.05530039,  0.99846976]])"
      ]
     },
     "execution_count": 18,
     "metadata": {},
     "output_type": "execute_result"
    }
   ],
   "source": [
    "# 3.2 for the case when the first feature is expressed in millimeters:\n",
    "\n",
    "# -> W is the matrix of weights whose columns are the eigenvectors of Q, thus:\n",
    "W_mm_g = v_mm_g.T\n",
    "W_mm_g"
   ]
  },
  {
   "cell_type": "code",
   "execution_count": 22,
   "metadata": {},
   "outputs": [
    {
     "data": {
      "text/plain": [
       "array([[1.0000000e+00, 2.9911237e-18],\n",
       "       [2.9911237e-18, 1.0000000e+00]])"
      ]
     },
     "execution_count": 22,
     "metadata": {},
     "output_type": "execute_result"
    }
   ],
   "source": [
    "# W is an orthogonal matrix so the multiplication with its transpose must yield the identity matrix\n",
    "np.dot(W_mm_g.T, W_mm_g)"
   ]
  },
  {
   "cell_type": "code",
   "execution_count": 27,
   "metadata": {},
   "outputs": [
    {
     "data": {
      "text/plain": [
       "0.7071067811865475"
      ]
     },
     "execution_count": 27,
     "metadata": {},
     "output_type": "execute_result"
    }
   ],
   "source": [
    "# 4. the weights given to the first column of X' if the first feature is expressed in centimeters:\n",
    "# the first principal component in Z is the first column vector [[z11],[z21]], which is calculated as\n",
    "# z11 = x11*w11 + x12*w21\n",
    "# z21 = x21*w11 + x22*w21\n",
    "# where X'=[[x11, x12],[x21, x22]] and W=[[w11, w12],[w21, w22]]\n",
    "# so the weights given to the first column of X', x11 and x21, is w11 only\n",
    "W_cm_g[:,0][0]"
   ]
  },
  {
   "cell_type": "code",
   "execution_count": 28,
   "metadata": {},
   "outputs": [
    {
     "data": {
      "text/plain": [
       "0.9984697628555456"
      ]
     },
     "execution_count": 28,
     "metadata": {},
     "output_type": "execute_result"
    }
   ],
   "source": [
    "# 4. likewise, the weights given to the first column of X' if the first feature is expressed in millimeters:\n",
    "# (see above)\n",
    "# so the weights given to the first column of X', x11 and x21, is w11 only, thus\n",
    "W_mm_g[:,0][0]"
   ]
  },
  {
   "cell_type": "markdown",
   "metadata": {},
   "source": [
    "5. Comment on how the change of units affects the first principal component in this particular case and the percentage of total variation accounted for by it.\n",
    "\n",
    "As we notice above, the weight for the millimeters case is significantly higher than for the centimeter case. This will give the first principal component a higher value (notice, however, the latter is the sum of multiplications between the entire X' (all rows) and the first weight vector (column of W), not just w11) and therefore assign it more variation explainability relevance as opposed to the subsequent principal components. \n",
    "We can see that a change of units can have a significant impact when performing PCA on that data and possibly the interpretations that are drawn from it, respectively."
   ]
  },
  {
   "cell_type": "code",
   "execution_count": 33,
   "metadata": {},
   "outputs": [
    {
     "name": "stdout",
     "output_type": "stream",
     "text": [
      "Corr_Q_cm_g: [[1.   0.55]\n",
      " [0.55 1.  ]]\n",
      "Corr_Q_mm_g: [[1.   0.55]\n",
      " [0.55 1.  ]]\n"
     ]
    }
   ],
   "source": [
    "# 6. What would be the sample correlation matrix corresponding to both Q_{cm,g} and Q_{mm,g}?\n",
    "\n",
    "# calculate the sample correlation matrix given by\n",
    "# Cor[train] = (Q^(diag))^-1/2 Q (Q^(diag))^-1/2\n",
    "def sample_corr_matrix(Q):\n",
    "    Q_diag = np.zeros(Q.shape)\n",
    "    np.fill_diagonal(Q_diag, np.diagonal(Q))\n",
    "    Q_diag_sqrt = np.sqrt(Q_diag)\n",
    "    Q_diag_sqrt_inv = np.linalg.inv(Q_diag_sqrt)\n",
    "    sample_corr_matrix = np.dot(np.dot(Q_diag_sqrt_inv, Q), Q_diag_sqrt_inv)\n",
    "    return sample_corr_matrix\n",
    "\n",
    "Corr_Q_cm_g = sample_corr_matrix(Q_cm_g)\n",
    "print(f\"Corr_Q_cm_g: {Corr_Q_cm_g}\")\n",
    "Corr_Q_mm_g = sample_corr_matrix(Q_mm_g)\n",
    "print(f\"Corr_Q_mm_g: {Corr_Q_mm_g}\")\n",
    "Corr_Q = Corr_Q_mm_g"
   ]
  },
  {
   "cell_type": "markdown",
   "metadata": {},
   "source": [
    "We observe that the two sample correlation matrices for the two sample covariance martices are the same."
   ]
  },
  {
   "cell_type": "code",
   "execution_count": 34,
   "metadata": {},
   "outputs": [
    {
     "name": "stdout",
     "output_type": "stream",
     "text": [
      "eigenvalues of Corr_Q..: [1.55 0.45]\n",
      "eigenvectors of Corr_Q.: [[ 0.99846976 -0.05530039]\n",
      " [ 0.05530039  0.99846976]]\n",
      "largest eigenvalue eta_1: 1.5499999999999998, eigenvector u_1: [ 0.70710678 -0.70710678]\n",
      "eigenvalue eta_2: 0.44999999999999996, corresponding eigenvalue u_2: [0.70710678 0.70710678]\n"
     ]
    }
   ],
   "source": [
    "# 7. What are the largest eigenvalue of the sample correlation matrix, eta_(1), and the corresponding eigenvector, u_(1), \n",
    "# and the other eigenvalue, eta_(2), and the corresponding eigenvector, u_(2)?\n",
    "\n",
    "w_corr, v_corr = np.linalg.eig(Corr_Q)\n",
    "print(f\"eigenvalues of Corr_Q..: {w_corr}\")\n",
    "print(f\"eigenvectors of Corr_Q.: {v_mm_g}\")\n",
    "print(f\"largest eigenvalue eta_1: {w_corr[np.argmax(w_corr)]}, eigenvector u_1: {v_corr[np.argmax(w_corr)]}\")\n",
    "print(f\"eigenvalue eta_2: {w_corr[np.argmin(w_corr)]}, corresponding eigenvalue u_2: {v_corr[np.argmin(w_corr)]}\")"
   ]
  },
  {
   "cell_type": "markdown",
   "metadata": {},
   "source": [
    "We notice that the eigenvectors u_1 and u_2 are practically the same (except rounding difference) as for the sample covariance matrix Q_{cm, g} whereas the eigenvalues are different."
   ]
  },
  {
   "cell_type": "markdown",
   "metadata": {},
   "source": [
    "8. Performing PCA on a correlation matrix can be thought of performing PCA on a covariance matrix with appropriately changed units — what is this corresponding change of units?\n",
    "\n",
    "In this particular example, it would be changing millimeters to centimeters and then performing PCA on the covariance matrix of the centred data matrix X' (with values in centimeters)."
   ]
  },
  {
   "cell_type": "markdown",
   "metadata": {},
   "source": [
    "9. List two advantages of performing PCA on a correlation matrix as opposed to a covariance matrix.\n",
    "\n",
    "- as we have seen, it is more robust to a lack of properly chosen units (and appropriate data preprocessing, respectively)\n",
    "- overall, it can be a more efficient way of doing PCA (as there is less subtle effort required in preprocessing the data)"
   ]
  },
  {
   "cell_type": "markdown",
   "metadata": {},
   "source": [
    "10. List two advantages of performing PCA on a covariance matrix as opposed to a correlation matrix.\n",
    "\n",
    "- it is closer to the original data, correlation matrix means one more transformation of the data so to speak (e.g. can introduce rounding differences)\n",
    "- gives more flexiblity wrt performing PCA, as one might want to differentiate between data with different units\n"
   ]
  }
 ],
 "metadata": {
  "kernelspec": {
   "display_name": "Python 3",
   "language": "python",
   "name": "python3"
  },
  "language_info": {
   "codemirror_mode": {
    "name": "ipython",
    "version": 3
   },
   "file_extension": ".py",
   "mimetype": "text/x-python",
   "name": "python",
   "nbconvert_exporter": "python",
   "pygments_lexer": "ipython3",
   "version": "3.6.9"
  }
 },
 "nbformat": 4,
 "nbformat_minor": 2
}
