{
 "cells": [
  {
   "cell_type": "markdown",
   "metadata": {},
   "source": [
    "1. Suppose that we express the first feature in millimetres instead. What will be the corresponding sample covariance matrix, Q_{mm, g}?\n",
    "\n",
    "The corresponding matrix is\n",
    "\n",
    "Q_{mm,g} = ((8000,440),(440,80))\n",
    "\n",
    "Considering that the off-diagonal elements contain the covariances for each pair of variables, here millimeters and grams, the covariance changes by a factor of 10 as we change from centimeters to millimeters. In the diagonal, bottom right is the covariance of the gram variable which does not change at all since the distance unit is not part of it. Top left is the covariance for the millimeter variable which now changes by a factor of 100 (10 * 10) as \"both\" variables in that \"pair\" change by a factor of 10.\n",
    "\n",
    "https://support.minitab.com/en-us/minitab-express/1/help-and-how-to/modeling-statistics/regression/how-to/covariance/interpret-the-results/"
   ]
  },
  {
   "cell_type": "code",
   "execution_count": 1,
   "metadata": {},
   "outputs": [],
   "source": [
    "import numpy as np"
   ]
  },
  {
   "cell_type": "code",
   "execution_count": 2,
   "metadata": {},
   "outputs": [],
   "source": [
    "Q_cm_g = np.array([[80, 44],[44,80]])\n",
    "Q_mm_g = np.array([[8000, 440],[440,80]])"
   ]
  },
  {
   "cell_type": "markdown",
   "metadata": {},
   "source": [
    "2. Largest eigenvalues and corresponding eigenvector"
   ]
  },
  {
   "cell_type": "code",
   "execution_count": 15,
   "metadata": {},
   "outputs": [
    {
     "name": "stdout",
     "output_type": "stream",
     "text": [
      "eigenvalues of Q_cm_g..: [124.  36.]\n",
      "eigenvectors of Q_cm_g.: [[ 0.70710678 -0.70710678]\n",
      " [ 0.70710678  0.70710678]]\n",
      "largest eigenvalue lambda_1: 124.0, eigenvector w_1: [ 0.70710678 -0.70710678]\n",
      "eigenvalue lambda_2: 36.0, eigenvalue w_2: [0.70710678 0.70710678]\n"
     ]
    }
   ],
   "source": [
    "# 2.1 with respect to Q_{cm, g}:\n",
    "\n",
    "w_cm_g, v_cm_g = np.linalg.eig(Q_cm_g)\n",
    "print(f\"eigenvalues of Q_cm_g..: {w_cm_g}\")\n",
    "print(f\"eigenvectors of Q_cm_g.: {v_cm_g}\")\n",
    "print(f\"largest eigenvalue lambda_1: {w_cm_g[np.argmax(w_cm_g)]}, eigenvector w_1: {v_cm_g[np.argmax(w_cm_g)]}\")\n",
    "print(f\"eigenvalue lambda_2: {w_cm_g[np.argmin(w_cm_g)]}, eigenvalue w_2: {v_cm_g[np.argmin(w_cm_g)]}\")"
   ]
  },
  {
   "cell_type": "code",
   "execution_count": 16,
   "metadata": {},
   "outputs": [
    {
     "name": "stdout",
     "output_type": "stream",
     "text": [
      "eigenvalues of Q_mm_g..: [8024.36946078   55.63053922]\n",
      "eigenvectors of Q_mm_g.: [[ 0.99846976 -0.05530039]\n",
      " [ 0.05530039  0.99846976]]\n",
      "largest eigenvalue nu_1: 8024.369460780464, eigenvector v_1: [ 0.99846976 -0.05530039]\n",
      "eigenvalue nu_2: 55.630539219536686, corresponding eigenvalue v_2: [0.05530039 0.99846976]\n"
     ]
    }
   ],
   "source": [
    "# 2.2 with respect to Q_{mm, g}:\n",
    "\n",
    "w_mm_g, v_mm_g = np.linalg.eig(Q_mm_g)\n",
    "print(f\"eigenvalues of Q_mm_g..: {w_mm_g}\")\n",
    "print(f\"eigenvectors of Q_mm_g.: {v_mm_g}\")\n",
    "print(f\"largest eigenvalue nu_1: {w_mm_g[np.argmax(w_mm_g)]}, eigenvector v_1: {v_mm_g[np.argmax(w_mm_g)]}\")\n",
    "print(f\"eigenvalue nu_2: {w_mm_g[np.argmin(w_mm_g)]}, corresponding eigenvalue v_2: {v_mm_g[np.argmin(w_mm_g)]}\")"
   ]
  },
  {
   "cell_type": "markdown",
   "metadata": {},
   "source": [
    "3. What is the matrix of weights, W"
   ]
  },
  {
   "cell_type": "code",
   "execution_count": 17,
   "metadata": {},
   "outputs": [
    {
     "data": {
      "text/plain": [
       "array([[ 0.70710678,  0.70710678],\n",
       "       [-0.70710678,  0.70710678]])"
      ]
     },
     "execution_count": 17,
     "metadata": {},
     "output_type": "execute_result"
    }
   ],
   "source": [
    "# 3.1 for the case when the first feature is expressed in centimetres:\n",
    "\n",
    "# -> W is the matrix of weights whose columns are the eigenvectors of Q, thus:\n",
    "W_cm_g = v_cm_g.T\n",
    "W_cm_g\n"
   ]
  },
  {
   "cell_type": "code",
   "execution_count": 18,
   "metadata": {},
   "outputs": [
    {
     "data": {
      "text/plain": [
       "array([[ 0.99846976,  0.05530039],\n",
       "       [-0.05530039,  0.99846976]])"
      ]
     },
     "execution_count": 18,
     "metadata": {},
     "output_type": "execute_result"
    }
   ],
   "source": [
    "# 3.2 for the case when the first feature is expressed in millimeters:\n",
    "\n",
    "# -> W is the matrix of weights whose columns are the eigenvectors of Q, thus:\n",
    "W_mm_g = v_mm_g.T\n",
    "W_mm_g"
   ]
  }
 ],
 "metadata": {
  "kernelspec": {
   "display_name": "Python 3",
   "language": "python",
   "name": "python3"
  },
  "language_info": {
   "codemirror_mode": {
    "name": "ipython",
    "version": 3
   },
   "file_extension": ".py",
   "mimetype": "text/x-python",
   "name": "python",
   "nbconvert_exporter": "python",
   "pygments_lexer": "ipython3",
   "version": "3.6.9"
  }
 },
 "nbformat": 4,
 "nbformat_minor": 2
}
