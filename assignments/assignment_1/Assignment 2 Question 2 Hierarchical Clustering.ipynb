{
 "cells": [
  {
   "cell_type": "code",
   "execution_count": 32,
   "metadata": {},
   "outputs": [],
   "source": [
    "import numpy as np\n",
    "import pandas as pd\n",
    "from sklearn.metrics.pairwise import euclidean_distances\n",
    "import plotly.figure_factory as ff\n",
    "from scipy.cluster.hierarchy import linkage\n",
    "import chart_studio.plotly as py"
   ]
  },
  {
   "cell_type": "code",
   "execution_count": 35,
   "metadata": {},
   "outputs": [
    {
     "data": {
      "text/plain": [
       "array([[0.        , 5.        , 8.48528137, 3.60555128, 7.07106781,\n",
       "        7.21110255, 8.06225775, 2.23606798],\n",
       "       [5.        , 0.        , 6.08276253, 4.24264069, 5.        ,\n",
       "        4.12310563, 3.16227766, 4.47213595],\n",
       "       [8.48528137, 6.08276253, 0.        , 5.        , 1.41421356,\n",
       "        2.        , 7.28010989, 6.40312424],\n",
       "       [3.60555128, 4.24264069, 5.        , 0.        , 3.60555128,\n",
       "        4.12310563, 7.21110255, 1.41421356],\n",
       "       [7.07106781, 5.        , 1.41421356, 3.60555128, 0.        ,\n",
       "        1.41421356, 6.70820393, 5.        ],\n",
       "       [7.21110255, 4.12310563, 2.        , 4.12310563, 1.41421356,\n",
       "        0.        , 5.38516481, 5.38516481],\n",
       "       [8.06225775, 3.16227766, 7.28010989, 7.21110255, 6.70820393,\n",
       "        5.38516481, 0.        , 7.61577311],\n",
       "       [2.23606798, 4.47213595, 6.40312424, 1.41421356, 5.        ,\n",
       "        5.38516481, 7.61577311, 0.        ]])"
      ]
     },
     "execution_count": 35,
     "metadata": {},
     "output_type": "execute_result"
    }
   ],
   "source": [
    "# 1. Based on the Euclidean distance, compute the distance matrix for these observations\n",
    "X = np.array([[2, 10], [2, 5], [8, 4], [5, 8], [7, 5], [6, 4], [1, 2], [4, 9]])\n",
    "\n",
    "X_dist = euclidean_distances(X)\n",
    "X_dist"
   ]
  },
  {
   "cell_type": "code",
   "execution_count": 38,
   "metadata": {},
   "outputs": [
    {
     "data": {
      "text/html": [
       "\n",
       "        <iframe\n",
       "            width=\"800px\"\n",
       "            height=\"500px\"\n",
       "            src=\"https://plot.ly/~machine.trading/44.embed\"\n",
       "            frameborder=\"0\"\n",
       "            allowfullscreen\n",
       "        ></iframe>\n",
       "        "
      ],
      "text/plain": [
       "<IPython.lib.display.IFrame at 0x29303e66320>"
      ]
     },
     "execution_count": 38,
     "metadata": {},
     "output_type": "execute_result"
    }
   ],
   "source": [
    "# 2. Do hierarchical clustering to group the data. Show the resulting dendrograms\n",
    "X_names = ['X1','X2','X3','X4','X5','X6','X7','X8']\n",
    "\n",
    "dendro = ff.create_dendrogram(X.T, labels=X_names, \n",
    "                              linkagefun=lambda x:linkage(X.T, \n",
    "                                                          method = 'average', metric = 'euclidean'))\n",
    "dendro['layout'].update({'width':800, 'height':500})\n",
    "py.iplot(dendro, filename='simple_dendrogram')"
   ]
  }
 ],
 "metadata": {
  "kernelspec": {
   "display_name": "Python 3",
   "language": "python",
   "name": "python3"
  },
  "language_info": {
   "codemirror_mode": {
    "name": "ipython",
    "version": 3
   },
   "file_extension": ".py",
   "mimetype": "text/x-python",
   "name": "python",
   "nbconvert_exporter": "python",
   "pygments_lexer": "ipython3",
   "version": "3.6.9"
  }
 },
 "nbformat": 4,
 "nbformat_minor": 2
}
