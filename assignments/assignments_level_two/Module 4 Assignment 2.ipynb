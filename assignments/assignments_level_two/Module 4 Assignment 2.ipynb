{
 "cells": [
  {
   "cell_type": "markdown",
   "metadata": {},
   "source": [
    "See http://www.anotsorandomwalk.com/backpropagation-example-with-numbers-step-by-step/"
   ]
  },
  {
   "cell_type": "code",
   "execution_count": 8,
   "metadata": {},
   "outputs": [],
   "source": [
    "import numpy as np\n",
    "import pandas as pd\n",
    "from typing import Tuple\n",
    "%matplotlib inline"
   ]
  },
  {
   "cell_type": "code",
   "execution_count": 2,
   "metadata": {},
   "outputs": [],
   "source": [
    "# weights and biases to learn with their initial values\n",
    "w1 = 0.82\n",
    "w2 = 0.53\n",
    "w3 = 0.44\n",
    "w4 = 0.15\n",
    "w5 = 0.61\n",
    "w6 = 0.39\n",
    "w7 = 0.11\n",
    "w8 = 0.41\n",
    "w9 = 0.50\n",
    "w10 = 0.45\n",
    "w11 = 0.23\n",
    "w12 = 0.68\n",
    "w13 = 0.49\n",
    "w14 = 0.71\n",
    "w15 = 0.23\n",
    "w16 = 0.21\n",
    "w17 = 0.44\n",
    "w18 = 0.62\n",
    "b1 = 0.5\n",
    "b2 = 0.5"
   ]
  },
  {
   "cell_type": "code",
   "execution_count": 3,
   "metadata": {},
   "outputs": [],
   "source": [
    "def sigmoid(z):\n",
    "    return np.divide(1, (1 + np.exp(-z)))"
   ]
  },
  {
   "cell_type": "code",
   "execution_count": 4,
   "metadata": {},
   "outputs": [],
   "source": [
    "# input and target values of the sample the network is trained on:\n",
    "x1 = 2\n",
    "x2 = 5\n",
    "x3 = 1\n",
    "x4 = 4\n",
    "t1 = 0.05\n",
    "t2 = 0.1"
   ]
  },
  {
   "cell_type": "code",
   "execution_count": 7,
   "metadata": {},
   "outputs": [],
   "source": [
    "# the error function (= mean squared error MSE)\n",
    "def error(olist, tlist):\n",
    "    return 0.5 * (np.square(olist[0] - tlist[0]) + np.square(olist[1] - tlist[1]))"
   ]
  },
  {
   "cell_type": "code",
   "execution_count": 16,
   "metadata": {},
   "outputs": [],
   "source": [
    "# implement our simple MLP neural network with one hidden layer\n",
    "def forward_propagation(x1, x2, x3, x4) -> Tuple[float, float, float, float, float]:\n",
    "    zh1 = w1 * x1 + w4 * x2 + w7 * x3 + w10 * x4 + b1\n",
    "    zh2 = w2 * x1 + w5 * x2 + w8 * x3 + w11 * x4 + b1\n",
    "    zh3 = w3 * x1 + w6 * x2 + w9 * x3 + w12 * x4 + b1\n",
    "    \n",
    "    h1 = sigmoid(zh1)\n",
    "    h2 = sigmoid(zh2)\n",
    "    h3 = sigmoid(zh3)\n",
    "    \n",
    "    zo1 = w13 * h1 + w15 * h2 + w17 * h3 + b2\n",
    "    zo2 = w14 * h1 + w16 * h2 + w18 * h3 + b2\n",
    "    \n",
    "    o1 = sigmoid(zo1)\n",
    "    o2 = sigmoid(zo2)\n",
    "    \n",
    "    return h1, h2, h3, o1, o2"
   ]
  },
  {
   "cell_type": "code",
   "execution_count": 26,
   "metadata": {},
   "outputs": [
    {
     "name": "stdout",
     "output_type": "stream",
     "text": [
      "Results from 1 forward propagation:\n",
      "Values of hidden neurons h1-h3:\n",
      "\th1: 0.9918374288468401\th2: 0.9973748797433398\th3: 0.9985719267115775\n",
      "Predictions (output nodes o1-o2):\n",
      "\to1: 0.8395344467680094\to2: 0.8841947961679333\n",
      "Ground truth (target values t1-t2):\n",
      "\tt1: 0.05\tt2: 0.1\n",
      "Total error: 0.6191630604850664\n"
     ]
    }
   ],
   "source": [
    "# make one iteratoin through the network and show the total error.\n",
    "h1, h2, h3, o1, o2 = forward_propagation(x1, x2, x3, x4)\n",
    "e = error([o1, o2], [t1, t2])\n",
    "print(\"Results from 1 forward propagation:\")\n",
    "print(\"Values of hidden neurons h1-h3:\")\n",
    "print(f\"\\th1: {h1}\\th2: {h2}\\th3: {h3}\")\n",
    "print(\"Predictions (output nodes o1-o2):\")\n",
    "print(f\"\\to1: {o1}\\to2: {o2}\")\n",
    "print(\"Ground truth (target values t1-t2):\")\n",
    "print(f\"\\tt1: {t1}\\tt2: {t2}\")\n",
    "print(f\"Total error: {e}\")"
   ]
  }
 ],
 "metadata": {
  "kernelspec": {
   "display_name": "Python 3",
   "language": "python",
   "name": "python3"
  },
  "language_info": {
   "codemirror_mode": {
    "name": "ipython",
    "version": 3
   },
   "file_extension": ".py",
   "mimetype": "text/x-python",
   "name": "python",
   "nbconvert_exporter": "python",
   "pygments_lexer": "ipython3",
   "version": "3.6.9"
  }
 },
 "nbformat": 4,
 "nbformat_minor": 2
}
