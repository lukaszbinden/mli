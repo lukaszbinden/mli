{
 "cells": [
  {
   "cell_type": "markdown",
   "metadata": {},
   "source": [
    "MLI Module 4 Assignment 1, Lukas Zbinden\n",
    "\n",
    "see Module 4 - Lecture 17 - Regularisation and Optimisation.pdf on L1 and L2"
   ]
  },
  {
   "cell_type": "code",
   "execution_count": 1,
   "metadata": {},
   "outputs": [],
   "source": [
    "import pandas as pd # data frames\n",
    "import numpy as np"
   ]
  },
  {
   "cell_type": "code",
   "execution_count": 2,
   "metadata": {},
   "outputs": [
    {
     "data": {
      "text/html": [
       "<div>\n",
       "<style scoped>\n",
       "    .dataframe tbody tr th:only-of-type {\n",
       "        vertical-align: middle;\n",
       "    }\n",
       "\n",
       "    .dataframe tbody tr th {\n",
       "        vertical-align: top;\n",
       "    }\n",
       "\n",
       "    .dataframe thead th {\n",
       "        text-align: right;\n",
       "    }\n",
       "</style>\n",
       "<table border=\"1\" class=\"dataframe\">\n",
       "  <thead>\n",
       "    <tr style=\"text-align: right;\">\n",
       "      <th></th>\n",
       "      <th>qr</th>\n",
       "      <th>roe</th>\n",
       "      <th>wcoa</th>\n",
       "      <th>reoa</th>\n",
       "      <th>eoa</th>\n",
       "      <th>edr</th>\n",
       "      <th>dd</th>\n",
       "      <th>sr</th>\n",
       "      <th>vol</th>\n",
       "      <th>return</th>\n",
       "    </tr>\n",
       "    <tr>\n",
       "      <th>year</th>\n",
       "      <th></th>\n",
       "      <th></th>\n",
       "      <th></th>\n",
       "      <th></th>\n",
       "      <th></th>\n",
       "      <th></th>\n",
       "      <th></th>\n",
       "      <th></th>\n",
       "      <th></th>\n",
       "      <th></th>\n",
       "    </tr>\n",
       "  </thead>\n",
       "  <tbody>\n",
       "    <tr>\n",
       "      <td>NaN</td>\n",
       "      <td>NaN</td>\n",
       "      <td>NaN</td>\n",
       "      <td>NaN</td>\n",
       "      <td>NaN</td>\n",
       "      <td>NaN</td>\n",
       "      <td>NaN</td>\n",
       "      <td>NaN</td>\n",
       "      <td>NaN</td>\n",
       "      <td>NaN</td>\n",
       "      <td>NaN</td>\n",
       "    </tr>\n",
       "    <tr>\n",
       "      <td>1985.0</td>\n",
       "      <td>6.979253</td>\n",
       "      <td>-0.025060</td>\n",
       "      <td>0.825243</td>\n",
       "      <td>-1.762136</td>\n",
       "      <td>-0.327184</td>\n",
       "      <td>119.490500</td>\n",
       "      <td>1.439205</td>\n",
       "      <td>5.258117</td>\n",
       "      <td>0.639888</td>\n",
       "      <td>3.365</td>\n",
       "    </tr>\n",
       "    <tr>\n",
       "      <td>NaN</td>\n",
       "      <td>NaN</td>\n",
       "      <td>NaN</td>\n",
       "      <td>NaN</td>\n",
       "      <td>NaN</td>\n",
       "      <td>NaN</td>\n",
       "      <td>NaN</td>\n",
       "      <td>NaN</td>\n",
       "      <td>NaN</td>\n",
       "      <td>NaN</td>\n",
       "      <td>NaN</td>\n",
       "    </tr>\n",
       "    <tr>\n",
       "      <td>1985.0</td>\n",
       "      <td>0.366087</td>\n",
       "      <td>0.145088</td>\n",
       "      <td>0.460968</td>\n",
       "      <td>0.430453</td>\n",
       "      <td>0.114718</td>\n",
       "      <td>2.108288</td>\n",
       "      <td>1.017459</td>\n",
       "      <td>2.859285</td>\n",
       "      <td>1.140449</td>\n",
       "      <td>3.261</td>\n",
       "    </tr>\n",
       "    <tr>\n",
       "      <td>NaN</td>\n",
       "      <td>NaN</td>\n",
       "      <td>NaN</td>\n",
       "      <td>NaN</td>\n",
       "      <td>NaN</td>\n",
       "      <td>NaN</td>\n",
       "      <td>NaN</td>\n",
       "      <td>NaN</td>\n",
       "      <td>NaN</td>\n",
       "      <td>NaN</td>\n",
       "      <td>NaN</td>\n",
       "    </tr>\n",
       "  </tbody>\n",
       "</table>\n",
       "</div>"
      ],
      "text/plain": [
       "              qr       roe      wcoa      reoa       eoa         edr  \\\n",
       "year                                                                   \n",
       "NaN          NaN       NaN       NaN       NaN       NaN         NaN   \n",
       "1985.0  6.979253 -0.025060  0.825243 -1.762136 -0.327184  119.490500   \n",
       "NaN          NaN       NaN       NaN       NaN       NaN         NaN   \n",
       "1985.0  0.366087  0.145088  0.460968  0.430453  0.114718    2.108288   \n",
       "NaN          NaN       NaN       NaN       NaN       NaN         NaN   \n",
       "\n",
       "              dd        sr       vol  return  \n",
       "year                                          \n",
       "NaN          NaN       NaN       NaN     NaN  \n",
       "1985.0  1.439205  5.258117  0.639888   3.365  \n",
       "NaN          NaN       NaN       NaN     NaN  \n",
       "1985.0  1.017459  2.859285  1.140449   3.261  \n",
       "NaN          NaN       NaN       NaN     NaN  "
      ]
     },
     "execution_count": 2,
     "metadata": {},
     "output_type": "execute_result"
    }
   ],
   "source": [
    "# read data\n",
    "df = pd.read_csv(\"MLI Data Assignment 1.csv\", index_col='year')\n",
    "df.head()"
   ]
  },
  {
   "cell_type": "code",
   "execution_count": 3,
   "metadata": {},
   "outputs": [
    {
     "data": {
      "text/plain": [
       "(43870, 10)"
      ]
     },
     "execution_count": 3,
     "metadata": {},
     "output_type": "execute_result"
    }
   ],
   "source": [
    "df.shape"
   ]
  },
  {
   "cell_type": "code",
   "execution_count": 4,
   "metadata": {},
   "outputs": [
    {
     "data": {
      "text/html": [
       "<div>\n",
       "<style scoped>\n",
       "    .dataframe tbody tr th:only-of-type {\n",
       "        vertical-align: middle;\n",
       "    }\n",
       "\n",
       "    .dataframe tbody tr th {\n",
       "        vertical-align: top;\n",
       "    }\n",
       "\n",
       "    .dataframe thead th {\n",
       "        text-align: right;\n",
       "    }\n",
       "</style>\n",
       "<table border=\"1\" class=\"dataframe\">\n",
       "  <thead>\n",
       "    <tr style=\"text-align: right;\">\n",
       "      <th></th>\n",
       "      <th>qr</th>\n",
       "      <th>roe</th>\n",
       "      <th>wcoa</th>\n",
       "      <th>reoa</th>\n",
       "      <th>eoa</th>\n",
       "      <th>edr</th>\n",
       "      <th>dd</th>\n",
       "      <th>sr</th>\n",
       "      <th>vol</th>\n",
       "      <th>return</th>\n",
       "    </tr>\n",
       "  </thead>\n",
       "  <tbody>\n",
       "    <tr>\n",
       "      <td>count</td>\n",
       "      <td>21935.000000</td>\n",
       "      <td>21935.000000</td>\n",
       "      <td>21935.000000</td>\n",
       "      <td>21935.000000</td>\n",
       "      <td>21935.000000</td>\n",
       "      <td>21935.000000</td>\n",
       "      <td>21935.000000</td>\n",
       "      <td>21935.000000</td>\n",
       "      <td>21935.000000</td>\n",
       "      <td>21935.000000</td>\n",
       "    </tr>\n",
       "    <tr>\n",
       "      <td>mean</td>\n",
       "      <td>2.058294</td>\n",
       "      <td>-5.668109</td>\n",
       "      <td>-2.177798</td>\n",
       "      <td>-19.911232</td>\n",
       "      <td>-0.887694</td>\n",
       "      <td>29.342611</td>\n",
       "      <td>1.367895</td>\n",
       "      <td>0.274550</td>\n",
       "      <td>5.665615</td>\n",
       "      <td>1.203678</td>\n",
       "    </tr>\n",
       "    <tr>\n",
       "      <td>std</td>\n",
       "      <td>20.528246</td>\n",
       "      <td>606.173803</td>\n",
       "      <td>185.189412</td>\n",
       "      <td>657.400766</td>\n",
       "      <td>50.153790</td>\n",
       "      <td>472.762696</td>\n",
       "      <td>16.134272</td>\n",
       "      <td>1.484090</td>\n",
       "      <td>141.266594</td>\n",
       "      <td>26.252376</td>\n",
       "    </tr>\n",
       "    <tr>\n",
       "      <td>min</td>\n",
       "      <td>0.000008</td>\n",
       "      <td>-88875.137010</td>\n",
       "      <td>-25967.974360</td>\n",
       "      <td>-55576.000000</td>\n",
       "      <td>-6313.000000</td>\n",
       "      <td>0.000020</td>\n",
       "      <td>-1967.526223</td>\n",
       "      <td>-2.533056</td>\n",
       "      <td>0.019629</td>\n",
       "      <td>-1.000000</td>\n",
       "    </tr>\n",
       "    <tr>\n",
       "      <td>25%</td>\n",
       "      <td>0.076733</td>\n",
       "      <td>-0.117017</td>\n",
       "      <td>0.206121</td>\n",
       "      <td>-0.521662</td>\n",
       "      <td>-0.051757</td>\n",
       "      <td>1.051082</td>\n",
       "      <td>0.904552</td>\n",
       "      <td>-0.453150</td>\n",
       "      <td>0.377869</td>\n",
       "      <td>-0.343500</td>\n",
       "    </tr>\n",
       "    <tr>\n",
       "      <td>50%</td>\n",
       "      <td>0.305719</td>\n",
       "      <td>0.025415</td>\n",
       "      <td>0.438835</td>\n",
       "      <td>0.017834</td>\n",
       "      <td>0.038708</td>\n",
       "      <td>3.366596</td>\n",
       "      <td>1.519760</td>\n",
       "      <td>-0.032473</td>\n",
       "      <td>0.596584</td>\n",
       "      <td>-0.021000</td>\n",
       "    </tr>\n",
       "    <tr>\n",
       "      <td>75%</td>\n",
       "      <td>1.119911</td>\n",
       "      <td>0.070114</td>\n",
       "      <td>0.665494</td>\n",
       "      <td>0.198595</td>\n",
       "      <td>0.096758</td>\n",
       "      <td>10.878026</td>\n",
       "      <td>2.385868</td>\n",
       "      <td>0.681469</td>\n",
       "      <td>0.991382</td>\n",
       "      <td>0.344000</td>\n",
       "    </tr>\n",
       "    <tr>\n",
       "      <td>max</td>\n",
       "      <td>2204.000000</td>\n",
       "      <td>7468.650000</td>\n",
       "      <td>0.999723</td>\n",
       "      <td>2.073072</td>\n",
       "      <td>6.475407</td>\n",
       "      <td>45718.500000</td>\n",
       "      <td>50.941268</td>\n",
       "      <td>91.532453</td>\n",
       "      <td>9898.965329</td>\n",
       "      <td>1765.906000</td>\n",
       "    </tr>\n",
       "  </tbody>\n",
       "</table>\n",
       "</div>"
      ],
      "text/plain": [
       "                 qr           roe          wcoa          reoa           eoa  \\\n",
       "count  21935.000000  21935.000000  21935.000000  21935.000000  21935.000000   \n",
       "mean       2.058294     -5.668109     -2.177798    -19.911232     -0.887694   \n",
       "std       20.528246    606.173803    185.189412    657.400766     50.153790   \n",
       "min        0.000008 -88875.137010 -25967.974360 -55576.000000  -6313.000000   \n",
       "25%        0.076733     -0.117017      0.206121     -0.521662     -0.051757   \n",
       "50%        0.305719      0.025415      0.438835      0.017834      0.038708   \n",
       "75%        1.119911      0.070114      0.665494      0.198595      0.096758   \n",
       "max     2204.000000   7468.650000      0.999723      2.073072      6.475407   \n",
       "\n",
       "                edr            dd            sr           vol        return  \n",
       "count  21935.000000  21935.000000  21935.000000  21935.000000  21935.000000  \n",
       "mean      29.342611      1.367895      0.274550      5.665615      1.203678  \n",
       "std      472.762696     16.134272      1.484090    141.266594     26.252376  \n",
       "min        0.000020  -1967.526223     -2.533056      0.019629     -1.000000  \n",
       "25%        1.051082      0.904552     -0.453150      0.377869     -0.343500  \n",
       "50%        3.366596      1.519760     -0.032473      0.596584     -0.021000  \n",
       "75%       10.878026      2.385868      0.681469      0.991382      0.344000  \n",
       "max    45718.500000     50.941268     91.532453   9898.965329   1765.906000  "
      ]
     },
     "execution_count": 4,
     "metadata": {},
     "output_type": "execute_result"
    }
   ],
   "source": [
    "df.describe()"
   ]
  },
  {
   "cell_type": "code",
   "execution_count": 5,
   "metadata": {},
   "outputs": [
    {
     "data": {
      "text/plain": [
       "qr        21935\n",
       "roe       21935\n",
       "wcoa      21935\n",
       "reoa      21935\n",
       "eoa       21935\n",
       "edr       21935\n",
       "dd        21935\n",
       "sr        21935\n",
       "vol       21935\n",
       "return    21935\n",
       "dtype: int64"
      ]
     },
     "execution_count": 5,
     "metadata": {},
     "output_type": "execute_result"
    }
   ],
   "source": [
    "# remove all null values if any?\n",
    "df.isnull().sum()[df.isnull().sum() != 0]"
   ]
  },
  {
   "cell_type": "code",
   "execution_count": 6,
   "metadata": {},
   "outputs": [
    {
     "name": "stdout",
     "output_type": "stream",
     "text": [
      "Series([], dtype: int64)\n",
      "(21935, 10)\n"
     ]
    }
   ],
   "source": [
    "# drop all rows with NaN/null values\n",
    "df = df.dropna(axis=0)\n",
    "# check again\n",
    "print(df.isnull().sum()[df.isnull().sum() != 0])\n",
    "print(df.shape)"
   ]
  },
  {
   "cell_type": "code",
   "execution_count": 7,
   "metadata": {},
   "outputs": [
    {
     "data": {
      "text/html": [
       "<div>\n",
       "<style scoped>\n",
       "    .dataframe tbody tr th:only-of-type {\n",
       "        vertical-align: middle;\n",
       "    }\n",
       "\n",
       "    .dataframe tbody tr th {\n",
       "        vertical-align: top;\n",
       "    }\n",
       "\n",
       "    .dataframe thead th {\n",
       "        text-align: right;\n",
       "    }\n",
       "</style>\n",
       "<table border=\"1\" class=\"dataframe\">\n",
       "  <thead>\n",
       "    <tr style=\"text-align: right;\">\n",
       "      <th></th>\n",
       "      <th>qr</th>\n",
       "      <th>roe</th>\n",
       "      <th>wcoa</th>\n",
       "      <th>reoa</th>\n",
       "      <th>eoa</th>\n",
       "      <th>edr</th>\n",
       "      <th>dd</th>\n",
       "      <th>sr</th>\n",
       "      <th>vol</th>\n",
       "      <th>return</th>\n",
       "    </tr>\n",
       "  </thead>\n",
       "  <tbody>\n",
       "    <tr>\n",
       "      <td>count</td>\n",
       "      <td>21935.000000</td>\n",
       "      <td>21935.000000</td>\n",
       "      <td>21935.000000</td>\n",
       "      <td>21935.000000</td>\n",
       "      <td>21935.000000</td>\n",
       "      <td>21935.000000</td>\n",
       "      <td>21935.000000</td>\n",
       "      <td>21935.000000</td>\n",
       "      <td>21935.000000</td>\n",
       "      <td>21935.000000</td>\n",
       "    </tr>\n",
       "    <tr>\n",
       "      <td>mean</td>\n",
       "      <td>2.058294</td>\n",
       "      <td>-5.668109</td>\n",
       "      <td>-2.177798</td>\n",
       "      <td>-19.911232</td>\n",
       "      <td>-0.887694</td>\n",
       "      <td>29.342611</td>\n",
       "      <td>1.367895</td>\n",
       "      <td>0.274550</td>\n",
       "      <td>5.665615</td>\n",
       "      <td>1.203678</td>\n",
       "    </tr>\n",
       "    <tr>\n",
       "      <td>std</td>\n",
       "      <td>20.528246</td>\n",
       "      <td>606.173803</td>\n",
       "      <td>185.189412</td>\n",
       "      <td>657.400766</td>\n",
       "      <td>50.153790</td>\n",
       "      <td>472.762696</td>\n",
       "      <td>16.134272</td>\n",
       "      <td>1.484090</td>\n",
       "      <td>141.266594</td>\n",
       "      <td>26.252376</td>\n",
       "    </tr>\n",
       "    <tr>\n",
       "      <td>min</td>\n",
       "      <td>0.000008</td>\n",
       "      <td>-88875.137010</td>\n",
       "      <td>-25967.974360</td>\n",
       "      <td>-55576.000000</td>\n",
       "      <td>-6313.000000</td>\n",
       "      <td>0.000020</td>\n",
       "      <td>-1967.526223</td>\n",
       "      <td>-2.533056</td>\n",
       "      <td>0.019629</td>\n",
       "      <td>-1.000000</td>\n",
       "    </tr>\n",
       "    <tr>\n",
       "      <td>25%</td>\n",
       "      <td>0.076733</td>\n",
       "      <td>-0.117017</td>\n",
       "      <td>0.206121</td>\n",
       "      <td>-0.521662</td>\n",
       "      <td>-0.051757</td>\n",
       "      <td>1.051082</td>\n",
       "      <td>0.904552</td>\n",
       "      <td>-0.453150</td>\n",
       "      <td>0.377869</td>\n",
       "      <td>-0.343500</td>\n",
       "    </tr>\n",
       "    <tr>\n",
       "      <td>50%</td>\n",
       "      <td>0.305719</td>\n",
       "      <td>0.025415</td>\n",
       "      <td>0.438835</td>\n",
       "      <td>0.017834</td>\n",
       "      <td>0.038708</td>\n",
       "      <td>3.366596</td>\n",
       "      <td>1.519760</td>\n",
       "      <td>-0.032473</td>\n",
       "      <td>0.596584</td>\n",
       "      <td>-0.021000</td>\n",
       "    </tr>\n",
       "    <tr>\n",
       "      <td>75%</td>\n",
       "      <td>1.119911</td>\n",
       "      <td>0.070114</td>\n",
       "      <td>0.665494</td>\n",
       "      <td>0.198595</td>\n",
       "      <td>0.096758</td>\n",
       "      <td>10.878026</td>\n",
       "      <td>2.385868</td>\n",
       "      <td>0.681469</td>\n",
       "      <td>0.991382</td>\n",
       "      <td>0.344000</td>\n",
       "    </tr>\n",
       "    <tr>\n",
       "      <td>max</td>\n",
       "      <td>2204.000000</td>\n",
       "      <td>7468.650000</td>\n",
       "      <td>0.999723</td>\n",
       "      <td>2.073072</td>\n",
       "      <td>6.475407</td>\n",
       "      <td>45718.500000</td>\n",
       "      <td>50.941268</td>\n",
       "      <td>91.532453</td>\n",
       "      <td>9898.965329</td>\n",
       "      <td>1765.906000</td>\n",
       "    </tr>\n",
       "  </tbody>\n",
       "</table>\n",
       "</div>"
      ],
      "text/plain": [
       "                 qr           roe          wcoa          reoa           eoa  \\\n",
       "count  21935.000000  21935.000000  21935.000000  21935.000000  21935.000000   \n",
       "mean       2.058294     -5.668109     -2.177798    -19.911232     -0.887694   \n",
       "std       20.528246    606.173803    185.189412    657.400766     50.153790   \n",
       "min        0.000008 -88875.137010 -25967.974360 -55576.000000  -6313.000000   \n",
       "25%        0.076733     -0.117017      0.206121     -0.521662     -0.051757   \n",
       "50%        0.305719      0.025415      0.438835      0.017834      0.038708   \n",
       "75%        1.119911      0.070114      0.665494      0.198595      0.096758   \n",
       "max     2204.000000   7468.650000      0.999723      2.073072      6.475407   \n",
       "\n",
       "                edr            dd            sr           vol        return  \n",
       "count  21935.000000  21935.000000  21935.000000  21935.000000  21935.000000  \n",
       "mean      29.342611      1.367895      0.274550      5.665615      1.203678  \n",
       "std      472.762696     16.134272      1.484090    141.266594     26.252376  \n",
       "min        0.000020  -1967.526223     -2.533056      0.019629     -1.000000  \n",
       "25%        1.051082      0.904552     -0.453150      0.377869     -0.343500  \n",
       "50%        3.366596      1.519760     -0.032473      0.596584     -0.021000  \n",
       "75%       10.878026      2.385868      0.681469      0.991382      0.344000  \n",
       "max    45718.500000     50.941268     91.532453   9898.965329   1765.906000  "
      ]
     },
     "execution_count": 7,
     "metadata": {},
     "output_type": "execute_result"
    }
   ],
   "source": [
    "df.describe()"
   ]
  },
  {
   "cell_type": "code",
   "execution_count": 8,
   "metadata": {},
   "outputs": [
    {
     "name": "stdout",
     "output_type": "stream",
     "text": [
      "<class 'pandas.core.frame.DataFrame'>\n",
      "Float64Index: 21935 entries, 1985.0 to 2017.0\n",
      "Data columns (total 10 columns):\n",
      "qr        21935 non-null float64\n",
      "roe       21935 non-null float64\n",
      "wcoa      21935 non-null float64\n",
      "reoa      21935 non-null float64\n",
      "eoa       21935 non-null float64\n",
      "edr       21935 non-null float64\n",
      "dd        21935 non-null float64\n",
      "sr        21935 non-null float64\n",
      "vol       21935 non-null float64\n",
      "return    21935 non-null float64\n",
      "dtypes: float64(10)\n",
      "memory usage: 1.8 MB\n"
     ]
    }
   ],
   "source": [
    "df.info()"
   ]
  },
  {
   "cell_type": "code",
   "execution_count": 9,
   "metadata": {},
   "outputs": [],
   "source": [
    "df.index = df.index.astype(int)"
   ]
  },
  {
   "cell_type": "code",
   "execution_count": 10,
   "metadata": {},
   "outputs": [],
   "source": [
    "# defining vars\n",
    "input_vars = [\"qr\", \"roe\", \"wcoa\", \"reoa\", \"eoa\", \"edr\", \"dd\", \"sr\", \"vol\"]\n",
    "target = [\"return\"]"
   ]
  },
  {
   "cell_type": "code",
   "execution_count": 11,
   "metadata": {},
   "outputs": [
    {
     "data": {
      "text/html": [
       "<div>\n",
       "<style scoped>\n",
       "    .dataframe tbody tr th:only-of-type {\n",
       "        vertical-align: middle;\n",
       "    }\n",
       "\n",
       "    .dataframe tbody tr th {\n",
       "        vertical-align: top;\n",
       "    }\n",
       "\n",
       "    .dataframe thead th {\n",
       "        text-align: right;\n",
       "    }\n",
       "</style>\n",
       "<table border=\"1\" class=\"dataframe\">\n",
       "  <thead>\n",
       "    <tr style=\"text-align: right;\">\n",
       "      <th></th>\n",
       "      <th>qr</th>\n",
       "      <th>roe</th>\n",
       "      <th>wcoa</th>\n",
       "      <th>reoa</th>\n",
       "      <th>eoa</th>\n",
       "      <th>edr</th>\n",
       "      <th>dd</th>\n",
       "      <th>sr</th>\n",
       "      <th>vol</th>\n",
       "    </tr>\n",
       "    <tr>\n",
       "      <th>year</th>\n",
       "      <th></th>\n",
       "      <th></th>\n",
       "      <th></th>\n",
       "      <th></th>\n",
       "      <th></th>\n",
       "      <th></th>\n",
       "      <th></th>\n",
       "      <th></th>\n",
       "      <th></th>\n",
       "    </tr>\n",
       "  </thead>\n",
       "  <tbody>\n",
       "    <tr>\n",
       "      <td>1985</td>\n",
       "      <td>6.979253</td>\n",
       "      <td>-0.025060</td>\n",
       "      <td>0.825243</td>\n",
       "      <td>-1.762136</td>\n",
       "      <td>-0.327184</td>\n",
       "      <td>119.490500</td>\n",
       "      <td>1.439205</td>\n",
       "      <td>5.258117</td>\n",
       "      <td>0.639888</td>\n",
       "    </tr>\n",
       "    <tr>\n",
       "      <td>1985</td>\n",
       "      <td>0.366087</td>\n",
       "      <td>0.145088</td>\n",
       "      <td>0.460968</td>\n",
       "      <td>0.430453</td>\n",
       "      <td>0.114718</td>\n",
       "      <td>2.108288</td>\n",
       "      <td>1.017459</td>\n",
       "      <td>2.859285</td>\n",
       "      <td>1.140449</td>\n",
       "    </tr>\n",
       "    <tr>\n",
       "      <td>1985</td>\n",
       "      <td>0.167489</td>\n",
       "      <td>0.009445</td>\n",
       "      <td>0.494797</td>\n",
       "      <td>0.185266</td>\n",
       "      <td>0.138259</td>\n",
       "      <td>15.030330</td>\n",
       "      <td>0.171042</td>\n",
       "      <td>0.477294</td>\n",
       "      <td>4.755013</td>\n",
       "    </tr>\n",
       "    <tr>\n",
       "      <td>1985</td>\n",
       "      <td>0.049812</td>\n",
       "      <td>0.016664</td>\n",
       "      <td>0.321690</td>\n",
       "      <td>0.114644</td>\n",
       "      <td>0.105986</td>\n",
       "      <td>10.288281</td>\n",
       "      <td>1.109971</td>\n",
       "      <td>2.946292</td>\n",
       "      <td>0.678819</td>\n",
       "    </tr>\n",
       "    <tr>\n",
       "      <td>1985</td>\n",
       "      <td>0.926230</td>\n",
       "      <td>0.064134</td>\n",
       "      <td>0.689753</td>\n",
       "      <td>0.170997</td>\n",
       "      <td>0.145380</td>\n",
       "      <td>11.486287</td>\n",
       "      <td>1.360837</td>\n",
       "      <td>2.831762</td>\n",
       "      <td>0.679110</td>\n",
       "    </tr>\n",
       "  </tbody>\n",
       "</table>\n",
       "</div>"
      ],
      "text/plain": [
       "            qr       roe      wcoa      reoa       eoa         edr        dd  \\\n",
       "year                                                                           \n",
       "1985  6.979253 -0.025060  0.825243 -1.762136 -0.327184  119.490500  1.439205   \n",
       "1985  0.366087  0.145088  0.460968  0.430453  0.114718    2.108288  1.017459   \n",
       "1985  0.167489  0.009445  0.494797  0.185266  0.138259   15.030330  0.171042   \n",
       "1985  0.049812  0.016664  0.321690  0.114644  0.105986   10.288281  1.109971   \n",
       "1985  0.926230  0.064134  0.689753  0.170997  0.145380   11.486287  1.360837   \n",
       "\n",
       "            sr       vol  \n",
       "year                      \n",
       "1985  5.258117  0.639888  \n",
       "1985  2.859285  1.140449  \n",
       "1985  0.477294  4.755013  \n",
       "1985  2.946292  0.678819  \n",
       "1985  2.831762  0.679110  "
      ]
     },
     "execution_count": 11,
     "metadata": {},
     "output_type": "execute_result"
    }
   ],
   "source": [
    "# have a look at the 9 independent variables\n",
    "X = df.drop(labels=target, axis=1)\n",
    "X.head()"
   ]
  },
  {
   "cell_type": "code",
   "execution_count": 12,
   "metadata": {},
   "outputs": [
    {
     "data": {
      "text/html": [
       "<div>\n",
       "<style scoped>\n",
       "    .dataframe tbody tr th:only-of-type {\n",
       "        vertical-align: middle;\n",
       "    }\n",
       "\n",
       "    .dataframe tbody tr th {\n",
       "        vertical-align: top;\n",
       "    }\n",
       "\n",
       "    .dataframe thead th {\n",
       "        text-align: right;\n",
       "    }\n",
       "</style>\n",
       "<table border=\"1\" class=\"dataframe\">\n",
       "  <thead>\n",
       "    <tr style=\"text-align: right;\">\n",
       "      <th></th>\n",
       "      <th>return</th>\n",
       "    </tr>\n",
       "    <tr>\n",
       "      <th>year</th>\n",
       "      <th></th>\n",
       "    </tr>\n",
       "  </thead>\n",
       "  <tbody>\n",
       "    <tr>\n",
       "      <td>1985</td>\n",
       "      <td>3.365</td>\n",
       "    </tr>\n",
       "    <tr>\n",
       "      <td>1985</td>\n",
       "      <td>3.261</td>\n",
       "    </tr>\n",
       "    <tr>\n",
       "      <td>1985</td>\n",
       "      <td>2.270</td>\n",
       "    </tr>\n",
       "    <tr>\n",
       "      <td>1985</td>\n",
       "      <td>2.000</td>\n",
       "    </tr>\n",
       "    <tr>\n",
       "      <td>1985</td>\n",
       "      <td>1.923</td>\n",
       "    </tr>\n",
       "  </tbody>\n",
       "</table>\n",
       "</div>"
      ],
      "text/plain": [
       "      return\n",
       "year        \n",
       "1985   3.365\n",
       "1985   3.261\n",
       "1985   2.270\n",
       "1985   2.000\n",
       "1985   1.923"
      ]
     },
     "execution_count": 12,
     "metadata": {},
     "output_type": "execute_result"
    }
   ],
   "source": [
    "# check out the dependent variable\n",
    "y = df.drop(labels=input_vars, axis=1)\n",
    "y.head()"
   ]
  },
  {
   "cell_type": "code",
   "execution_count": 13,
   "metadata": {},
   "outputs": [
    {
     "name": "stderr",
     "output_type": "stream",
     "text": [
      "C:\\dev\\python\\Anaconda3\\envs\\mli3\\lib\\site-packages\\sklearn\\ensemble\\iforest.py:237: FutureWarning: default contamination parameter 0.1 will change in version 0.22 to \"auto\". This will change the predict method behavior.\n",
      "  FutureWarning)\n",
      "C:\\dev\\python\\Anaconda3\\envs\\mli3\\lib\\site-packages\\sklearn\\ensemble\\iforest.py:247: FutureWarning: behaviour=\"old\" is deprecated and will be removed in version 0.22. Please use behaviour=\"new\", which makes the decision_function change to match other anomaly detection algorithm API.\n",
      "  FutureWarning)\n",
      "C:\\dev\\python\\Anaconda3\\envs\\mli3\\lib\\site-packages\\sklearn\\ensemble\\iforest.py:415: DeprecationWarning: threshold_ attribute is deprecated in 0.20 and will be removed in 0.22.\n",
      "  \" be removed in 0.22.\", DeprecationWarning)\n"
     ]
    },
    {
     "data": {
      "text/plain": [
       "2194"
      ]
     },
     "execution_count": 13,
     "metadata": {},
     "output_type": "execute_result"
    }
   ],
   "source": [
    "#  let's make an experiment and automatically detect outliers by means of IsolationForest\n",
    "import time\n",
    "from sklearn.ensemble import IsolationForest\n",
    "start = time.time()\n",
    "    \n",
    "If = IsolationForest()\n",
    "If.fit(X) \n",
    "y_pred = If.predict(X)\n",
    "\n",
    "np.count_nonzero(y_pred == -1)"
   ]
  },
  {
   "cell_type": "code",
   "execution_count": 14,
   "metadata": {},
   "outputs": [
    {
     "name": "stdout",
     "output_type": "stream",
     "text": [
      "#Outliers: 2194\n",
      "#Inliers: 19741\n"
     ]
    }
   ],
   "source": [
    "hist = np.histogram(y_pred, bins=2)\n",
    "print(f\"#Outliers: {hist[0][0]}\\n#Inliers: {hist[0][1]}\")"
   ]
  },
  {
   "cell_type": "code",
   "execution_count": 16,
   "metadata": {},
   "outputs": [
    {
     "data": {
      "image/png": "[encoded data removed]",
      "text/plain": [
       "<Figure size 720x360 with 1 Axes>"
      ]
     },
     "metadata": {
      "needs_background": "light"
     },
     "output_type": "display_data"
    }
   ],
   "source": [
    "import seaborn as sns\n",
    "import matplotlib.pyplot as plt\n",
    "\n",
    "ax = sns.countplot(x = y_pred ,palette=\"Set2\")\n",
    "sns.set(font_scale=1.5)\n",
    "ax.set_xlabel(' ')\n",
    "ax.set_ylabel(' ')\n",
    "fig = plt.gcf()\n",
    "fig.set_size_inches(10,5)\n",
    "ax.set_ylim(top=round(y_pred.shape[0], -len(str(y_pred.shape[0]))+1))\n",
    "for p in ax.patches:\n",
    "    ax.annotate('{:.2f}% ({})'.format(100*p.get_height()/len(y_pred), p.get_height()), \n",
    "                (p.get_x()+ 0.3, p.get_height()+10))\n",
    "\n",
    "plt.title('Distribution of Outlier Detection')\n",
    "plt.xlabel('Pred is (1) if considered inlier, or (-1) if considered outlier')\n",
    "plt.ylabel('Frequency [%]')\n",
    "plt.show()"
   ]
  },
  {
   "cell_type": "markdown",
   "metadata": {},
   "source": [
    "From the plot above we can see that about 10% of the data is considered outlier by the anomaly detection model IsolationForest. We will run experiments with both the entire dataset and just the inlier dataset as determined by the IsolationForest."
   ]
  },
  {
   "cell_type": "code",
   "execution_count": 17,
   "metadata": {},
   "outputs": [
    {
     "data": {
      "text/plain": [
       "(19741, 10)"
      ]
     },
     "execution_count": 17,
     "metadata": {},
     "output_type": "execute_result"
    }
   ],
   "source": [
    "# remove outliers from data\n",
    "df_wo_outliers = df[y_pred == 1]\n",
    "df_wo_outliers.shape"
   ]
  },
  {
   "cell_type": "code",
   "execution_count": 18,
   "metadata": {},
   "outputs": [],
   "source": [
    "from sklearn.model_selection import GridSearchCV\n",
    "from sklearn import metrics\n",
    "from sklearn.metrics import mean_squared_error\n",
    "from sklearn.model_selection import KFold\n",
    "from sklearn.model_selection import train_test_split\n",
    "from sklearn.linear_model import LinearRegression, Lasso, Ridge, ElasticNet\n",
    "from sklearn.preprocessing import StandardScaler\n",
    "\n",
    "# define multiple linear regression models:\n",
    "# 'linReg': multiple linear regression without regularization\n",
    "# 'lasso': multiple linear regression with L1 regularization\n",
    "# 'ridge': multiple linear regression with L2 regularization\n",
    "# 'elnet': multiple linear regression with Elastic Net (=combined L1 and L2) regularization \n",
    "\n",
    "# 1e-15, 1e-10, 1e-8, 1e-4, 1e-3,1e-2, 1, 5, 10, 20\n",
    "# elnet: 1e-10, 1e-8, 1e-4, 1e-3,1e-2, 1, 5, 10\n",
    "\n",
    "num_linspace = 8\n",
    "models_and_parameters = {\n",
    "    'linReg': (LinearRegression(), \n",
    "              {}),  # has no params\n",
    "    'lasso': (Lasso(), \n",
    "              {'alpha': [1]}),  # constant that multiplies the L1 term\n",
    "    'ridge': (Ridge(), \n",
    "              {'alpha': [1]}),  # constant that multiplies the L2 term\n",
    "    'elnet': (ElasticNet(), \n",
    "              # 'alpha': constant that multiplies the penalty terms\n",
    "              {'alpha': [1],  \n",
    "               # 'l1_ratio': the mixing parameter, with 0 <= l1_ratio <= 1.\n",
    "               # if 0 < l1_ratio < 1, then the penalty is a combination of L1 and L2.\n",
    "               # if l1_ratio = 1, then L1 penalty. If l1_ratio = 0, then L2 penaltyy.\n",
    "               'l1_ratio': np.linspace(0.0001, 0.9999, num=num_linspace)})\n",
    "            \n",
    "}\n",
    "\n",
    "SEED = 12345  # will ensure different results on each iteration\n",
    "K_FOLD_NUM = 10\n",
    "REFIT_METRIC = 'MSE'\n",
    "\n",
    "mse_scorer = metrics.make_scorer(mean_squared_error)\n",
    "\n",
    "k_folds = KFold(n_splits=K_FOLD_NUM, random_state=SEED, shuffle=True)"
   ]
  },
  {
   "cell_type": "code",
   "execution_count": 19,
   "metadata": {},
   "outputs": [],
   "source": [
    "# shuffle and split training and test sets\n",
    "X_train, X_test, y_train, y_test = train_test_split(X, y, test_size=.3, random_state=SEED)\n",
    "\n",
    "# scale the data\n",
    "scaler_x = StandardScaler().fit(X_train)\n",
    "X_train = scaler_x.transform(X_train)\n",
    "X_test = scaler_x.transform(X_test)"
   ]
  },
  {
   "cell_type": "markdown",
   "metadata": {},
   "source": [
    "# Linear Regression (no regularization)"
   ]
  },
  {
   "cell_type": "code",
   "execution_count": 20,
   "metadata": {},
   "outputs": [
    {
     "name": "stderr",
     "output_type": "stream",
     "text": [
      "C:\\dev\\python\\Anaconda3\\envs\\mli3\\lib\\site-packages\\sklearn\\model_selection\\_search.py:814: DeprecationWarning: The default of the `iid` parameter will change from True to False in version 0.22 and will be removed in 0.24. This will change numeric results when test-set sizes are unequal.\n",
      "  DeprecationWarning)\n"
     ]
    },
    {
     "data": {
      "text/plain": [
       "GridSearchCV(cv=KFold(n_splits=10, random_state=12345, shuffle=True),\n",
       "             error_score='raise-deprecating',\n",
       "             estimator=LinearRegression(copy_X=True, fit_intercept=True,\n",
       "                                        n_jobs=None, normalize=False),\n",
       "             iid='warn', n_jobs=None, param_grid={}, pre_dispatch='2*n_jobs',\n",
       "             refit='MSE', return_train_score=False,\n",
       "             scoring=make_scorer(mean_squared_error), verbose=0)"
      ]
     },
     "execution_count": 20,
     "metadata": {},
     "output_type": "execute_result"
    }
   ],
   "source": [
    "lin_reg_model = GridSearchCV(estimator=models_and_parameters['linReg'][0], \n",
    "                     param_grid=models_and_parameters['linReg'][1], \n",
    "                     scoring=mse_scorer, \n",
    "                     cv=k_folds, \n",
    "                     refit=REFIT_METRIC)\n",
    "lin_reg_model.fit(X_train, y_train.values.ravel())"
   ]
  },
  {
   "cell_type": "markdown",
   "metadata": {},
   "source": [
    "# Lasso Regression (L1 regularization)"
   ]
  },
  {
   "cell_type": "code",
   "execution_count": 21,
   "metadata": {},
   "outputs": [
    {
     "name": "stderr",
     "output_type": "stream",
     "text": [
      "C:\\dev\\python\\Anaconda3\\envs\\mli3\\lib\\site-packages\\sklearn\\model_selection\\_search.py:814: DeprecationWarning: The default of the `iid` parameter will change from True to False in version 0.22 and will be removed in 0.24. This will change numeric results when test-set sizes are unequal.\n",
      "  DeprecationWarning)\n"
     ]
    },
    {
     "data": {
      "text/plain": [
       "GridSearchCV(cv=KFold(n_splits=10, random_state=12345, shuffle=True),\n",
       "             error_score='raise-deprecating',\n",
       "             estimator=Lasso(alpha=1.0, copy_X=True, fit_intercept=True,\n",
       "                             max_iter=1000, normalize=False, positive=False,\n",
       "                             precompute=False, random_state=None,\n",
       "                             selection='cyclic', tol=0.0001, warm_start=False),\n",
       "             iid='warn', n_jobs=None, param_grid={'alpha': [1]},\n",
       "             pre_dispatch='2*n_jobs', refit='MSE', return_train_score=False,\n",
       "             scoring=make_scorer(mean_squared_error), verbose=0)"
      ]
     },
     "execution_count": 21,
     "metadata": {},
     "output_type": "execute_result"
    }
   ],
   "source": [
    "lasso_model = GridSearchCV(estimator=models_and_parameters['lasso'][0], \n",
    "                     param_grid=models_and_parameters['lasso'][1], \n",
    "                     scoring=mse_scorer, \n",
    "                     cv=k_folds, \n",
    "                     refit=REFIT_METRIC)\n",
    "lasso_model.fit(X_train, y_train.values.ravel())"
   ]
  },
  {
   "cell_type": "markdown",
   "metadata": {},
   "source": [
    "# Ridge Regression (L2 regularization)"
   ]
  },
  {
   "cell_type": "code",
   "execution_count": 22,
   "metadata": {},
   "outputs": [
    {
     "name": "stderr",
     "output_type": "stream",
     "text": [
      "C:\\dev\\python\\Anaconda3\\envs\\mli3\\lib\\site-packages\\sklearn\\model_selection\\_search.py:814: DeprecationWarning: The default of the `iid` parameter will change from True to False in version 0.22 and will be removed in 0.24. This will change numeric results when test-set sizes are unequal.\n",
      "  DeprecationWarning)\n"
     ]
    },
    {
     "data": {
      "text/plain": [
       "GridSearchCV(cv=KFold(n_splits=10, random_state=12345, shuffle=True),\n",
       "             error_score='raise-deprecating',\n",
       "             estimator=Ridge(alpha=1.0, copy_X=True, fit_intercept=True,\n",
       "                             max_iter=None, normalize=False, random_state=None,\n",
       "                             solver='auto', tol=0.001),\n",
       "             iid='warn', n_jobs=None, param_grid={'alpha': [1]},\n",
       "             pre_dispatch='2*n_jobs', refit='MSE', return_train_score=False,\n",
       "             scoring=make_scorer(mean_squared_error), verbose=0)"
      ]
     },
     "execution_count": 22,
     "metadata": {},
     "output_type": "execute_result"
    }
   ],
   "source": [
    "ridge_model = GridSearchCV(estimator=models_and_parameters['ridge'][0], \n",
    "                     param_grid=models_and_parameters['ridge'][1], \n",
    "                     scoring=mse_scorer, \n",
    "                     cv=k_folds, \n",
    "                     refit=REFIT_METRIC)\n",
    "ridge_model.fit(X_train, y_train.values.ravel())"
   ]
  },
  {
   "cell_type": "markdown",
   "metadata": {},
   "source": [
    "# ElasticNet Regression"
   ]
  },
  {
   "cell_type": "code",
   "execution_count": 23,
   "metadata": {},
   "outputs": [
    {
     "name": "stderr",
     "output_type": "stream",
     "text": [
      "C:\\dev\\python\\Anaconda3\\envs\\mli3\\lib\\site-packages\\sklearn\\model_selection\\_search.py:814: DeprecationWarning: The default of the `iid` parameter will change from True to False in version 0.22 and will be removed in 0.24. This will change numeric results when test-set sizes are unequal.\n",
      "  DeprecationWarning)\n"
     ]
    },
    {
     "data": {
      "text/plain": [
       "GridSearchCV(cv=KFold(n_splits=10, random_state=12345, shuffle=True),\n",
       "             error_score='raise-deprecating',\n",
       "             estimator=ElasticNet(alpha=1.0, copy_X=True, fit_intercept=True,\n",
       "                                  l1_ratio=0.5, max_iter=1000, normalize=False,\n",
       "                                  positive=False, precompute=False,\n",
       "                                  random_state=None, selection='cyclic',\n",
       "                                  tol=0.0001, warm_start=False),\n",
       "             iid='warn', n_jobs=None,\n",
       "             param_grid={'alpha': [1],\n",
       "                         'l1_ratio': array([1.00000000e-04, 1.42928571e-01, 2.85757143e-01, 4.28585714e-01,\n",
       "       5.71414286e-01, 7.14242857e-01, 8.57071429e-01, 9.99900000e-01])},\n",
       "             pre_dispatch='2*n_jobs', refit='MSE', return_train_score=False,\n",
       "             scoring=make_scorer(mean_squared_error), verbose=0)"
      ]
     },
     "execution_count": 23,
     "metadata": {},
     "output_type": "execute_result"
    }
   ],
   "source": [
    "elnet_model = GridSearchCV(estimator=models_and_parameters['elnet'][0], \n",
    "                     param_grid=models_and_parameters['elnet'][1], \n",
    "                     scoring=mse_scorer, \n",
    "                     cv=k_folds, \n",
    "                     refit=REFIT_METRIC)\n",
    "elnet_model.fit(X_train, y_train.values.ravel())"
   ]
  },
  {
   "cell_type": "code",
   "execution_count": 24,
   "metadata": {
    "scrolled": true
   },
   "outputs": [
    {
     "name": "stdout",
     "output_type": "stream",
     "text": [
      "Results Linear Regression\n",
      "-------------------------\n",
      "Best params.......: {}\n",
      "Train MSE.........: 570.3700713329953\n",
      "Test MSE..........: 718.3170402374009\n",
      "Best intercept....: 1.2064636576787808\n",
      "Best coefficients.:\n",
      " [-0.00928666 -0.24020117  0.32722486 -0.07266546  0.03822947 -0.06088482\n",
      " -0.16473493  6.17379879  7.18738495]\n",
      "\n",
      "\n",
      "Results Lasso Regression\n",
      "------------------------\n",
      "Best params.......: {'alpha': 1}\n",
      "Train MSE.........: 540.2939327856618\n",
      "Test MSE..........: 739.0982175849905\n",
      "Best intercept....: 1.2064636576787808\n",
      "Best coefficients.:\n",
      " [-0.          0.          0.         -0.         -0.         -0.\n",
      " -0.          5.16859254  6.18566648]\n",
      "\n",
      "\n",
      "Results Ridge Regression\n",
      "------------------------\n",
      "Best params.......: {'alpha': 1}\n",
      "Train MSE.........: 569.0009421143986\n",
      "Test MSE..........: 718.3262299587414\n",
      "Best intercept....: 1.2064636576787808\n",
      "Best coefficients.:\n",
      " [-0.00929032 -0.23809823  0.32498599 -0.07263287  0.0385919  -0.06087113\n",
      " -0.1643886   6.1733912   7.18691833]\n",
      "\n",
      "\n",
      "Results ElasticNet Regression\n",
      "-----------------------------\n",
      "Best params.......: {'alpha': 1, 'l1_ratio': 0.0001}\n",
      "Train MSE.........: 543.1049111084102\n",
      "Test MSE..........: 798.3892842834235\n",
      "Best intercept....: 1.2064636576787806\n",
      "Best coefficients.:\n",
      " [-0.01941524  0.01441996  0.0128509  -0.02805337  0.01652094  0.00644641\n",
      " -0.04395291  3.08135423  3.59037567]\n"
     ]
    }
   ],
   "source": [
    "y_test_pred_linreg = lin_reg_model.best_estimator_.predict(X_test)\n",
    "print(\"Results Linear Regression\")\n",
    "print(\"-------------------------\")\n",
    "print(\"Best params.......:\", lin_reg_model.best_params_)\n",
    "print(\"Train MSE.........:\", lin_reg_model.best_score_)\n",
    "print(f\"Test MSE..........: {mean_squared_error(y_test.values.ravel(), y_test_pred_linreg.ravel())}\")\n",
    "print(\"Best intercept....:\", lin_reg_model.best_estimator_.intercept_)\n",
    "print(\"Best coefficients.:\\n\", lin_reg_model.best_estimator_.coef_)\n",
    "print(\"\\n\")\n",
    "\n",
    "y_test_pred_lasso = lasso_model.best_estimator_.predict(X_test)\n",
    "print(\"Results Lasso Regression\")\n",
    "print(\"------------------------\")\n",
    "print(\"Best params.......:\", lasso_model.best_params_)\n",
    "print(\"Train MSE.........:\", lasso_model.best_score_)\n",
    "print(f\"Test MSE..........: {mean_squared_error(y_test.values.ravel(), y_test_pred_lasso.ravel())}\")\n",
    "print(\"Best intercept....:\", lasso_model.best_estimator_.intercept_)\n",
    "print(\"Best coefficients.:\\n\", lasso_model.best_estimator_.coef_)\n",
    "print(\"\\n\")\n",
    "\n",
    "y_test_pred_ridge = ridge_model.best_estimator_.predict(X_test)\n",
    "print(\"Results Ridge Regression\")\n",
    "print(\"------------------------\")\n",
    "print(\"Best params.......:\", ridge_model.best_params_)\n",
    "print(\"Train MSE.........:\", ridge_model.best_score_)\n",
    "print(f\"Test MSE..........: {mean_squared_error(y_test.values.ravel(), y_test_pred_ridge.ravel())}\")\n",
    "print(\"Best intercept....:\", ridge_model.best_estimator_.intercept_)\n",
    "print(\"Best coefficients.:\\n\", ridge_model.best_estimator_.coef_)\n",
    "print(\"\\n\")\n",
    "\n",
    "y_test_pred_elnet = elnet_model.best_estimator_.predict(X_test)\n",
    "print(\"Results ElasticNet Regression\")\n",
    "print(\"-----------------------------\")\n",
    "print(\"Best params.......:\", elnet_model.best_params_)\n",
    "print(\"Train MSE.........:\", elnet_model.best_score_)\n",
    "print(f\"Test MSE..........: {mean_squared_error(y_test.values.ravel(), y_test_pred_elnet.ravel())}\")\n",
    "print(\"Best intercept....:\", elnet_model.best_estimator_.intercept_)\n",
    "print(\"Best coefficients.:\\n\", elnet_model.best_estimator_.coef_)"
   ]
  },
  {
   "cell_type": "code",
   "execution_count": 47,
   "metadata": {},
   "outputs": [
    {
     "data": {
      "image/png": "[encoded data removed]",
      "text/plain": [
       "<Figure size 864x576 with 1 Axes>"
      ]
     },
     "metadata": {},
     "output_type": "display_data"
    }
   ],
   "source": [
    "plt.rcParams['figure.figsize'] = [12, 8]\n",
    "plt.plot(lin_reg_model.best_estimator_.coef_,alpha=0.7,linestyle='none',marker='+',markersize=5,color='red',label=r'Linear Regression',zorder=7)\n",
    "plt.plot(lasso_model.best_estimator_.coef_,alpha=0.6,linestyle='none',marker='d',markersize=6,color='blue',label=r'Lasso; $\\alpha = 1$')\n",
    "plt.plot(ridge_model.best_estimator_.coef_,alpha=0.5,linestyle='none',marker='o',markersize=7,color='green',label=r'Ridge; $\\alpha = 1$')\n",
    "plt.plot(elnet_model.best_estimator_.coef_,alpha=0.4,linestyle='none',marker='<',markersize=7,color='magenta',label=r'ElasticNet $\\alpha = 1, l_1-{ratio}: 0.0001$')\n",
    "plt.xlabel('Coefficient Index',fontsize=16)\n",
    "plt.ylabel('Coefficient Magnitude',fontsize=16)\n",
    "plt.legend(fontsize=13,loc=0)\n",
    "plt.show()"
   ]
  },
  {
   "cell_type": "code",
   "execution_count": 48,
   "metadata": {},
   "outputs": [
    {
     "data": {
      "text/plain": [
       "array([ 3.66492656e-06, -2.10294066e-03,  2.23887636e-03, -3.25986763e-05,\n",
       "       -3.62426357e-04, -1.36885200e-05, -3.46339533e-04,  4.07581430e-04,\n",
       "        4.66621327e-04])"
      ]
     },
     "execution_count": 48,
     "metadata": {},
     "output_type": "execute_result"
    }
   ],
   "source": [
    "diff_linreg_ridge_coef = lin_reg_model.best_estimator_.coef_ - ridge_model.best_estimator_.coef_\n",
    "diff_linreg_ridge_coef"
   ]
  },
  {
   "cell_type": "code",
   "execution_count": 49,
   "metadata": {},
   "outputs": [
    {
     "data": {
      "text/plain": [
       "array([ 0.01012858, -0.25462113,  0.31437396, -0.0446121 ,  0.02170854,\n",
       "       -0.06733123, -0.12078203,  3.09244456,  3.59700928])"
      ]
     },
     "execution_count": 49,
     "metadata": {},
     "output_type": "execute_result"
    }
   ],
   "source": [
    "diff_linreg_elnet_coef = lin_reg_model.best_estimator_.coef_ - elnet_model.best_estimator_.coef_\n",
    "diff_linreg_elnet_coef"
   ]
  },
  {
   "cell_type": "markdown",
   "metadata": {},
   "source": [
    "# Questions to Answer:\n",
    "\n",
    "### 1) Describe how the results change when you add each of the regularization techniques\n",
    "Linear Regression is our baseline. From the chart above we notice that coefficient 7 and 8 are highest implying that features 8 and 9 from the dataset seem to be most predictive of the target (i.e. are selected by the model for prediction). The other coefficients are close to zero and seem only contributing in a non-significant way.\n",
    "\n",
    "Considering Lasso (L1) regression with alpha = 1, we see that all but the last two coefficents are zero, thus not being considered at all by the model. Further, the last two coefficents are smaller than with linear regression.\n",
    "\n",
    "With Ridge (L2) regression, the coefficients change only marginally when using alpha = 1.\n",
    "\n",
    "With ElasticNet however, the coefficients are squashed towards zero, yet all coefficients remain non-zero and still contribute to the target prediction.\n",
    "\n",
    "### 2) Which variables change with L1, L2 and Elastic Net regressions and why?\n",
    "L1: variables/coefficients 0-6 become zero, 7 and 8 become reduced. The largest coefficients 7 and 8 change the most (reduced) because the model gets penalized the most when it increases those during fitting.\n",
    "\n",
    "L2: all coefficients change only marginally, the numerical differences are shown above. \n",
    "\n",
    "ElasticNet: coefficients 7 and 8 change significantly while the remaining are changed only marginally. It is due to the combination of L1 and L2 penalties.\n",
    "\n",
    "\n",
    "### 3) How did you determine to set the p parameter for L1 and L2 regressions and the λ parameters for the Elastic Net?\n",
    "We first performed a grid search with a range of values where we acquired a basic intuition for sensible values (using MSE as the metric). Later we set with alpha = 1 (i.e. p) to have a baseline value with which to compare the models. The λ values of 0.0001 also stems from the grid search.\n",
    "\n",
    "\n",
    "### 4) What are the advantages and disadvantages of each of the regularization techniques and how are they reflected in your results?\n",
    "With L1 we clearly see which coefficients and features, respectively, are used by the model for fitting. Thus it can serve us in feature selection or at least to give a first intuition which features are most predictive of the target.\n",
    "\n",
    "L2 helps to shrink the coefficients and thereby to reduce the model complexity.\n",
    "\n",
    "ElasticNet: combines L1 and L2.\n"
   ]
  }
 ],
 "metadata": {
  "kernelspec": {
   "display_name": "Python 3",
   "language": "python",
   "name": "python3"
  },
  "language_info": {
   "codemirror_mode": {
    "name": "ipython",
    "version": 3
   },
   "file_extension": ".py",
   "mimetype": "text/x-python",
   "name": "python",
   "nbconvert_exporter": "python",
   "pygments_lexer": "ipython3",
   "version": "3.6.9"
  }
 },
 "nbformat": 4,
 "nbformat_minor": 2
}
