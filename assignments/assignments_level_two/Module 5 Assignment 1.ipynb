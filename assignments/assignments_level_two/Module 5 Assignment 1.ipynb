{
 "cells": [
  {
   "cell_type": "markdown",
   "metadata": {},
   "source": [
    "# Financial Cliff Walking Problem"
   ]
  },
  {
   "cell_type": "markdown",
   "metadata": {},
   "source": [
    "Consider an over simplified model of household finance. Let $S_t$ be the amount of money a household has at time $t$. We assume for simplicity that $S_t$ can only take values in a discrete set $\\large{\\{S^{(i)}\\}_{i=0}^{N-1}}$. The account has to be maintained for $T$ time steps, after which it should be closed. So $T$ is the planning horizon. The zero-level $S^{(0)}=0$ is a bankruptcy level - it has to be avoided as reaching it means inability to pay on household liabilities. At each step, the agent can deposit to the account $S^{(i)} \\rightarrow S^{(i+1)}$ (action $a_+$), withdraw from the account $S^{(i)} \\rightarrow S^{(i-1)}$, (action $a_-$), or keep the same amount $S^{(i)} \\rightarrow S^{(i)}$, (action $a_0$). The initial amount in the account is zero. For any step before the final step $T$, if the agent moves to the zero level  $S_0 = 0$, it gets a negative reward of $-100$, and the episode terminates. Otherwise, it continues for all $T$ steps. Any action not leading to the zero level gets a negative reward of $-1$. At the terminal time, if the final state is $S_T>0$, the reward is $-10$, but if the account goes back to zero exactly at time $T$, i.e. $S_T=0$, then the last action gets a positive reward of $+10$. The learning task is to maximize the totwal reward over $T$ time steps. The RL agent has to learn the optimal depository policy online by trying different actions during a training episode. Note that while this is a time-dependent problem, we can map it on to a stationary problem with an episodic task and a target state, such as the original cliff walking problem in Sutton-Barto."
   ]
  },
  {
   "cell_type": "markdown",
   "metadata": {},
   "source": [
    "<img src=\"The-cliff-walking-task.jpg\">"
   ]
  },
  {
   "cell_type": "markdown",
   "metadata": {},
   "source": [
    "### Import some libraries"
   ]
  },
  {
   "cell_type": "code",
   "execution_count": 1,
   "metadata": {},
   "outputs": [],
   "source": [
    "import numpy as np\n",
    "import matplotlib\n",
    "matplotlib.use('Agg')\n",
    "import matplotlib.pyplot as plt \n",
    "%matplotlib inline\n",
    "\n",
    "#Tqdm is used to show nice progress bars while the RL agent is going through its learning process.\n",
    "from tqdm import tqdm \n",
    "\n",
    "#To ignore warnings that are annoying.\n",
    "import warnings\n",
    "warnings.filterwarnings('ignore')"
   ]
  },
  {
   "cell_type": "markdown",
   "metadata": {},
   "source": [
    "## Set Up"
   ]
  },
  {
   "cell_type": "markdown",
   "metadata": {},
   "source": [
    "We assume $N=4$ values of possible funds in the account, and assume $T=12$ time steps. All combinations of state and time can then be represented as a two-dimensional grid of size $N\\times T = 4\\times 12$. A time dependent action value function $Q_t\\left( s_t, a_t\\right)$ with three possible actions, $a_t = \\left\\{a_+, a_-, a_0\\right\\}$, can then be stored as a rank three tensor of dimension $4\\times 12 \\times 3$."
   ]
  },
  {
   "cell_type": "markdown",
   "metadata": {},
   "source": [
    "#### Setting up some global parameters"
   ]
  },
  {
   "cell_type": "code",
   "execution_count": 2,
   "metadata": {},
   "outputs": [],
   "source": [
    "# N - World height\n",
    "# T - World width\n",
    "WORLD_HEIGHT = 4\n",
    "WORLD_WIDTH = 12"
   ]
  },
  {
   "cell_type": "code",
   "execution_count": 3,
   "metadata": {},
   "outputs": [],
   "source": [
    "# Probability for exploration - epsilon\n",
    "EPSILON = 0.99\n",
    "# Step size\n",
    "ALPHA = 0.01\n",
    "# Gamma - discount factor - for Q-Learning, Sarsa and Expected Sarsa\n",
    "GAMMA = 1"
   ]
  },
  {
   "cell_type": "code",
   "execution_count": 4,
   "metadata": {},
   "outputs": [],
   "source": [
    "# Actions - ACTION_UP is a+ (adding a deposit), ACTION_DOWN is a-(redeeming a deposit) and \n",
    "# ACTION_ZERO is a0 (leaving the account as it is).\n",
    "ACTION_UP = 1\n",
    "ACTION_DOWN = 2\n",
    "ACTION_ZERO = 0\n",
    "ACTIONS = [ACTION_UP, ACTION_DOWN, ACTION_ZERO]"
   ]
  },
  {
   "cell_type": "code",
   "execution_count": 6,
   "metadata": {},
   "outputs": [],
   "source": [
    "# Initial and Goal states\n",
    "START = [0, 0]\n",
    "GOAL = [0, WORLD_WIDTH-1]"
   ]
  },
  {
   "cell_type": "markdown",
   "metadata": {},
   "source": [
    "#### Setting up the environment"
   ]
  },
  {
   "cell_type": "code",
   "execution_count": 7,
   "metadata": {},
   "outputs": [],
   "source": [
    "# Step function that describes how the next state is obtained from the current state and the action \n",
    "# taken. The function returns the next state and the reward obtained.\n",
    "def step(state, action):\n",
    "    i, j = state\n",
    "\n",
    "    if action == ACTION_UP:\n",
    "        next_state = [min(i + 1, WORLD_HEIGHT-1), min(j + 1, WORLD_WIDTH - 1)]\n",
    "    elif action == ACTION_DOWN:\n",
    "        next_state = [max(i - 1, 0), min(j + 1, WORLD_WIDTH - 1)]\n",
    "    elif action == ACTION_ZERO:\n",
    "        next_state = [i, min(j + 1, WORLD_WIDTH - 1)]\n",
    "    else:\n",
    "        assert False\n",
    "    \n",
    "    # The reward is -1 for actions ACTION_UP and ACTION_DOWN. This is done to keep transactions to a minimum.\n",
    "    reward = -1\n",
    "    \n",
    "    # ACTION_ZERO gets a zero reward since we want to minimize the number of transactions\n",
    "    if action == ACTION_ZERO:\n",
    "        reward = 0\n",
    "    \n",
    "    # Exceptions are \n",
    "    # i) If bankruptcy happens before WORLD_WIDTH time steps\n",
    "    # ii) No deposit at initial state\n",
    "    # iii) Redemption at initial state!\n",
    "    # iv) Any action carried out from a bankrupt state\n",
    "    if ((action == ACTION_DOWN and i == 1 and 1 <= j < 10) or (\n",
    "        action == ACTION_ZERO and state == START) or (\n",
    "        action == ACTION_DOWN and state == START )) or (\n",
    "        i == 0 and 1 <= j <= 10):    \n",
    "            reward = -100\n",
    "        \n",
    "    # Next exception is when we get to the final time step.\n",
    "    if (next_state[1] == WORLD_WIDTH - 1): \n",
    "        if (next_state[0] == 0): # Action resulted in ending with zero balance in final time step\n",
    "            reward = 10\n",
    "        else:\n",
    "            reward = -10   \n",
    "        \n",
    "    return next_state, reward"
   ]
  },
  {
   "cell_type": "code",
   "execution_count": 12,
   "metadata": {},
   "outputs": [
    {
     "name": "stdout",
     "output_type": "stream",
     "text": [
      "([1, 1], -1)\n",
      "([0, 1], -100)\n",
      "([2, 2], -1)\n",
      "([0, 2], -100)\n",
      "([0, 1], -1)\n",
      "([2, 1], -1)\n",
      "([1, 1], 0)\n"
     ]
    }
   ],
   "source": [
    "# Check some state, action pairs and the associated reward\n",
    "print(step([0,0], ACTION_UP))\n",
    "print(step([0,0], ACTION_DOWN))\n",
    "print(step([1,1], ACTION_UP))\n",
    "print(step([1,1], ACTION_DOWN))\n",
    "print(step([1,0], ACTION_DOWN)) \n",
    "print(step([1,0], ACTION_UP)) \n",
    "print(step([1,0], ACTION_ZERO)) "
   ]
  },
  {
   "cell_type": "markdown",
   "metadata": {},
   "source": [
    "#### Set up the agent's action"
   ]
  },
  {
   "cell_type": "code",
   "execution_count": 8,
   "metadata": {},
   "outputs": [],
   "source": [
    "# TODO 29.3 at work...\n",
    "\n",
    "# Choose an action based on epsilon greedy algorithm\n",
    "def choose_action(state, q_value, eps=EPSILON):\n",
    "    if np.random.binomial(1, eps) == 1:\n",
    "        action = np.random.choice(ACTIONS)\n",
    "    else:\n",
    "        values_ = q_value[state[0], state[1], :]\n",
    "        action = np.random.choice([action_ for action_, value_ in enumerate(values_) \n",
    "                                 if value_ == np.max(values_)])\n",
    "    # From bankrupt state there is no meaningful action, so we will assign 'Z' by convention.\n",
    "    if state[0] == 0 and state[1] > 0:\n",
    "        action = ACTION_ZERO\n",
    "    return action\n",
    "    "
   ]
  },
  {
   "cell_type": "code",
   "execution_count": 9,
   "metadata": {},
   "outputs": [
    {
     "data": {
      "text/plain": [
       "0"
      ]
     },
     "execution_count": 9,
     "metadata": {},
     "output_type": "execute_result"
    }
   ],
   "source": [
    "#Check soeme of the actions\n",
    "q_value = np.zeros((WORLD_HEIGHT, WORLD_WIDTH, len(ACTIONS)))\n",
    "choose_action([0, 2], q_value, EPSILON)"
   ]
  },
  {
   "cell_type": "markdown",
   "metadata": {},
   "source": [
    "#### Set up the learning algorithms"
   ]
  },
  {
   "cell_type": "markdown",
   "metadata": {},
   "source": [
    "##### Sarsa and Expected Sarsa"
   ]
  },
  {
   "cell_type": "code",
   "execution_count": 10,
   "metadata": {},
   "outputs": [],
   "source": [
    "# An episode with Sarsa\n",
    "# @q_value: values for state action pair, will be updated\n",
    "# @expected: if True, will use expected Sarsa algorithm\n",
    "# @step_size: step size for updating\n",
    "# @return: total rewards within this episode\n",
    "def sarsa(q_value, expected=False, step_size=ALPHA, eps=EPSILON):\n",
    "    state = START\n",
    "    action = choose_action(state, q_value,eps)\n",
    "    rewards = 0.0\n",
    "#     print('In sarsa: action = ', action)\n",
    "    while (state[1] != WORLD_WIDTH-1) and not(1 <= state[1] <= 10 and state[0]==0): #why not start with one\n",
    "        next_state, reward = step(state, action)\n",
    "        next_action = choose_action(next_state, q_value, eps)\n",
    "        rewards += reward\n",
    "        if not expected:\n",
    "            target = q_value[next_state[0], next_state[1], next_action]\n",
    "        else:\n",
    "            # calculate the expected value of new state\n",
    "            target = 0.0\n",
    "            q_next = q_value[next_state[0], next_state[1], :]\n",
    "            best_actions = np.argwhere(q_next == np.max(q_next))\n",
    "            for action_ in ACTIONS:\n",
    "                if action_ in best_actions:\n",
    "                    target += ((1.0 - eps) / len(best_actions) \n",
    "                               + eps / len(ACTIONS)) * q_value[next_state[0], next_state[1], action_]\n",
    "                else:\n",
    "                    target += eps / len(ACTIONS) * q_value[next_state[0], next_state[1], action_]\n",
    "        target *= GAMMA\n",
    "        q_value[state[0], state[1], action] += step_size * (\n",
    "                reward + target - q_value[state[0], state[1], action])\n",
    "        state = next_state\n",
    "        action = next_action\n",
    "    return rewards"
   ]
  },
  {
   "cell_type": "markdown",
   "metadata": {},
   "source": [
    "##### Q-learning"
   ]
  },
  {
   "cell_type": "code",
   "execution_count": 11,
   "metadata": {},
   "outputs": [],
   "source": [
    "# An episode with Q-Learning\n",
    "# @q_value: values for state action pair, will be updated\n",
    "# @step_size: step size for updating\n",
    "# @return: total rewards within this episode\n",
    "def q_learning(q_value, step_size=ALPHA, eps=EPSILON):\n",
    "    state = START\n",
    "    rewards = 0.0\n",
    "    while state[1] != WORLD_WIDTH-1 and not(1 <= state[1] <= 10 and state[0]==0):\n",
    "        action = choose_action(state, q_value, eps)\n",
    "        next_state, reward = step(state, action)\n",
    "        rewards += reward\n",
    "        # Q-Learning update\n",
    "        q_value[state[0], state[1], action] += step_size * (\n",
    "                reward + GAMMA * np.max(q_value[next_state[0], next_state[1], :]) -\n",
    "                q_value[state[0], state[1], action])\n",
    "        state = next_state\n",
    "    return rewards\n"
   ]
  },
  {
   "cell_type": "markdown",
   "metadata": {},
   "source": [
    "##### Printing output of the learned policy"
   ]
  },
  {
   "cell_type": "code",
   "execution_count": 12,
   "metadata": {},
   "outputs": [],
   "source": [
    "# Print optimal policy\n",
    "def print_optimal_policy(q_value):\n",
    "    optimal_policy = []\n",
    "    for i in range(WORLD_HEIGHT-1, -1, -1):\n",
    "        optimal_policy.append([])\n",
    "        for j in range(0, WORLD_WIDTH):\n",
    "            if [i, j] == GOAL:\n",
    "                optimal_policy[-1].append('G')\n",
    "                continue\n",
    "            bestAction = np.argmax(q_value[i, j, :])\n",
    "            \n",
    "            # Action in bankrupt state has been set as Z\n",
    "            if i == 0 and j > 0 and j < WORLD_WIDTH-1:\n",
    "                optimal_policy[-1].append('Z')\n",
    "            elif bestAction == ACTION_UP:\n",
    "                # When i = WORLDHEIGHT - 1, U and Z are identical, so we will use Z\n",
    "                if i == WORLD_HEIGHT-1:\n",
    "                    optimal_policy[-1].append('Z')\n",
    "                else:\n",
    "                    optimal_policy[-1].append('U')\n",
    "            elif bestAction == ACTION_DOWN:\n",
    "                optimal_policy[-1].append('D')\n",
    "            elif bestAction == ACTION_ZERO:\n",
    "                optimal_policy[-1].append('Z')\n",
    "            \n",
    "            \n",
    "    for row in optimal_policy:\n",
    "        print(row)"
   ]
  },
  {
   "cell_type": "markdown",
   "metadata": {},
   "source": [
    "#### Set up the epsilon decay"
   ]
  },
  {
   "cell_type": "markdown",
   "metadata": {},
   "source": [
    "- We will use the decreasing epsison when increasing episode\n",
    "- The epsilon should strives to zero in order for the q-value function to converge to the optimal q-value function in SARSA algorithm\n",
    "- The following figure demonstrates the exponetial decay we are going to use"
   ]
  },
  {
   "cell_type": "code",
   "execution_count": 21,
   "metadata": {},
   "outputs": [
    {
     "data": {
      "text/plain": [
       "<matplotlib.text.Text at 0x26be3b48a58>"
      ]
     },
     "execution_count": 21,
     "metadata": {},
     "output_type": "execute_result"
    },
    {
     "data": {
      "image/png": "[encoded data removed]",
      "text/plain": [
       "<matplotlib.figure.Figure at 0x26be4cbf320>"
      ]
     },
     "metadata": {
      "needs_background": "light"
     },
     "output_type": "display_data"
    }
   ],
   "source": [
    "plt.plot([ EPSILON**(i//5) for i in range(2000)])\n",
    "plt.xlabel('Episode')\n",
    "plt.ylabel('Epsilone')"
   ]
  },
  {
   "cell_type": "markdown",
   "metadata": {},
   "source": [
    "### Running Sarsa and Q-learning "
   ]
  },
  {
   "cell_type": "code",
   "execution_count": 22,
   "metadata": {},
   "outputs": [],
   "source": [
    "# Use multiple runs instead of a single run and a sliding window\n",
    "# With a single run I failed to present a smooth curve\n",
    "# However the optimal policy converges well with a single run\n",
    "# Sarsa converges to the safe path, while Q-Learning converges to the optimal path\n",
    "def figure_6_4():\n",
    "    # episodes of each run\n",
    "    episodes = 2000\n",
    "    EPOCH = 5\n",
    "\n",
    "    # perform 100 independent runs\n",
    "    runs = 100\n",
    "\n",
    "    rewards_sarsa = np.zeros(episodes)\n",
    "    rewards_q_learning = np.zeros(episodes)\n",
    "    for r in tqdm(range(runs)):\n",
    "        q_sarsa = np.zeros((WORLD_HEIGHT, WORLD_WIDTH, len(ACTIONS)))\n",
    "        q_q_learning = np.copy(q_sarsa)\n",
    "        for i in range(0, episodes):\n",
    "            eps = EPSILON**(i//EPOCH)#EPSILON*((1-EPSILON)**(i//EPOCH))\n",
    "            rewards_sarsa[i] += sarsa(q_sarsa,eps=eps)\n",
    "            rewards_q_learning[i] += q_learning(q_q_learning, eps=eps)\n",
    "\n",
    "    # averaging over independt runs\n",
    "    rewards_sarsa /= runs\n",
    "    rewards_q_learning /= runs\n",
    "\n",
    "    # draw reward curves\n",
    "    plt.plot(rewards_sarsa, label='Sarsa')\n",
    "    plt.plot(rewards_q_learning, label='Q-Learning')\n",
    "    plt.xlabel('Episodes')\n",
    "    plt.ylabel('Sum of rewards during episode')\n",
    "    plt.ylim([-100, 11])\n",
    "    plt.legend()\n",
    "#     Uncomment to save the figures\n",
    "#     plt.savefig('../images/figure_6_4.png')\n",
    "#     plt.close()\n",
    "\n",
    "    # display optimal policy\n",
    "    print('Sarsa Optimal Policy:')\n",
    "    print_optimal_policy(q_sarsa)\n",
    "    print('Q-Learning Optimal Policy:')\n",
    "    print_optimal_policy(q_q_learning)\n",
    "    return q_sarsa, q_q_learning"
   ]
  },
  {
   "cell_type": "markdown",
   "metadata": {},
   "source": [
    "### Running Sarsa, Expected Sarsa and Q-learning to compare their asymptotic behavior"
   ]
  },
  {
   "cell_type": "code",
   "execution_count": 15,
   "metadata": {},
   "outputs": [],
   "source": [
    "# With 100,000 episodes and 50,000 runs to get the fully averaged performance\n",
    "# However even for 1,000 episodes and 10 runs, the curves looks still good.\n",
    "def figure_6_6():\n",
    "    step_sizes = np.arange(0.001, 0.25, 0.04)\n",
    "    episodes = 4000\n",
    "    runs = 20\n",
    "\n",
    "    ASY_SARSA = 0\n",
    "    ASY_EXPECTED_SARSA = 1\n",
    "    ASY_QLEARNING = 2\n",
    "    INT_SARSA = 3\n",
    "    INT_EXPECTED_SARSA = 4\n",
    "    INT_QLEARNING = 5\n",
    "    methods = range(0, 6)\n",
    "\n",
    "    performace = np.zeros((6, len(step_sizes)))\n",
    "    for run in range(runs):\n",
    "        for ind, step_size in tqdm(list(zip(range(0, len(step_sizes)), step_sizes))):\n",
    "            q_sarsa = np.zeros((WORLD_HEIGHT, WORLD_WIDTH, len(ACTIONS)))\n",
    "            q_expected_sarsa = np.copy(q_sarsa)\n",
    "            q_q_learning = np.copy(q_sarsa)\n",
    "            for ep in range(episodes):\n",
    "                sarsa_reward = sarsa(q_sarsa, expected=False, step_size=step_size)\n",
    "                expected_sarsa_reward = sarsa(q_expected_sarsa, expected=True, step_size=step_size)\n",
    "                q_learning_reward = q_learning(q_q_learning, step_size=step_size)\n",
    "                performace[ASY_SARSA, ind] += sarsa_reward\n",
    "                performace[ASY_EXPECTED_SARSA, ind] += expected_sarsa_reward\n",
    "                performace[ASY_QLEARNING, ind] += q_learning_reward\n",
    "\n",
    "                if ep < 100:\n",
    "                    performace[INT_SARSA, ind] += sarsa_reward\n",
    "                    performace[INT_EXPECTED_SARSA, ind] += expected_sarsa_reward\n",
    "                    performace[INT_QLEARNING, ind] += q_learning_reward\n",
    "\n",
    "    performace[:3, :] /= episodes * runs\n",
    "    performace[3:, :] /= 100 * runs\n",
    "    labels = ['Asymptotic Sarsa', 'Asymptotic Expected Sarsa', 'Asymptotic Q-Learning',\n",
    "              'Interim Sarsa', 'Interim Expected Sarsa', 'Interim Q-Learning']\n",
    "\n",
    "    for method, label in zip(methods, labels):\n",
    "        plt.plot(step_sizes, performace[method, :], label=label)\n",
    "    plt.xlabel('alpha')\n",
    "    plt.ylabel('reward per episode')\n",
    "    plt.legend()\n",
    "#     Uncomment to save the figures\n",
    "#     plt.savefig('../images/figure_6_6.png')\n",
    "#     plt.close()"
   ]
  },
  {
   "cell_type": "markdown",
   "metadata": {},
   "source": [
    "#### Start the runs"
   ]
  },
  {
   "cell_type": "code",
   "execution_count": 16,
   "metadata": {
    "scrolled": false
   },
   "outputs": [
    {
     "name": "stderr",
     "output_type": "stream",
     "text": [
      "100%|████████████████████████████████████████████████████████████████████████████████| 100/100 [04:37<00:00,  2.69s/it]\n"
     ]
    },
    {
     "name": "stdout",
     "output_type": "stream",
     "text": [
      "Sarsa Optimal Policy:\n",
      "['Z', 'Z', 'Z', 'Z', 'Z', 'Z', 'Z', 'Z', 'Z', 'Z', 'Z', 'Z']\n",
      "['Z', 'Z', 'Z', 'Z', 'Z', 'Z', 'Z', 'Z', 'Z', 'D', 'Z', 'Z']\n",
      "['Z', 'Z', 'Z', 'Z', 'Z', 'Z', 'Z', 'Z', 'Z', 'Z', 'D', 'Z']\n",
      "['U', 'Z', 'Z', 'Z', 'Z', 'Z', 'Z', 'Z', 'Z', 'Z', 'Z', 'G']\n",
      "Q-Learning Optimal Policy:\n",
      "['Z', 'Z', 'Z', 'Z', 'Z', 'Z', 'Z', 'Z', 'Z', 'Z', 'Z', 'Z']\n",
      "['Z', 'Z', 'Z', 'Z', 'Z', 'Z', 'Z', 'Z', 'Z', 'D', 'Z', 'Z']\n",
      "['Z', 'Z', 'Z', 'Z', 'Z', 'Z', 'Z', 'Z', 'Z', 'Z', 'D', 'Z']\n",
      "['U', 'Z', 'Z', 'Z', 'Z', 'Z', 'Z', 'Z', 'Z', 'Z', 'Z', 'G']\n"
     ]
    },
    {
     "data": {
      "image/png": "[encoded data removed]",
      "text/plain": [
       "<matplotlib.figure.Figure at 0x221ed279ba8>"
      ]
     },
     "metadata": {
      "needs_background": "light"
     },
     "output_type": "display_data"
    }
   ],
   "source": [
    "#Epsilon = 0.1; EPOCH = 40; eps = EPSILON*((1-EPSILON)**(i//EPOCH))\n",
    "figure_6_4()\n",
    "plt.show()"
   ]
  },
  {
   "cell_type": "code",
   "execution_count": 23,
   "metadata": {},
   "outputs": [
    {
     "name": "stderr",
     "output_type": "stream",
     "text": [
      "100%|████████████████████████████████████████████████████████████████████████████████| 100/100 [03:10<00:00,  1.90s/it]\n"
     ]
    },
    {
     "name": "stdout",
     "output_type": "stream",
     "text": [
      "Sarsa Optimal Policy:\n",
      "['Z', 'Z', 'Z', 'Z', 'Z', 'Z', 'Z', 'Z', 'Z', 'D', 'Z', 'Z']\n",
      "['Z', 'Z', 'Z', 'Z', 'Z', 'Z', 'Z', 'Z', 'Z', 'D', 'Z', 'Z']\n",
      "['Z', 'Z', 'Z', 'Z', 'Z', 'Z', 'Z', 'Z', 'Z', 'Z', 'D', 'Z']\n",
      "['U', 'Z', 'Z', 'Z', 'Z', 'Z', 'Z', 'Z', 'Z', 'Z', 'Z', 'G']\n",
      "Q-Learning Optimal Policy:\n",
      "['Z', 'Z', 'Z', 'Z', 'Z', 'Z', 'Z', 'Z', 'Z', 'Z', 'Z', 'Z']\n",
      "['Z', 'Z', 'Z', 'Z', 'Z', 'Z', 'Z', 'Z', 'Z', 'D', 'U', 'Z']\n",
      "['Z', 'Z', 'Z', 'Z', 'Z', 'Z', 'Z', 'Z', 'Z', 'Z', 'D', 'Z']\n",
      "['U', 'Z', 'Z', 'Z', 'Z', 'Z', 'Z', 'Z', 'Z', 'Z', 'Z', 'G']\n"
     ]
    },
    {
     "data": {
      "image/png": "[encoded data removed]",
      "text/plain": [
       "<matplotlib.figure.Figure at 0x26be4c6fa58>"
      ]
     },
     "metadata": {
      "needs_background": "light"
     },
     "output_type": "display_data"
    }
   ],
   "source": [
    "#Epsilon = 0.99; EPOCH = 5; eps = EPSILON**(i//EPOCH))\n",
    "figure_6_4()\n",
    "plt.show()"
   ]
  },
  {
   "cell_type": "code",
   "execution_count": 22,
   "metadata": {},
   "outputs": [
    {
     "name": "stderr",
     "output_type": "stream",
     "text": [
      "\n",
      "\n",
      "  0%|                                                                                            | 0/7 [00:00<?, ?it/s]\n",
      "\n",
      " 14%|████████████                                                                        | 1/7 [00:09<00:57,  9.52s/it]\n",
      "\n",
      " 29%|████████████████████████                                                            | 2/7 [00:18<00:46,  9.31s/it]\n",
      "\n",
      " 43%|████████████████████████████████████                                                | 3/7 [00:29<00:39,  9.77s/it]\n",
      "\n",
      " 57%|████████████████████████████████████████████████                                    | 4/7 [00:38<00:29,  9.71s/it]\n",
      "\n",
      " 71%|████████████████████████████████████████████████████████████                        | 5/7 [00:49<00:20, 10.09s/it]\n",
      "\n",
      " 86%|████████████████████████████████████████████████████████████████████████            | 6/7 [00:59<00:09,  9.97s/it]\n",
      "\n",
      "100%|████████████████████████████████████████████████████████████████████████████████████| 7/7 [01:12<00:00, 10.82s/it]\n",
      "\n",
      "  0%|                                                                                            | 0/7 [00:00<?, ?it/s]\n",
      "\n",
      " 14%|████████████                                                                        | 1/7 [00:10<01:04, 10.78s/it]\n",
      "\n",
      " 29%|████████████████████████                                                            | 2/7 [00:20<00:52, 10.46s/it]\n",
      "\n",
      " 43%|████████████████████████████████████                                                | 3/7 [00:29<00:40, 10.04s/it]\n",
      "\n",
      " 57%|████████████████████████████████████████████████                                    | 4/7 [00:40<00:30, 10.21s/it]\n",
      "\n",
      " 71%|████████████████████████████████████████████████████████████                        | 5/7 [00:50<00:20, 10.36s/it]\n",
      "\n",
      " 86%|████████████████████████████████████████████████████████████████████████            | 6/7 [01:01<00:10, 10.36s/it]\n",
      "\n",
      "100%|████████████████████████████████████████████████████████████████████████████████████| 7/7 [01:11<00:00, 10.31s/it]\n",
      "\n",
      "  0%|                                                                                            | 0/7 [00:00<?, ?it/s]\n",
      "\n",
      " 14%|████████████                                                                        | 1/7 [00:10<01:05, 10.84s/it]\n",
      "\n",
      " 29%|████████████████████████                                                            | 2/7 [00:21<00:53, 10.65s/it]\n",
      "\n",
      " 43%|████████████████████████████████████                                                | 3/7 [00:31<00:42, 10.58s/it]\n",
      "\n",
      " 57%|████████████████████████████████████████████████                                    | 4/7 [00:41<00:31, 10.48s/it]\n",
      "\n",
      " 71%|████████████████████████████████████████████████████████████                        | 5/7 [00:53<00:21, 10.76s/it]\n",
      "\n",
      " 86%|████████████████████████████████████████████████████████████████████████            | 6/7 [01:04<00:10, 10.99s/it]\n",
      "\n",
      "100%|████████████████████████████████████████████████████████████████████████████████████| 7/7 [01:16<00:00, 11.18s/it]\n",
      "\n",
      "  0%|                                                                                            | 0/7 [00:00<?, ?it/s]\n",
      "\n",
      " 14%|████████████                                                                        | 1/7 [00:11<01:06, 11.14s/it]\n",
      "\n",
      " 29%|████████████████████████                                                            | 2/7 [00:20<00:52, 10.59s/it]\n",
      "\n",
      " 43%|████████████████████████████████████                                                | 3/7 [00:31<00:42, 10.64s/it]\n",
      "\n",
      " 57%|████████████████████████████████████████████████                                    | 4/7 [00:40<00:30, 10.25s/it]\n",
      "\n",
      " 71%|████████████████████████████████████████████████████████████                        | 5/7 [00:49<00:19,  9.82s/it]\n",
      "\n",
      " 86%|████████████████████████████████████████████████████████████████████████            | 6/7 [00:57<00:09,  9.43s/it]\n",
      "\n",
      "100%|████████████████████████████████████████████████████████████████████████████████████| 7/7 [01:07<00:00,  9.50s/it]\n",
      "\n",
      "  0%|                                                                                            | 0/7 [00:00<?, ?it/s]\n",
      "\n",
      " 14%|████████████                                                                        | 1/7 [00:09<00:54,  9.13s/it]\n",
      "\n",
      " 29%|████████████████████████                                                            | 2/7 [00:18<00:45,  9.18s/it]\n",
      "\n",
      " 43%|████████████████████████████████████                                                | 3/7 [00:27<00:36,  9.07s/it]\n",
      "\n",
      " 57%|████████████████████████████████████████████████                                    | 4/7 [00:36<00:27,  9.01s/it]\n",
      "\n",
      " 71%|████████████████████████████████████████████████████████████                        | 5/7 [00:44<00:17,  8.96s/it]\n",
      "\n",
      " 86%|████████████████████████████████████████████████████████████████████████            | 6/7 [00:54<00:09,  9.11s/it]\n",
      "\n",
      "100%|████████████████████████████████████████████████████████████████████████████████████| 7/7 [01:03<00:00,  9.19s/it]\n",
      "\n",
      "  0%|                                                                                            | 0/7 [00:00<?, ?it/s]\n",
      "\n",
      " 14%|████████████                                                                        | 1/7 [00:08<00:51,  8.53s/it]\n",
      "\n",
      " 29%|████████████████████████                                                            | 2/7 [00:17<00:43,  8.61s/it]\n",
      "\n",
      " 43%|████████████████████████████████████                                                | 3/7 [00:26<00:34,  8.70s/it]\n",
      "\n",
      " 57%|████████████████████████████████████████████████                                    | 4/7 [00:35<00:26,  8.88s/it]\n",
      "\n",
      " 71%|████████████████████████████████████████████████████████████                        | 5/7 [00:44<00:17,  8.86s/it]\n",
      "\n",
      " 86%|████████████████████████████████████████████████████████████████████████            | 6/7 [00:52<00:08,  8.80s/it]\n",
      "\n",
      "100%|████████████████████████████████████████████████████████████████████████████████████| 7/7 [01:02<00:00,  8.89s/it]\n",
      "\n",
      "  0%|                                                                                            | 0/7 [00:00<?, ?it/s]\n",
      "\n",
      " 14%|████████████                                                                        | 1/7 [00:08<00:51,  8.51s/it]\n",
      "\n",
      " 29%|████████████████████████                                                            | 2/7 [00:17<00:42,  8.59s/it]\n",
      "\n",
      " 43%|████████████████████████████████████                                                | 3/7 [00:30<00:40, 10.09s/it]\n",
      "\n",
      " 57%|████████████████████████████████████████████████                                    | 4/7 [00:55<00:42, 14.31s/it]\n",
      "\n",
      " 71%|████████████████████████████████████████████████████████████                        | 5/7 [01:12<00:30, 15.32s/it]\n",
      "\n",
      " 86%|████████████████████████████████████████████████████████████████████████            | 6/7 [01:26<00:14, 14.78s/it]\n",
      "\n",
      "100%|████████████████████████████████████████████████████████████████████████████████████| 7/7 [01:36<00:00, 13.37s/it]\n",
      "\n",
      "  0%|                                                                                            | 0/7 [00:00<?, ?it/s]\n",
      "\n",
      " 14%|████████████                                                                        | 1/7 [00:10<01:01, 10.19s/it]\n",
      "\n",
      " 29%|████████████████████████                                                            | 2/7 [00:20<00:51, 10.25s/it]\n",
      "\n",
      " 43%|████████████████████████████████████                                                | 3/7 [00:30<00:41, 10.26s/it]\n",
      "\n",
      " 57%|████████████████████████████████████████████████                                    | 4/7 [00:45<00:34, 11.54s/it]\n",
      "\n",
      " 71%|████████████████████████████████████████████████████████████                        | 5/7 [00:55<00:22, 11.01s/it]\n",
      "\n",
      " 86%|████████████████████████████████████████████████████████████████████████            | 6/7 [01:04<00:10, 10.65s/it]\n",
      "\n",
      "100%|████████████████████████████████████████████████████████████████████████████████████| 7/7 [01:17<00:00, 11.08s/it]\n",
      "\n",
      "  0%|                                                                                            | 0/7 [00:00<?, ?it/s]\n",
      "\n",
      " 14%|████████████                                                                        | 1/7 [00:09<00:57,  9.51s/it]\n",
      "\n",
      " 29%|████████████████████████                                                            | 2/7 [00:19<00:48,  9.60s/it]\n",
      "\n",
      " 43%|████████████████████████████████████                                                | 3/7 [00:28<00:38,  9.60s/it]\n",
      "\n",
      " 57%|████████████████████████████████████████████████                                    | 4/7 [00:38<00:28,  9.49s/it]\n",
      "\n",
      " 71%|████████████████████████████████████████████████████████████                        | 5/7 [00:47<00:19,  9.53s/it]\n",
      "\n",
      " 86%|████████████████████████████████████████████████████████████████████████            | 6/7 [00:57<00:09,  9.54s/it]\n",
      "\n",
      "100%|████████████████████████████████████████████████████████████████████████████████████| 7/7 [01:07<00:00,  9.59s/it]\n",
      "\n",
      "  0%|                                                                                            | 0/7 [00:00<?, ?it/s]\n",
      "\n",
      " 14%|████████████                                                                        | 1/7 [00:09<00:58,  9.80s/it]\n",
      "\n",
      " 29%|████████████████████████                                                            | 2/7 [00:22<00:54, 10.81s/it]\n",
      "\n",
      " 43%|████████████████████████████████████                                                | 3/7 [00:33<00:42, 10.71s/it]\n",
      "\n",
      " 57%|████████████████████████████████████████████████                                    | 4/7 [00:45<00:33, 11.04s/it]\n",
      "\n",
      " 71%|████████████████████████████████████████████████████████████                        | 5/7 [00:54<00:20, 10.47s/it]\n",
      "\n",
      " 86%|████████████████████████████████████████████████████████████████████████            | 6/7 [01:03<00:10, 10.14s/it]\n",
      "\n",
      "100%|████████████████████████████████████████████████████████████████████████████████████| 7/7 [01:12<00:00,  9.86s/it]\n",
      "\n",
      "  0%|                                                                                            | 0/7 [00:00<?, ?it/s]\n",
      "\n",
      " 14%|████████████                                                                        | 1/7 [00:08<00:51,  8.64s/it]\n",
      "\n",
      " 29%|████████████████████████                                                            | 2/7 [00:17<00:43,  8.64s/it]\n",
      "\n",
      " 43%|████████████████████████████████████                                                | 3/7 [00:25<00:34,  8.63s/it]\n",
      "\n",
      " 57%|████████████████████████████████████████████████                                    | 4/7 [00:35<00:26,  8.95s/it]\n",
      "\n",
      " 71%|████████████████████████████████████████████████████████████                        | 5/7 [00:44<00:18,  9.04s/it]\n",
      "\n",
      " 86%|████████████████████████████████████████████████████████████████████████            | 6/7 [00:54<00:09,  9.22s/it]\n",
      "\n",
      "100%|████████████████████████████████████████████████████████████████████████████████████| 7/7 [01:03<00:00,  9.30s/it]\n",
      "\n",
      "  0%|                                                                                            | 0/7 [00:00<?, ?it/s]\n",
      "\n",
      " 14%|████████████                                                                        | 1/7 [00:09<00:55,  9.30s/it]\n",
      "\n",
      " 29%|████████████████████████                                                            | 2/7 [00:18<00:47,  9.42s/it]\n",
      "\n",
      " 43%|████████████████████████████████████                                                | 3/7 [00:28<00:37,  9.46s/it]\n",
      "\n",
      " 57%|████████████████████████████████████████████████                                    | 4/7 [00:38<00:28,  9.49s/it]\n",
      "\n",
      " 71%|████████████████████████████████████████████████████████████                        | 5/7 [00:48<00:19,  9.71s/it]\n",
      "\n",
      " 86%|████████████████████████████████████████████████████████████████████████            | 6/7 [00:58<00:09,  9.71s/it]\n",
      "\n",
      "100%|████████████████████████████████████████████████████████████████████████████████████| 7/7 [01:07<00:00,  9.74s/it]\n",
      "\n",
      "  0%|                                                                                            | 0/7 [00:00<?, ?it/s]\n",
      "\n",
      " 14%|████████████                                                                        | 1/7 [00:11<01:06, 11.01s/it]\n",
      "\n",
      " 29%|████████████████████████                                                            | 2/7 [00:20<00:52, 10.50s/it]\n",
      "\n",
      " 43%|████████████████████████████████████                                                | 3/7 [00:30<00:41, 10.49s/it]\n",
      "\n",
      " 57%|████████████████████████████████████████████████                                    | 4/7 [00:40<00:30, 10.23s/it]\n",
      "\n",
      " 71%|████████████████████████████████████████████████████████████                        | 5/7 [00:50<00:20, 10.06s/it]\n",
      "\n",
      " 86%|████████████████████████████████████████████████████████████████████████            | 6/7 [00:59<00:10, 10.01s/it]\n",
      "\n",
      "100%|████████████████████████████████████████████████████████████████████████████████████| 7/7 [01:09<00:00,  9.96s/it]\n",
      "\n",
      "  0%|                                                                                            | 0/7 [00:00<?, ?it/s]\n",
      "\n",
      " 14%|████████████                                                                        | 1/7 [00:09<00:56,  9.41s/it]\n",
      "\n",
      " 29%|████████████████████████                                                            | 2/7 [00:19<00:47,  9.57s/it]\n",
      "\n",
      " 43%|████████████████████████████████████                                                | 3/7 [00:28<00:38,  9.54s/it]\n",
      "\n",
      " 57%|████████████████████████████████████████████████                                    | 4/7 [00:38<00:28,  9.55s/it]\n",
      "\n",
      " 71%|████████████████████████████████████████████████████████████                        | 5/7 [00:47<00:19,  9.51s/it]\n",
      "\n",
      " 86%|████████████████████████████████████████████████████████████████████████            | 6/7 [00:57<00:09,  9.57s/it]\n",
      "\n",
      "100%|████████████████████████████████████████████████████████████████████████████████████| 7/7 [01:06<00:00,  9.54s/it]\n",
      "\n",
      "  0%|                                                                                            | 0/7 [00:00<?, ?it/s]\n",
      "\n",
      " 14%|████████████                                                                        | 1/7 [00:09<00:54,  9.07s/it]\n",
      "\n",
      " 29%|████████████████████████                                                            | 2/7 [00:18<00:46,  9.26s/it]\n",
      "\n",
      " 43%|████████████████████████████████████                                                | 3/7 [00:27<00:36,  9.25s/it]\n",
      "\n",
      " 57%|████████████████████████████████████████████████                                    | 4/7 [00:37<00:28,  9.34s/it]\n",
      "\n",
      " 71%|████████████████████████████████████████████████████████████                        | 5/7 [00:47<00:18,  9.41s/it]\n",
      "\n",
      " 86%|████████████████████████████████████████████████████████████████████████            | 6/7 [00:56<00:09,  9.45s/it]\n",
      "\n",
      "100%|████████████████████████████████████████████████████████████████████████████████████| 7/7 [01:06<00:00,  9.45s/it]\n",
      "\n",
      "  0%|                                                                                            | 0/7 [00:00<?, ?it/s]\n",
      "\n",
      " 14%|████████████                                                                        | 1/7 [00:09<00:55,  9.31s/it]\n",
      "\n",
      " 29%|████████████████████████                                                            | 2/7 [00:18<00:47,  9.40s/it]\n",
      "\n",
      " 43%|████████████████████████████████████                                                | 3/7 [00:28<00:37,  9.38s/it]\n",
      "\n",
      " 57%|████████████████████████████████████████████████                                    | 4/7 [00:37<00:27,  9.27s/it]\n",
      "\n",
      " 71%|████████████████████████████████████████████████████████████                        | 5/7 [00:46<00:18,  9.26s/it]\n",
      "\n",
      " 86%|████████████████████████████████████████████████████████████████████████            | 6/7 [00:55<00:09,  9.29s/it]\n",
      "\n",
      "100%|████████████████████████████████████████████████████████████████████████████████████| 7/7 [01:05<00:00,  9.38s/it]\n",
      "\n",
      "  0%|                                                                                            | 0/7 [00:00<?, ?it/s]\n",
      "\n",
      " 14%|████████████                                                                        | 1/7 [00:09<00:55,  9.28s/it]\n",
      "\n",
      " 29%|████████████████████████                                                            | 2/7 [00:18<00:46,  9.31s/it]\n",
      "\n",
      " 43%|████████████████████████████████████                                                | 3/7 [00:28<00:37,  9.38s/it]\n",
      "\n",
      " 57%|████████████████████████████████████████████████                                    | 4/7 [00:37<00:28,  9.49s/it]\n",
      "\n",
      " 71%|████████████████████████████████████████████████████████████                        | 5/7 [00:47<00:18,  9.46s/it]\n",
      "\n"
     ]
    },
    {
     "name": "stderr",
     "output_type": "stream",
     "text": [
      " 86%|████████████████████████████████████████████████████████████████████████            | 6/7 [00:57<00:09,  9.72s/it]\n",
      "\n",
      "100%|████████████████████████████████████████████████████████████████████████████████████| 7/7 [01:07<00:00,  9.87s/it]\n",
      "\n",
      "  0%|                                                                                            | 0/7 [00:00<?, ?it/s]\n",
      "\n",
      " 14%|████████████                                                                        | 1/7 [00:09<00:54,  9.16s/it]\n",
      "\n",
      " 29%|████████████████████████                                                            | 2/7 [00:18<00:46,  9.29s/it]\n",
      "\n",
      " 43%|████████████████████████████████████                                                | 3/7 [00:28<00:37,  9.33s/it]\n",
      "\n",
      " 57%|████████████████████████████████████████████████                                    | 4/7 [00:37<00:27,  9.32s/it]\n",
      "\n",
      " 71%|████████████████████████████████████████████████████████████                        | 5/7 [00:46<00:18,  9.36s/it]\n",
      "\n",
      " 86%|████████████████████████████████████████████████████████████████████████            | 6/7 [00:56<00:09,  9.44s/it]\n",
      "\n",
      "100%|████████████████████████████████████████████████████████████████████████████████████| 7/7 [01:06<00:00,  9.52s/it]\n",
      "\n",
      "  0%|                                                                                            | 0/7 [00:00<?, ?it/s]\n",
      "\n",
      " 14%|████████████                                                                        | 1/7 [00:09<00:57,  9.50s/it]\n",
      "\n",
      " 29%|████████████████████████                                                            | 2/7 [00:19<00:47,  9.57s/it]\n",
      "\n",
      " 43%|████████████████████████████████████                                                | 3/7 [00:29<00:38,  9.68s/it]\n",
      "\n",
      " 57%|████████████████████████████████████████████████                                    | 4/7 [00:38<00:28,  9.47s/it]\n",
      "\n",
      " 71%|████████████████████████████████████████████████████████████                        | 5/7 [00:46<00:18,  9.25s/it]\n",
      "\n",
      " 86%|████████████████████████████████████████████████████████████████████████            | 6/7 [00:55<00:09,  9.06s/it]\n",
      "\n",
      "100%|████████████████████████████████████████████████████████████████████████████████████| 7/7 [01:04<00:00,  8.98s/it]\n",
      "\n",
      "  0%|                                                                                            | 0/7 [00:00<?, ?it/s]\n",
      "\n",
      " 14%|████████████                                                                        | 1/7 [00:09<00:54,  9.11s/it]\n",
      "\n",
      " 29%|████████████████████████                                                            | 2/7 [00:18<00:46,  9.32s/it]\n",
      "\n",
      " 43%|████████████████████████████████████                                                | 3/7 [00:28<00:37,  9.42s/it]\n",
      "\n",
      " 57%|████████████████████████████████████████████████                                    | 4/7 [00:37<00:28,  9.38s/it]\n",
      "\n",
      " 71%|████████████████████████████████████████████████████████████                        | 5/7 [00:47<00:18,  9.38s/it]\n",
      "\n",
      " 86%|████████████████████████████████████████████████████████████████████████            | 6/7 [00:56<00:09,  9.41s/it]\n",
      "\n",
      "100%|████████████████████████████████████████████████████████████████████████████████████| 7/7 [01:06<00:00,  9.42s/it]"
     ]
    },
    {
     "data": {
      "image/png": "[encoded data removed]",
      "text/plain": [
       "<matplotlib.figure.Figure at 0x1891236d470>"
      ]
     },
     "metadata": {
      "needs_background": "light"
     },
     "output_type": "display_data"
    }
   ],
   "source": [
    "figure_6_6()"
   ]
  },
  {
   "cell_type": "markdown",
   "metadata": {},
   "source": [
    "### Additional problems:\n",
    "\n",
    "Problems setting: \n",
    "- Introduce the \"wind\" in Financial Cliff: during steps 5 and 6 from the start there is stochastic payments that result in decrease in balances by one. The stochasticity is represented by probability $p$. The payments are  independent from each other.\n",
    "\n",
    "Task:\n",
    "- Adjust the code for the step function according to the problem setting and rerun the results for both SARSA and Q-Learning.\n",
    "- How the optimal path looks like in case of presence of obligatory stochastic payments that appear at step 5 and 6 indepedently with probability p=1.0?\n",
    "- Make the probability of payments small enough (p=0.000001) and compare the optimal paths. Check your intuition before running the code: how the optimal paths should be different in case of Low and High probability of payments?"
   ]
  },
  {
   "cell_type": "code",
   "execution_count": null,
   "metadata": {},
   "outputs": [],
   "source": []
  }
 ],
 "metadata": {
  "kernelspec": {
   "display_name": "Python 3",
   "language": "python",
   "name": "python3"
  },
  "language_info": {
   "codemirror_mode": {
    "name": "ipython",
    "version": 3
   },
   "file_extension": ".py",
   "mimetype": "text/x-python",
   "name": "python",
   "nbconvert_exporter": "python",
   "pygments_lexer": "ipython3",
   "version": "3.6.9"
  }
 },
 "nbformat": 4,
 "nbformat_minor": 2
}
