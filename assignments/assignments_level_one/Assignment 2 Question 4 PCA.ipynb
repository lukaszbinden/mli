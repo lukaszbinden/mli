{
 "cells": [
  {
   "cell_type": "code",
   "execution_count": 104,
   "metadata": {},
   "outputs": [],
   "source": [
    "import numpy as np\n",
    "import pandas as pd\n",
    "from sklearn.decomposition import PCA\n",
    "import matplotlib.pyplot as plt\n",
    "import seaborn as sb\n",
    "import pylab\n",
    "import chart_studio.plotly as py\n",
    "import plotly.graph_objs as go"
   ]
  },
  {
   "cell_type": "code",
   "execution_count": 78,
   "metadata": {},
   "outputs": [],
   "source": [
    "train=pd.read_csv('PCA_data.csv', index_col='Year')"
   ]
  },
  {
   "cell_type": "code",
   "execution_count": 79,
   "metadata": {},
   "outputs": [
    {
     "data": {
      "text/html": [
       "<div>\n",
       "<style scoped>\n",
       "    .dataframe tbody tr th:only-of-type {\n",
       "        vertical-align: middle;\n",
       "    }\n",
       "\n",
       "    .dataframe tbody tr th {\n",
       "        vertical-align: top;\n",
       "    }\n",
       "\n",
       "    .dataframe thead th {\n",
       "        text-align: right;\n",
       "    }\n",
       "</style>\n",
       "<table border=\"1\" class=\"dataframe\">\n",
       "  <thead>\n",
       "    <tr style=\"text-align: right;\">\n",
       "      <th></th>\n",
       "      <th>C1</th>\n",
       "      <th>C2</th>\n",
       "      <th>C3</th>\n",
       "      <th>C4</th>\n",
       "      <th>C5</th>\n",
       "      <th>C6</th>\n",
       "      <th>C7</th>\n",
       "    </tr>\n",
       "  </thead>\n",
       "  <tbody>\n",
       "    <tr>\n",
       "      <td>count</td>\n",
       "      <td>20.000000</td>\n",
       "      <td>20.000000</td>\n",
       "      <td>20.00000</td>\n",
       "      <td>20.000000</td>\n",
       "      <td>20.000000</td>\n",
       "      <td>20.000000</td>\n",
       "      <td>20.000000</td>\n",
       "    </tr>\n",
       "    <tr>\n",
       "      <td>mean</td>\n",
       "      <td>145.000000</td>\n",
       "      <td>51.300000</td>\n",
       "      <td>151.60000</td>\n",
       "      <td>43.900000</td>\n",
       "      <td>22.950000</td>\n",
       "      <td>19.200000</td>\n",
       "      <td>36.550000</td>\n",
       "    </tr>\n",
       "    <tr>\n",
       "      <td>std</td>\n",
       "      <td>71.830942</td>\n",
       "      <td>39.127457</td>\n",
       "      <td>102.72672</td>\n",
       "      <td>32.119678</td>\n",
       "      <td>13.465257</td>\n",
       "      <td>10.133841</td>\n",
       "      <td>18.305809</td>\n",
       "    </tr>\n",
       "    <tr>\n",
       "      <td>min</td>\n",
       "      <td>76.000000</td>\n",
       "      <td>13.000000</td>\n",
       "      <td>31.00000</td>\n",
       "      <td>7.000000</td>\n",
       "      <td>7.000000</td>\n",
       "      <td>6.000000</td>\n",
       "      <td>15.000000</td>\n",
       "    </tr>\n",
       "    <tr>\n",
       "      <td>25%</td>\n",
       "      <td>89.000000</td>\n",
       "      <td>20.750000</td>\n",
       "      <td>62.75000</td>\n",
       "      <td>16.250000</td>\n",
       "      <td>11.000000</td>\n",
       "      <td>9.750000</td>\n",
       "      <td>19.750000</td>\n",
       "    </tr>\n",
       "    <tr>\n",
       "      <td>50%</td>\n",
       "      <td>112.000000</td>\n",
       "      <td>36.500000</td>\n",
       "      <td>132.50000</td>\n",
       "      <td>36.000000</td>\n",
       "      <td>18.000000</td>\n",
       "      <td>19.500000</td>\n",
       "      <td>31.000000</td>\n",
       "    </tr>\n",
       "    <tr>\n",
       "      <td>75%</td>\n",
       "      <td>188.000000</td>\n",
       "      <td>73.000000</td>\n",
       "      <td>245.75000</td>\n",
       "      <td>68.000000</td>\n",
       "      <td>37.000000</td>\n",
       "      <td>28.250000</td>\n",
       "      <td>51.500000</td>\n",
       "    </tr>\n",
       "    <tr>\n",
       "      <td>max</td>\n",
       "      <td>299.000000</td>\n",
       "      <td>136.000000</td>\n",
       "      <td>319.00000</td>\n",
       "      <td>106.000000</td>\n",
       "      <td>46.000000</td>\n",
       "      <td>34.000000</td>\n",
       "      <td>73.000000</td>\n",
       "    </tr>\n",
       "  </tbody>\n",
       "</table>\n",
       "</div>"
      ],
      "text/plain": [
       "               C1          C2         C3          C4         C5         C6  \\\n",
       "count   20.000000   20.000000   20.00000   20.000000  20.000000  20.000000   \n",
       "mean   145.000000   51.300000  151.60000   43.900000  22.950000  19.200000   \n",
       "std     71.830942   39.127457  102.72672   32.119678  13.465257  10.133841   \n",
       "min     76.000000   13.000000   31.00000    7.000000   7.000000   6.000000   \n",
       "25%     89.000000   20.750000   62.75000   16.250000  11.000000   9.750000   \n",
       "50%    112.000000   36.500000  132.50000   36.000000  18.000000  19.500000   \n",
       "75%    188.000000   73.000000  245.75000   68.000000  37.000000  28.250000   \n",
       "max    299.000000  136.000000  319.00000  106.000000  46.000000  34.000000   \n",
       "\n",
       "              C7  \n",
       "count  20.000000  \n",
       "mean   36.550000  \n",
       "std    18.305809  \n",
       "min    15.000000  \n",
       "25%    19.750000  \n",
       "50%    31.000000  \n",
       "75%    51.500000  \n",
       "max    73.000000  "
      ]
     },
     "execution_count": 79,
     "metadata": {},
     "output_type": "execute_result"
    }
   ],
   "source": [
    "train.describe()"
   ]
  },
  {
   "cell_type": "code",
   "execution_count": 80,
   "metadata": {},
   "outputs": [
    {
     "data": {
      "text/html": [
       "<div>\n",
       "<style scoped>\n",
       "    .dataframe tbody tr th:only-of-type {\n",
       "        vertical-align: middle;\n",
       "    }\n",
       "\n",
       "    .dataframe tbody tr th {\n",
       "        vertical-align: top;\n",
       "    }\n",
       "\n",
       "    .dataframe thead th {\n",
       "        text-align: right;\n",
       "    }\n",
       "</style>\n",
       "<table border=\"1\" class=\"dataframe\">\n",
       "  <thead>\n",
       "    <tr style=\"text-align: right;\">\n",
       "      <th></th>\n",
       "      <th>C1</th>\n",
       "      <th>C2</th>\n",
       "      <th>C3</th>\n",
       "      <th>C4</th>\n",
       "      <th>C5</th>\n",
       "      <th>C6</th>\n",
       "      <th>C7</th>\n",
       "    </tr>\n",
       "    <tr>\n",
       "      <th>Year</th>\n",
       "      <th></th>\n",
       "      <th></th>\n",
       "      <th></th>\n",
       "      <th></th>\n",
       "      <th></th>\n",
       "      <th></th>\n",
       "      <th></th>\n",
       "    </tr>\n",
       "  </thead>\n",
       "  <tbody>\n",
       "    <tr>\n",
       "      <td>1967</td>\n",
       "      <td>76</td>\n",
       "      <td>13</td>\n",
       "      <td>31</td>\n",
       "      <td>7</td>\n",
       "      <td>7</td>\n",
       "      <td>6</td>\n",
       "      <td>15</td>\n",
       "    </tr>\n",
       "    <tr>\n",
       "      <td>1968</td>\n",
       "      <td>88</td>\n",
       "      <td>14</td>\n",
       "      <td>34</td>\n",
       "      <td>10</td>\n",
       "      <td>8</td>\n",
       "      <td>7</td>\n",
       "      <td>19</td>\n",
       "    </tr>\n",
       "    <tr>\n",
       "      <td>1969</td>\n",
       "      <td>89</td>\n",
       "      <td>16</td>\n",
       "      <td>38</td>\n",
       "      <td>12</td>\n",
       "      <td>8</td>\n",
       "      <td>6</td>\n",
       "      <td>17</td>\n",
       "    </tr>\n",
       "    <tr>\n",
       "      <td>1970</td>\n",
       "      <td>89</td>\n",
       "      <td>18</td>\n",
       "      <td>44</td>\n",
       "      <td>13</td>\n",
       "      <td>9</td>\n",
       "      <td>7</td>\n",
       "      <td>19</td>\n",
       "    </tr>\n",
       "    <tr>\n",
       "      <td>1971</td>\n",
       "      <td>88</td>\n",
       "      <td>20</td>\n",
       "      <td>56</td>\n",
       "      <td>14</td>\n",
       "      <td>11</td>\n",
       "      <td>9</td>\n",
       "      <td>18</td>\n",
       "    </tr>\n",
       "  </tbody>\n",
       "</table>\n",
       "</div>"
      ],
      "text/plain": [
       "      C1  C2  C3  C4  C5  C6  C7\n",
       "Year                            \n",
       "1967  76  13  31   7   7   6  15\n",
       "1968  88  14  34  10   8   7  19\n",
       "1969  89  16  38  12   8   6  17\n",
       "1970  89  18  44  13   9   7  19\n",
       "1971  88  20  56  14  11   9  18"
      ]
     },
     "execution_count": 80,
     "metadata": {},
     "output_type": "execute_result"
    }
   ],
   "source": [
    "train.head()"
   ]
  },
  {
   "cell_type": "code",
   "execution_count": 81,
   "metadata": {},
   "outputs": [
    {
     "name": "stdout",
     "output_type": "stream",
     "text": [
      "<class 'pandas.core.frame.DataFrame'>\n",
      "Int64Index: 20 entries, 1967 to 1986\n",
      "Data columns (total 7 columns):\n",
      "C1    20 non-null int64\n",
      "C2    20 non-null int64\n",
      "C3    20 non-null int64\n",
      "C4    20 non-null int64\n",
      "C5    20 non-null int64\n",
      "C6    20 non-null int64\n",
      "C7    20 non-null int64\n",
      "dtypes: int64(7)\n",
      "memory usage: 1.2 KB\n"
     ]
    }
   ],
   "source": [
    "train.info()"
   ]
  },
  {
   "cell_type": "code",
   "execution_count": 82,
   "metadata": {},
   "outputs": [
    {
     "data": {
      "text/plain": [
       "Int64Index([1967, 1968, 1969, 1970, 1971, 1972, 1973, 1974, 1975, 1976, 1977,\n",
       "            1978, 1979, 1980, 1981, 1982, 1983, 1984, 1985, 1986],\n",
       "           dtype='int64', name='Year')"
      ]
     },
     "execution_count": 82,
     "metadata": {},
     "output_type": "execute_result"
    }
   ],
   "source": [
    "train.index"
   ]
  },
  {
   "cell_type": "code",
   "execution_count": 83,
   "metadata": {},
   "outputs": [
    {
     "data": {
      "text/plain": [
       "Series([], dtype: int64)"
      ]
     },
     "execution_count": 83,
     "metadata": {},
     "output_type": "execute_result"
    }
   ],
   "source": [
    "# data looks good\n",
    "train.isnull().sum()[train.isnull().sum() != 0]"
   ]
  },
  {
   "cell_type": "code",
   "execution_count": 84,
   "metadata": {},
   "outputs": [
    {
     "data": {
      "text/plain": [
       "(20, 7)"
      ]
     },
     "execution_count": 84,
     "metadata": {},
     "output_type": "execute_result"
    }
   ],
   "source": [
    "# 1. What is the sample correlation matrix for these data\n",
    "train.shape"
   ]
  },
  {
   "cell_type": "code",
   "execution_count": 85,
   "metadata": {},
   "outputs": [
    {
     "data": {
      "text/html": [
       "<div>\n",
       "<style scoped>\n",
       "    .dataframe tbody tr th:only-of-type {\n",
       "        vertical-align: middle;\n",
       "    }\n",
       "\n",
       "    .dataframe tbody tr th {\n",
       "        vertical-align: top;\n",
       "    }\n",
       "\n",
       "    .dataframe thead th {\n",
       "        text-align: right;\n",
       "    }\n",
       "</style>\n",
       "<table border=\"1\" class=\"dataframe\">\n",
       "  <thead>\n",
       "    <tr style=\"text-align: right;\">\n",
       "      <th></th>\n",
       "      <th>C1</th>\n",
       "      <th>C2</th>\n",
       "      <th>C3</th>\n",
       "      <th>C4</th>\n",
       "      <th>C5</th>\n",
       "      <th>C6</th>\n",
       "      <th>C7</th>\n",
       "    </tr>\n",
       "    <tr>\n",
       "      <th>Year</th>\n",
       "      <th></th>\n",
       "      <th></th>\n",
       "      <th></th>\n",
       "      <th></th>\n",
       "      <th></th>\n",
       "      <th></th>\n",
       "      <th></th>\n",
       "    </tr>\n",
       "  </thead>\n",
       "  <tbody>\n",
       "    <tr>\n",
       "      <td>1967</td>\n",
       "      <td>-69.0</td>\n",
       "      <td>-38.3</td>\n",
       "      <td>-120.6</td>\n",
       "      <td>-36.9</td>\n",
       "      <td>-15.95</td>\n",
       "      <td>-13.2</td>\n",
       "      <td>-21.55</td>\n",
       "    </tr>\n",
       "    <tr>\n",
       "      <td>1968</td>\n",
       "      <td>-57.0</td>\n",
       "      <td>-37.3</td>\n",
       "      <td>-117.6</td>\n",
       "      <td>-33.9</td>\n",
       "      <td>-14.95</td>\n",
       "      <td>-12.2</td>\n",
       "      <td>-17.55</td>\n",
       "    </tr>\n",
       "    <tr>\n",
       "      <td>1969</td>\n",
       "      <td>-56.0</td>\n",
       "      <td>-35.3</td>\n",
       "      <td>-113.6</td>\n",
       "      <td>-31.9</td>\n",
       "      <td>-14.95</td>\n",
       "      <td>-13.2</td>\n",
       "      <td>-19.55</td>\n",
       "    </tr>\n",
       "    <tr>\n",
       "      <td>1970</td>\n",
       "      <td>-56.0</td>\n",
       "      <td>-33.3</td>\n",
       "      <td>-107.6</td>\n",
       "      <td>-30.9</td>\n",
       "      <td>-13.95</td>\n",
       "      <td>-12.2</td>\n",
       "      <td>-17.55</td>\n",
       "    </tr>\n",
       "    <tr>\n",
       "      <td>1971</td>\n",
       "      <td>-57.0</td>\n",
       "      <td>-31.3</td>\n",
       "      <td>-95.6</td>\n",
       "      <td>-29.9</td>\n",
       "      <td>-11.95</td>\n",
       "      <td>-10.2</td>\n",
       "      <td>-18.55</td>\n",
       "    </tr>\n",
       "    <tr>\n",
       "      <td>1972</td>\n",
       "      <td>-56.0</td>\n",
       "      <td>-30.3</td>\n",
       "      <td>-86.6</td>\n",
       "      <td>-26.9</td>\n",
       "      <td>-11.95</td>\n",
       "      <td>-9.2</td>\n",
       "      <td>-13.55</td>\n",
       "    </tr>\n",
       "    <tr>\n",
       "      <td>1973</td>\n",
       "      <td>-57.0</td>\n",
       "      <td>-28.3</td>\n",
       "      <td>-78.6</td>\n",
       "      <td>-25.9</td>\n",
       "      <td>-9.95</td>\n",
       "      <td>-9.2</td>\n",
       "      <td>-16.55</td>\n",
       "    </tr>\n",
       "    <tr>\n",
       "      <td>1974</td>\n",
       "      <td>-53.0</td>\n",
       "      <td>-23.3</td>\n",
       "      <td>-67.6</td>\n",
       "      <td>-21.9</td>\n",
       "      <td>-9.95</td>\n",
       "      <td>-7.2</td>\n",
       "      <td>-12.55</td>\n",
       "    </tr>\n",
       "    <tr>\n",
       "      <td>1975</td>\n",
       "      <td>-41.0</td>\n",
       "      <td>-20.3</td>\n",
       "      <td>-42.6</td>\n",
       "      <td>-15.9</td>\n",
       "      <td>-6.95</td>\n",
       "      <td>-4.2</td>\n",
       "      <td>-10.55</td>\n",
       "    </tr>\n",
       "    <tr>\n",
       "      <td>1976</td>\n",
       "      <td>-37.0</td>\n",
       "      <td>-16.3</td>\n",
       "      <td>-24.6</td>\n",
       "      <td>-10.9</td>\n",
       "      <td>-5.95</td>\n",
       "      <td>-1.2</td>\n",
       "      <td>-8.55</td>\n",
       "    </tr>\n",
       "    <tr>\n",
       "      <td>1977</td>\n",
       "      <td>-29.0</td>\n",
       "      <td>-13.3</td>\n",
       "      <td>-13.6</td>\n",
       "      <td>-4.9</td>\n",
       "      <td>-3.95</td>\n",
       "      <td>1.8</td>\n",
       "      <td>-2.55</td>\n",
       "    </tr>\n",
       "    <tr>\n",
       "      <td>1978</td>\n",
       "      <td>-21.0</td>\n",
       "      <td>-7.3</td>\n",
       "      <td>-5.6</td>\n",
       "      <td>0.1</td>\n",
       "      <td>1.05</td>\n",
       "      <td>6.8</td>\n",
       "      <td>6.45</td>\n",
       "    </tr>\n",
       "    <tr>\n",
       "      <td>1979</td>\n",
       "      <td>-7.0</td>\n",
       "      <td>1.7</td>\n",
       "      <td>8.4</td>\n",
       "      <td>6.1</td>\n",
       "      <td>5.05</td>\n",
       "      <td>10.8</td>\n",
       "      <td>4.45</td>\n",
       "    </tr>\n",
       "    <tr>\n",
       "      <td>1980</td>\n",
       "      <td>10.0</td>\n",
       "      <td>0.7</td>\n",
       "      <td>53.4</td>\n",
       "      <td>11.1</td>\n",
       "      <td>17.05</td>\n",
       "      <td>12.8</td>\n",
       "      <td>9.45</td>\n",
       "    </tr>\n",
       "    <tr>\n",
       "      <td>1981</td>\n",
       "      <td>36.0</td>\n",
       "      <td>17.7</td>\n",
       "      <td>88.4</td>\n",
       "      <td>22.1</td>\n",
       "      <td>23.05</td>\n",
       "      <td>14.8</td>\n",
       "      <td>14.45</td>\n",
       "    </tr>\n",
       "    <tr>\n",
       "      <td>1982</td>\n",
       "      <td>64.0</td>\n",
       "      <td>33.7</td>\n",
       "      <td>111.4</td>\n",
       "      <td>30.1</td>\n",
       "      <td>18.05</td>\n",
       "      <td>7.8</td>\n",
       "      <td>16.45</td>\n",
       "    </tr>\n",
       "    <tr>\n",
       "      <td>1983</td>\n",
       "      <td>90.0</td>\n",
       "      <td>38.7</td>\n",
       "      <td>141.4</td>\n",
       "      <td>38.1</td>\n",
       "      <td>14.05</td>\n",
       "      <td>7.8</td>\n",
       "      <td>24.45</td>\n",
       "    </tr>\n",
       "    <tr>\n",
       "      <td>1984</td>\n",
       "      <td>108.0</td>\n",
       "      <td>59.7</td>\n",
       "      <td>139.4</td>\n",
       "      <td>44.1</td>\n",
       "      <td>15.05</td>\n",
       "      <td>8.8</td>\n",
       "      <td>16.45</td>\n",
       "    </tr>\n",
       "    <tr>\n",
       "      <td>1985</td>\n",
       "      <td>134.0</td>\n",
       "      <td>77.7</td>\n",
       "      <td>164.4</td>\n",
       "      <td>56.1</td>\n",
       "      <td>13.05</td>\n",
       "      <td>9.8</td>\n",
       "      <td>30.45</td>\n",
       "    </tr>\n",
       "    <tr>\n",
       "      <td>1986</td>\n",
       "      <td>154.0</td>\n",
       "      <td>84.7</td>\n",
       "      <td>167.4</td>\n",
       "      <td>62.1</td>\n",
       "      <td>14.05</td>\n",
       "      <td>10.8</td>\n",
       "      <td>36.45</td>\n",
       "    </tr>\n",
       "  </tbody>\n",
       "</table>\n",
       "</div>"
      ],
      "text/plain": [
       "         C1    C2     C3    C4     C5    C6     C7\n",
       "Year                                              \n",
       "1967  -69.0 -38.3 -120.6 -36.9 -15.95 -13.2 -21.55\n",
       "1968  -57.0 -37.3 -117.6 -33.9 -14.95 -12.2 -17.55\n",
       "1969  -56.0 -35.3 -113.6 -31.9 -14.95 -13.2 -19.55\n",
       "1970  -56.0 -33.3 -107.6 -30.9 -13.95 -12.2 -17.55\n",
       "1971  -57.0 -31.3  -95.6 -29.9 -11.95 -10.2 -18.55\n",
       "1972  -56.0 -30.3  -86.6 -26.9 -11.95  -9.2 -13.55\n",
       "1973  -57.0 -28.3  -78.6 -25.9  -9.95  -9.2 -16.55\n",
       "1974  -53.0 -23.3  -67.6 -21.9  -9.95  -7.2 -12.55\n",
       "1975  -41.0 -20.3  -42.6 -15.9  -6.95  -4.2 -10.55\n",
       "1976  -37.0 -16.3  -24.6 -10.9  -5.95  -1.2  -8.55\n",
       "1977  -29.0 -13.3  -13.6  -4.9  -3.95   1.8  -2.55\n",
       "1978  -21.0  -7.3   -5.6   0.1   1.05   6.8   6.45\n",
       "1979   -7.0   1.7    8.4   6.1   5.05  10.8   4.45\n",
       "1980   10.0   0.7   53.4  11.1  17.05  12.8   9.45\n",
       "1981   36.0  17.7   88.4  22.1  23.05  14.8  14.45\n",
       "1982   64.0  33.7  111.4  30.1  18.05   7.8  16.45\n",
       "1983   90.0  38.7  141.4  38.1  14.05   7.8  24.45\n",
       "1984  108.0  59.7  139.4  44.1  15.05   8.8  16.45\n",
       "1985  134.0  77.7  164.4  56.1  13.05   9.8  30.45\n",
       "1986  154.0  84.7  167.4  62.1  14.05  10.8  36.45"
      ]
     },
     "execution_count": 85,
     "metadata": {},
     "output_type": "execute_result"
    }
   ],
   "source": [
    "# calculate sample covariance matrix first, given by \n",
    "# # Q = 1/(n-1) (X')^TX'\n",
    "n = train.shape[0]\n",
    "p = train.shape[1]\n",
    "sample_mean = np.mean(train, axis=0)\n",
    "X_centered = train - sample_mean\n",
    "X_centered"
   ]
  },
  {
   "cell_type": "code",
   "execution_count": 86,
   "metadata": {},
   "outputs": [
    {
     "data": {
      "text/plain": [
       "array([[ 5159.68421053,  2794.15789474,  7122.10526316,  2268.47368421,\n",
       "          817.68421053,   566.63157895,  1262.31578947],\n",
       "       [ 2794.15789474,  1530.95789474,  3874.70526316,  1239.03157895,\n",
       "          440.85789474,   312.93684211,   686.98421053],\n",
       "       [ 7122.10526316,  3874.70526316, 10552.77894737,  3273.95789474,\n",
       "         1294.03157895,   929.82105263,  1844.02105263],\n",
       "       [ 2268.47368421,  1239.03157895,  3273.95789474,  1031.67368421,\n",
       "          390.99473684,   283.91578947,   580.42631579],\n",
       "       [  817.68421053,   440.85789474,  1294.03157895,   390.99473684,\n",
       "          181.31315789,   129.90526316,   224.81842105],\n",
       "       [  566.63157895,   312.93684211,   929.82105263,   283.91578947,\n",
       "          129.90526316,   102.69473684,   166.30526316],\n",
       "       [ 1262.31578947,   686.98421053,  1844.02105263,   580.42631579,\n",
       "          224.81842105,   166.30526316,   335.10263158]])"
      ]
     },
     "execution_count": 86,
     "metadata": {},
     "output_type": "execute_result"
    }
   ],
   "source": [
    "# the sample covariance matrix Q:\n",
    "Q = 1/(n-1)*np.dot(X_centered.T, X_centered)\n",
    "Q"
   ]
  },
  {
   "cell_type": "code",
   "execution_count": 87,
   "metadata": {},
   "outputs": [
    {
     "data": {
      "text/plain": [
       "array([[ 5159.68421053,  2794.15789474,  7122.10526316,  2268.47368421,\n",
       "          817.68421053,   566.63157895,  1262.31578947],\n",
       "       [ 2794.15789474,  1530.95789474,  3874.70526316,  1239.03157895,\n",
       "          440.85789474,   312.93684211,   686.98421053],\n",
       "       [ 7122.10526316,  3874.70526316, 10552.77894737,  3273.95789474,\n",
       "         1294.03157895,   929.82105263,  1844.02105263],\n",
       "       [ 2268.47368421,  1239.03157895,  3273.95789474,  1031.67368421,\n",
       "          390.99473684,   283.91578947,   580.42631579],\n",
       "       [  817.68421053,   440.85789474,  1294.03157895,   390.99473684,\n",
       "          181.31315789,   129.90526316,   224.81842105],\n",
       "       [  566.63157895,   312.93684211,   929.82105263,   283.91578947,\n",
       "          129.90526316,   102.69473684,   166.30526316],\n",
       "       [ 1262.31578947,   686.98421053,  1844.02105263,   580.42631579,\n",
       "          224.81842105,   166.30526316,   335.10263158]])"
      ]
     },
     "execution_count": 87,
     "metadata": {},
     "output_type": "execute_result"
    }
   ],
   "source": [
    "# doulbe check with np version\n",
    "X = np.matrix(train) #Dataset in the matrix form\n",
    "X_dm = X - np.mean(X,axis =0)#Normalise the data set to make it with zero mean acroos the tenors\n",
    "Cov_X = np.cov(X_dm, rowvar = False)#Calculate the covariance matrix\n",
    "Cov_X"
   ]
  },
  {
   "cell_type": "code",
   "execution_count": 88,
   "metadata": {},
   "outputs": [
    {
     "data": {
      "text/plain": [
       "array([[ 5159.68421053,  2794.15789474,  7122.10526316,  2268.47368421,\n",
       "          817.68421053,   566.63157895,  1262.31578947],\n",
       "       [ 2794.15789474,  1530.95789474,  3874.70526316,  1239.03157895,\n",
       "          440.85789474,   312.93684211,   686.98421053],\n",
       "       [ 7122.10526316,  3874.70526316, 10552.77894737,  3273.95789474,\n",
       "         1294.03157895,   929.82105263,  1844.02105263],\n",
       "       [ 2268.47368421,  1239.03157895,  3273.95789474,  1031.67368421,\n",
       "          390.99473684,   283.91578947,   580.42631579],\n",
       "       [  817.68421053,   440.85789474,  1294.03157895,   390.99473684,\n",
       "          181.31315789,   129.90526316,   224.81842105],\n",
       "       [  566.63157895,   312.93684211,   929.82105263,   283.91578947,\n",
       "          129.90526316,   102.69473684,   166.30526316],\n",
       "       [ 1262.31578947,   686.98421053,  1844.02105263,   580.42631579,\n",
       "          224.81842105,   166.30526316,   335.10263158]])"
      ]
     },
     "execution_count": 88,
     "metadata": {},
     "output_type": "execute_result"
    }
   ],
   "source": [
    "Cov_X"
   ]
  },
  {
   "cell_type": "code",
   "execution_count": 89,
   "metadata": {},
   "outputs": [
    {
     "data": {
      "text/plain": [
       "array([[ 5159.68421053,  2794.15789474,  7122.10526316,  2268.47368421,\n",
       "          817.68421053,   566.63157895,  1262.31578947],\n",
       "       [ 2794.15789474,  1530.95789474,  3874.70526316,  1239.03157895,\n",
       "          440.85789474,   312.93684211,   686.98421053],\n",
       "       [ 7122.10526316,  3874.70526316, 10552.77894737,  3273.95789474,\n",
       "         1294.03157895,   929.82105263,  1844.02105263],\n",
       "       [ 2268.47368421,  1239.03157895,  3273.95789474,  1031.67368421,\n",
       "          390.99473684,   283.91578947,   580.42631579],\n",
       "       [  817.68421053,   440.85789474,  1294.03157895,   390.99473684,\n",
       "          181.31315789,   129.90526316,   224.81842105],\n",
       "       [  566.63157895,   312.93684211,   929.82105263,   283.91578947,\n",
       "          129.90526316,   102.69473684,   166.30526316],\n",
       "       [ 1262.31578947,   686.98421053,  1844.02105263,   580.42631579,\n",
       "          224.81842105,   166.30526316,   335.10263158]])"
      ]
     },
     "execution_count": 89,
     "metadata": {},
     "output_type": "execute_result"
    }
   ],
   "source": [
    "# double check again with sklearn PCA\n",
    "pca = PCA(n_components=p);\n",
    "pca.fit(train)\n",
    "# get_covariance gives us the sample covariance matrix\n",
    "pca.get_covariance()"
   ]
  },
  {
   "cell_type": "code",
   "execution_count": 90,
   "metadata": {},
   "outputs": [
    {
     "data": {
      "text/plain": [
       "array([[1.        , 0.99416337, 0.96519132, 0.98322069, 0.84539444,\n",
       "        0.77842203, 0.95999182],\n",
       "       [0.99416337, 1.        , 0.96399244, 0.98589253, 0.83676275,\n",
       "        0.78922526, 0.95912721],\n",
       "       [0.96519132, 0.96399244, 1.        , 0.99224403, 0.93550647,\n",
       "        0.89318591, 0.98060372],\n",
       "       [0.98322069, 0.98589253, 0.99224403, 1.        , 0.90403464,\n",
       "        0.87225662, 0.98715875],\n",
       "       [0.84539444, 0.83676275, 0.93550647, 0.90403464, 1.        ,\n",
       "        0.95200229, 0.9120703 ],\n",
       "       [0.77842203, 0.78922526, 0.89318591, 0.87225662, 0.95200229,\n",
       "        1.        , 0.89648491],\n",
       "       [0.95999182, 0.95912721, 0.98060372, 0.98715875, 0.9120703 ,\n",
       "        0.89648491, 1.        ]])"
      ]
     },
     "execution_count": 90,
     "metadata": {},
     "output_type": "execute_result"
    }
   ],
   "source": [
    "# now calculate the sample correlation matrix given by\n",
    "# Cor[train] = (Q^(diag))^-1/2 Q (Q^(diag))^-1/2\n",
    "Q_diag = np.zeros(Q.shape)\n",
    "np.fill_diagonal(Q_diag, np.diagonal(Q))\n",
    "Q_diag_sqrt = np.sqrt(Q_diag)\n",
    "Q_diag_sqrt_inv = np.linalg.inv(Q_diag_sqrt)\n",
    "sample_corr_matrix = np.dot(np.dot(Q_diag_sqrt_inv, Q), Q_diag_sqrt_inv)\n",
    "sample_corr_matrix"
   ]
  },
  {
   "cell_type": "code",
   "execution_count": 91,
   "metadata": {},
   "outputs": [
    {
     "data": {
      "text/plain": [
       "<matplotlib.axes._subplots.AxesSubplot at 0x2ac2c2b9208>"
      ]
     },
     "execution_count": 91,
     "metadata": {},
     "output_type": "execute_result"
    },
    {
     "data": {
      "image/png": "[encoded data removed]",
      "text/plain": [
       "<Figure size 1440x720 with 2 Axes>"
      ]
     },
     "metadata": {
      "needs_background": "light"
     },
     "output_type": "display_data"
    }
   ],
   "source": [
    "plt.figure(figsize=(20,10))\n",
    "sb.heatmap(sample_corr_matrix,annot=True)"
   ]
  },
  {
   "cell_type": "code",
   "execution_count": 92,
   "metadata": {},
   "outputs": [
    {
     "name": "stdout",
     "output_type": "stream",
     "text": [
      "n_features_: 7\n",
      "n_components_: 7\n"
     ]
    }
   ],
   "source": [
    "# 2. Perform PCA on that correlation matrix. What percentage of total variability is \n",
    "# accounted for by the first principal component?\n",
    "n = sample_corr_matrix.shape[0]\n",
    "p = sample_corr_matrix.shape[1]\n",
    "pca = PCA(n_components=p);\n",
    "pca.fit(sample_corr_matrix)\n",
    "print('n_features_:', pca.n_features_)\n",
    "print('n_components_:', pca.n_components_)"
   ]
  },
  {
   "cell_type": "code",
   "execution_count": 93,
   "metadata": {},
   "outputs": [
    {
     "data": {
      "text/plain": [
       "array([2.63315235e-02, 2.80170922e-03, 4.68348552e-04, 4.33894403e-05,\n",
       "       4.57034983e-06, 7.32733963e-07, 9.55111938e-35])"
      ]
     },
     "execution_count": 93,
     "metadata": {},
     "output_type": "execute_result"
    }
   ],
   "source": [
    "pca.explained_variance_"
   ]
  },
  {
   "cell_type": "code",
   "execution_count": 94,
   "metadata": {},
   "outputs": [
    {
     "data": {
      "image/png": "[encoded data removed]",
      "text/plain": [
       "<Figure size 432x288 with 1 Axes>"
      ]
     },
     "metadata": {
      "needs_background": "light"
     },
     "output_type": "display_data"
    }
   ],
   "source": [
    "pylab.plot(pca.explained_variance_, 'x')\n",
    "pylab.xticks(range(p), ['PC' + str(i) for i in range(1, p+1)]);"
   ]
  },
  {
   "cell_type": "code",
   "execution_count": 95,
   "metadata": {},
   "outputs": [
    {
     "name": "stdout",
     "output_type": "stream",
     "text": [
      "[88.81, 9.45, 1.58, 0.15, 0.02, 0.0, 0.0]\n"
     ]
    },
    {
     "data": {
      "image/png": "[encoded data removed]",
      "text/plain": [
       "<Figure size 432x288 with 1 Axes>"
      ]
     },
     "metadata": {
      "needs_background": "light"
     },
     "output_type": "display_data"
    }
   ],
   "source": [
    "pylab.plot([x / sum(pca.explained_variance_) for x in pca.explained_variance_], 'x')\n",
    "print([round(x / sum(pca.explained_variance_) * 100, 2) for x in pca.explained_variance_])\n",
    "pylab.xticks(range(p), ['PC' + str(i) for i in range(1, p+1)]);"
   ]
  },
  {
   "cell_type": "markdown",
   "metadata": {},
   "source": [
    "From this we can see that the total variability accounted for by PC1 is about 89%."
   ]
  },
  {
   "cell_type": "code",
   "execution_count": 109,
   "metadata": {},
   "outputs": [
    {
     "data": {
      "text/plain": [
       "(7, 7)"
      ]
     },
     "execution_count": 109,
     "metadata": {},
     "output_type": "execute_result"
    }
   ],
   "source": [
    "# 3. How would you interpret that principal component, what does it represent?\n",
    "# first, visualize the sample correlation matrix \n",
    "Z = pca.transform(sample_corr_matrix); Z.shape\n"
   ]
  },
  {
   "cell_type": "code",
   "execution_count": 110,
   "metadata": {},
   "outputs": [
    {
     "data": {
      "text/html": [
       "\n",
       "        <iframe\n",
       "            width=\"100%\"\n",
       "            height=\"525px\"\n",
       "            src=\"https://plot.ly/~machine.trading/5.embed\"\n",
       "            frameborder=\"0\"\n",
       "            allowfullscreen\n",
       "        ></iframe>\n",
       "        "
      ],
      "text/plain": [
       "<IPython.lib.display.IFrame at 0x2ac2f4bfe80>"
      ]
     },
     "execution_count": 110,
     "metadata": {},
     "output_type": "execute_result"
    }
   ],
   "source": [
    "trace = go.Heatmap(z=pca.components_.T,\n",
    "                   x = ['PC' + str(i) for i in range(1, np.shape(Z)[1] + 1)],\n",
    "                   y=['corr_' + str(c) for c in range(1, sample_corr_matrix.shape[1] + 1)])\n",
    "data=[trace]\n",
    "py.iplot(data, filename='basic-heatmap')"
   ]
  },
  {
   "cell_type": "code",
   "execution_count": 112,
   "metadata": {},
   "outputs": [],
   "source": [
    "corrmatrix = np.corrcoef(sample_corr_matrix.T, Z.T)"
   ]
  },
  {
   "cell_type": "code",
   "execution_count": 113,
   "metadata": {},
   "outputs": [
    {
     "data": {
      "text/html": [
       "\n",
       "        <iframe\n",
       "            width=\"100%\"\n",
       "            height=\"525px\"\n",
       "            src=\"https://plot.ly/~machine.trading/5.embed\"\n",
       "            frameborder=\"0\"\n",
       "            allowfullscreen\n",
       "        ></iframe>\n",
       "        "
      ],
      "text/plain": [
       "<IPython.lib.display.IFrame at 0x2ac2ef20978>"
      ]
     },
     "execution_count": 113,
     "metadata": {},
     "output_type": "execute_result"
    }
   ],
   "source": [
    "# show the sample correlation matrix along with the principal components in one correlation matrix\n",
    "labels = ['corr_' + str(c) for c in range(1, sample_corr_matrix.shape[1] + 1)]\n",
    "labels.extend(['PC' + str(i) for i in range(1, np.shape(Z)[1] + 1)])\n",
    "\n",
    "trace = go.Heatmap(z=corrmatrix, x=labels, y=labels)\n",
    "data=[trace]\n",
    "py.iplot(data, filename='basic-heatmap')"
   ]
  },
  {
   "cell_type": "markdown",
   "metadata": {},
   "source": [
    "3. How would you interpret that principal component, what does it represent?\n",
    "the PC1 is strongly negatively correlated with the first 4 components and the last of the sample correlation matrix, as well as strongly positively correlated with the 5th and 6th component. PC1 is strongly correlated with all components of the correlation matrix, which reflects the fact that it explains almost 89% of the variance of the sample correlation matrix.\n",
    "(It is not quite clear to me whether the components of the sample correlation matrix still represent the original C category groupings from the original data..)"
   ]
  },
  {
   "cell_type": "markdown",
   "metadata": {},
   "source": [
    "4. What percentage of total variability is accounted for by the second principal component?\n",
    "PC2 accounts for 9.5% of the variability of the sample correlation matrix as observed in the chart above."
   ]
  },
  {
   "cell_type": "markdown",
   "metadata": {},
   "source": [
    "5. How would you interpret that principal component, what does it represent?\n",
    "PC2 does not significantly correlate with components 1 and 2 (and C1, C2, respectively?). However, it positively and quite strongly correlates with all the other components."
   ]
  },
  {
   "cell_type": "code",
   "execution_count": 124,
   "metadata": {},
   "outputs": [
    {
     "data": {
      "text/html": [
       "<div>\n",
       "<style scoped>\n",
       "    .dataframe tbody tr th:only-of-type {\n",
       "        vertical-align: middle;\n",
       "    }\n",
       "\n",
       "    .dataframe tbody tr th {\n",
       "        vertical-align: top;\n",
       "    }\n",
       "\n",
       "    .dataframe thead th {\n",
       "        text-align: right;\n",
       "    }\n",
       "</style>\n",
       "<table border=\"1\" class=\"dataframe\">\n",
       "  <thead>\n",
       "    <tr style=\"text-align: right;\">\n",
       "      <th></th>\n",
       "      <th>C1</th>\n",
       "      <th>C2</th>\n",
       "      <th>C3</th>\n",
       "      <th>C4</th>\n",
       "      <th>C5</th>\n",
       "      <th>C6</th>\n",
       "      <th>C7</th>\n",
       "    </tr>\n",
       "    <tr>\n",
       "      <th>Year</th>\n",
       "      <th></th>\n",
       "      <th></th>\n",
       "      <th></th>\n",
       "      <th></th>\n",
       "      <th></th>\n",
       "      <th></th>\n",
       "      <th></th>\n",
       "    </tr>\n",
       "  </thead>\n",
       "  <tbody>\n",
       "    <tr>\n",
       "      <td>1967</td>\n",
       "      <td>0.490323</td>\n",
       "      <td>0.083871</td>\n",
       "      <td>0.200000</td>\n",
       "      <td>0.045161</td>\n",
       "      <td>0.045161</td>\n",
       "      <td>0.038710</td>\n",
       "      <td>0.096774</td>\n",
       "    </tr>\n",
       "    <tr>\n",
       "      <td>1968</td>\n",
       "      <td>0.488889</td>\n",
       "      <td>0.077778</td>\n",
       "      <td>0.188889</td>\n",
       "      <td>0.055556</td>\n",
       "      <td>0.044444</td>\n",
       "      <td>0.038889</td>\n",
       "      <td>0.105556</td>\n",
       "    </tr>\n",
       "    <tr>\n",
       "      <td>1969</td>\n",
       "      <td>0.478495</td>\n",
       "      <td>0.086022</td>\n",
       "      <td>0.204301</td>\n",
       "      <td>0.064516</td>\n",
       "      <td>0.043011</td>\n",
       "      <td>0.032258</td>\n",
       "      <td>0.091398</td>\n",
       "    </tr>\n",
       "    <tr>\n",
       "      <td>1970</td>\n",
       "      <td>0.447236</td>\n",
       "      <td>0.090452</td>\n",
       "      <td>0.221106</td>\n",
       "      <td>0.065327</td>\n",
       "      <td>0.045226</td>\n",
       "      <td>0.035176</td>\n",
       "      <td>0.095477</td>\n",
       "    </tr>\n",
       "    <tr>\n",
       "      <td>1971</td>\n",
       "      <td>0.407407</td>\n",
       "      <td>0.092593</td>\n",
       "      <td>0.259259</td>\n",
       "      <td>0.064815</td>\n",
       "      <td>0.050926</td>\n",
       "      <td>0.041667</td>\n",
       "      <td>0.083333</td>\n",
       "    </tr>\n",
       "    <tr>\n",
       "      <td>1972</td>\n",
       "      <td>0.377119</td>\n",
       "      <td>0.088983</td>\n",
       "      <td>0.275424</td>\n",
       "      <td>0.072034</td>\n",
       "      <td>0.046610</td>\n",
       "      <td>0.042373</td>\n",
       "      <td>0.097458</td>\n",
       "    </tr>\n",
       "    <tr>\n",
       "      <td>1973</td>\n",
       "      <td>0.359184</td>\n",
       "      <td>0.093878</td>\n",
       "      <td>0.297959</td>\n",
       "      <td>0.073469</td>\n",
       "      <td>0.053061</td>\n",
       "      <td>0.040816</td>\n",
       "      <td>0.081633</td>\n",
       "    </tr>\n",
       "    <tr>\n",
       "      <td>1974</td>\n",
       "      <td>0.334545</td>\n",
       "      <td>0.101818</td>\n",
       "      <td>0.305455</td>\n",
       "      <td>0.080000</td>\n",
       "      <td>0.047273</td>\n",
       "      <td>0.043636</td>\n",
       "      <td>0.087273</td>\n",
       "    </tr>\n",
       "    <tr>\n",
       "      <td>1975</td>\n",
       "      <td>0.316109</td>\n",
       "      <td>0.094225</td>\n",
       "      <td>0.331307</td>\n",
       "      <td>0.085106</td>\n",
       "      <td>0.048632</td>\n",
       "      <td>0.045593</td>\n",
       "      <td>0.079027</td>\n",
       "    </tr>\n",
       "    <tr>\n",
       "      <td>1976</td>\n",
       "      <td>0.295082</td>\n",
       "      <td>0.095628</td>\n",
       "      <td>0.346995</td>\n",
       "      <td>0.090164</td>\n",
       "      <td>0.046448</td>\n",
       "      <td>0.049180</td>\n",
       "      <td>0.076503</td>\n",
       "    </tr>\n",
       "    <tr>\n",
       "      <td>1977</td>\n",
       "      <td>0.286420</td>\n",
       "      <td>0.093827</td>\n",
       "      <td>0.340741</td>\n",
       "      <td>0.096296</td>\n",
       "      <td>0.046914</td>\n",
       "      <td>0.051852</td>\n",
       "      <td>0.083951</td>\n",
       "    </tr>\n",
       "    <tr>\n",
       "      <td>1978</td>\n",
       "      <td>0.274945</td>\n",
       "      <td>0.097561</td>\n",
       "      <td>0.323725</td>\n",
       "      <td>0.097561</td>\n",
       "      <td>0.053215</td>\n",
       "      <td>0.057650</td>\n",
       "      <td>0.095344</td>\n",
       "    </tr>\n",
       "    <tr>\n",
       "      <td>1979</td>\n",
       "      <td>0.276000</td>\n",
       "      <td>0.106000</td>\n",
       "      <td>0.320000</td>\n",
       "      <td>0.100000</td>\n",
       "      <td>0.056000</td>\n",
       "      <td>0.060000</td>\n",
       "      <td>0.082000</td>\n",
       "    </tr>\n",
       "    <tr>\n",
       "      <td>1980</td>\n",
       "      <td>0.264957</td>\n",
       "      <td>0.088889</td>\n",
       "      <td>0.350427</td>\n",
       "      <td>0.094017</td>\n",
       "      <td>0.068376</td>\n",
       "      <td>0.054701</td>\n",
       "      <td>0.078632</td>\n",
       "    </tr>\n",
       "    <tr>\n",
       "      <td>1981</td>\n",
       "      <td>0.263464</td>\n",
       "      <td>0.100437</td>\n",
       "      <td>0.349345</td>\n",
       "      <td>0.096070</td>\n",
       "      <td>0.066958</td>\n",
       "      <td>0.049491</td>\n",
       "      <td>0.074236</td>\n",
       "    </tr>\n",
       "    <tr>\n",
       "      <td>1982</td>\n",
       "      <td>0.277926</td>\n",
       "      <td>0.113032</td>\n",
       "      <td>0.349734</td>\n",
       "      <td>0.098404</td>\n",
       "      <td>0.054521</td>\n",
       "      <td>0.035904</td>\n",
       "      <td>0.070479</td>\n",
       "    </tr>\n",
       "    <tr>\n",
       "      <td>1983</td>\n",
       "      <td>0.284848</td>\n",
       "      <td>0.109091</td>\n",
       "      <td>0.355152</td>\n",
       "      <td>0.099394</td>\n",
       "      <td>0.044848</td>\n",
       "      <td>0.032727</td>\n",
       "      <td>0.073939</td>\n",
       "    </tr>\n",
       "    <tr>\n",
       "      <td>1984</td>\n",
       "      <td>0.293503</td>\n",
       "      <td>0.128770</td>\n",
       "      <td>0.337587</td>\n",
       "      <td>0.102088</td>\n",
       "      <td>0.044084</td>\n",
       "      <td>0.032483</td>\n",
       "      <td>0.061485</td>\n",
       "    </tr>\n",
       "    <tr>\n",
       "      <td>1985</td>\n",
       "      <td>0.291841</td>\n",
       "      <td>0.134937</td>\n",
       "      <td>0.330544</td>\n",
       "      <td>0.104603</td>\n",
       "      <td>0.037657</td>\n",
       "      <td>0.030335</td>\n",
       "      <td>0.070084</td>\n",
       "    </tr>\n",
       "    <tr>\n",
       "      <td>1986</td>\n",
       "      <td>0.299000</td>\n",
       "      <td>0.136000</td>\n",
       "      <td>0.319000</td>\n",
       "      <td>0.106000</td>\n",
       "      <td>0.037000</td>\n",
       "      <td>0.030000</td>\n",
       "      <td>0.073000</td>\n",
       "    </tr>\n",
       "  </tbody>\n",
       "</table>\n",
       "</div>"
      ],
      "text/plain": [
       "            C1        C2        C3        C4        C5        C6        C7\n",
       "Year                                                                      \n",
       "1967  0.490323  0.083871  0.200000  0.045161  0.045161  0.038710  0.096774\n",
       "1968  0.488889  0.077778  0.188889  0.055556  0.044444  0.038889  0.105556\n",
       "1969  0.478495  0.086022  0.204301  0.064516  0.043011  0.032258  0.091398\n",
       "1970  0.447236  0.090452  0.221106  0.065327  0.045226  0.035176  0.095477\n",
       "1971  0.407407  0.092593  0.259259  0.064815  0.050926  0.041667  0.083333\n",
       "1972  0.377119  0.088983  0.275424  0.072034  0.046610  0.042373  0.097458\n",
       "1973  0.359184  0.093878  0.297959  0.073469  0.053061  0.040816  0.081633\n",
       "1974  0.334545  0.101818  0.305455  0.080000  0.047273  0.043636  0.087273\n",
       "1975  0.316109  0.094225  0.331307  0.085106  0.048632  0.045593  0.079027\n",
       "1976  0.295082  0.095628  0.346995  0.090164  0.046448  0.049180  0.076503\n",
       "1977  0.286420  0.093827  0.340741  0.096296  0.046914  0.051852  0.083951\n",
       "1978  0.274945  0.097561  0.323725  0.097561  0.053215  0.057650  0.095344\n",
       "1979  0.276000  0.106000  0.320000  0.100000  0.056000  0.060000  0.082000\n",
       "1980  0.264957  0.088889  0.350427  0.094017  0.068376  0.054701  0.078632\n",
       "1981  0.263464  0.100437  0.349345  0.096070  0.066958  0.049491  0.074236\n",
       "1982  0.277926  0.113032  0.349734  0.098404  0.054521  0.035904  0.070479\n",
       "1983  0.284848  0.109091  0.355152  0.099394  0.044848  0.032727  0.073939\n",
       "1984  0.293503  0.128770  0.337587  0.102088  0.044084  0.032483  0.061485\n",
       "1985  0.291841  0.134937  0.330544  0.104603  0.037657  0.030335  0.070084\n",
       "1986  0.299000  0.136000  0.319000  0.106000  0.037000  0.030000  0.073000"
      ]
     },
     "execution_count": 124,
     "metadata": {},
     "output_type": "execute_result"
    }
   ],
   "source": [
    "# 6. Replace the features C1, . . . ,C7 with the corresponding proportions. What is the resulting data table?\n",
    "\n",
    "train_prop = train.copy()\n",
    "# per row, divide each element by the sum of the row\n",
    "train_prop = train_prop.div(train_prop.sum(axis=1), axis=0)\n",
    "train_prop"
   ]
  },
  {
   "cell_type": "code",
   "execution_count": 153,
   "metadata": {},
   "outputs": [
    {
     "data": {
      "text/html": [
       "<div>\n",
       "<style scoped>\n",
       "    .dataframe tbody tr th:only-of-type {\n",
       "        vertical-align: middle;\n",
       "    }\n",
       "\n",
       "    .dataframe tbody tr th {\n",
       "        vertical-align: top;\n",
       "    }\n",
       "\n",
       "    .dataframe thead th {\n",
       "        text-align: right;\n",
       "    }\n",
       "</style>\n",
       "<table border=\"1\" class=\"dataframe\">\n",
       "  <thead>\n",
       "    <tr style=\"text-align: right;\">\n",
       "      <th></th>\n",
       "      <th>C1</th>\n",
       "      <th>C2</th>\n",
       "      <th>C3</th>\n",
       "      <th>C4</th>\n",
       "      <th>C5</th>\n",
       "      <th>C6</th>\n",
       "      <th>C7</th>\n",
       "    </tr>\n",
       "    <tr>\n",
       "      <th>Year</th>\n",
       "      <th></th>\n",
       "      <th></th>\n",
       "      <th></th>\n",
       "      <th></th>\n",
       "      <th></th>\n",
       "      <th></th>\n",
       "      <th></th>\n",
       "    </tr>\n",
       "  </thead>\n",
       "  <tbody>\n",
       "    <tr>\n",
       "      <td>1967</td>\n",
       "      <td>1.65626</td>\n",
       "      <td>-0.109522</td>\n",
       "      <td>0.759516</td>\n",
       "      <td>-0.728561</td>\n",
       "      <td>-0.728561</td>\n",
       "      <td>-0.882712</td>\n",
       "      <td>0.0335788</td>\n",
       "    </tr>\n",
       "    <tr>\n",
       "      <td>1968</td>\n",
       "      <td>1.63232</td>\n",
       "      <td>-0.205961</td>\n",
       "      <td>0.681342</td>\n",
       "      <td>-0.542434</td>\n",
       "      <td>-0.765577</td>\n",
       "      <td>-0.899108</td>\n",
       "      <td>0.0994203</td>\n",
       "    </tr>\n",
       "    <tr>\n",
       "      <td>1969</td>\n",
       "      <td>1.6189</td>\n",
       "      <td>-0.0971445</td>\n",
       "      <td>0.767853</td>\n",
       "      <td>-0.384827</td>\n",
       "      <td>-0.790292</td>\n",
       "      <td>-1.07797</td>\n",
       "      <td>-0.0365198</td>\n",
       "    </tr>\n",
       "    <tr>\n",
       "      <td>1970</td>\n",
       "      <td>1.51496</td>\n",
       "      <td>-0.0833026</td>\n",
       "      <td>0.810515</td>\n",
       "      <td>-0.408725</td>\n",
       "      <td>-0.77645</td>\n",
       "      <td>-1.02776</td>\n",
       "      <td>-0.0292354</td>\n",
       "    </tr>\n",
       "    <tr>\n",
       "      <td>1971</td>\n",
       "      <td>1.38834</td>\n",
       "      <td>-0.0932634</td>\n",
       "      <td>0.936356</td>\n",
       "      <td>-0.449938</td>\n",
       "      <td>-0.6911</td>\n",
       "      <td>-0.891771</td>\n",
       "      <td>-0.198624</td>\n",
       "    </tr>\n",
       "    <tr>\n",
       "      <td>1972</td>\n",
       "      <td>1.29196</td>\n",
       "      <td>-0.152154</td>\n",
       "      <td>0.977711</td>\n",
       "      <td>-0.363463</td>\n",
       "      <td>-0.798781</td>\n",
       "      <td>-0.894091</td>\n",
       "      <td>-0.0611821</td>\n",
       "    </tr>\n",
       "    <tr>\n",
       "      <td>1973</td>\n",
       "      <td>1.24063</td>\n",
       "      <td>-0.10121</td>\n",
       "      <td>1.05376</td>\n",
       "      <td>-0.346332</td>\n",
       "      <td>-0.671755</td>\n",
       "      <td>-0.934119</td>\n",
       "      <td>-0.240972</td>\n",
       "    </tr>\n",
       "    <tr>\n",
       "      <td>1974</td>\n",
       "      <td>1.14982</td>\n",
       "      <td>-0.0397615</td>\n",
       "      <td>1.05885</td>\n",
       "      <td>-0.280924</td>\n",
       "      <td>-0.807017</td>\n",
       "      <td>-0.887059</td>\n",
       "      <td>-0.193912</td>\n",
       "    </tr>\n",
       "    <tr>\n",
       "      <td>1975</td>\n",
       "      <td>1.09572</td>\n",
       "      <td>-0.114679</td>\n",
       "      <td>1.14268</td>\n",
       "      <td>-0.216462</td>\n",
       "      <td>-0.776078</td>\n",
       "      <td>-0.840616</td>\n",
       "      <td>-0.29057</td>\n",
       "    </tr>\n",
       "    <tr>\n",
       "      <td>1976</td>\n",
       "      <td>1.02014</td>\n",
       "      <td>-0.106647</td>\n",
       "      <td>1.18219</td>\n",
       "      <td>-0.165487</td>\n",
       "      <td>-0.828781</td>\n",
       "      <td>-0.771623</td>\n",
       "      <td>-0.32979</td>\n",
       "    </tr>\n",
       "    <tr>\n",
       "      <td>1977</td>\n",
       "      <td>0.96826</td>\n",
       "      <td>-0.147744</td>\n",
       "      <td>1.14192</td>\n",
       "      <td>-0.121769</td>\n",
       "      <td>-0.840892</td>\n",
       "      <td>-0.740808</td>\n",
       "      <td>-0.25897</td>\n",
       "    </tr>\n",
       "    <tr>\n",
       "      <td>1978</td>\n",
       "      <td>0.881765</td>\n",
       "      <td>-0.154327</td>\n",
       "      <td>1.04509</td>\n",
       "      <td>-0.154327</td>\n",
       "      <td>-0.760463</td>\n",
       "      <td>-0.68042</td>\n",
       "      <td>-0.177317</td>\n",
       "    </tr>\n",
       "    <tr>\n",
       "      <td>1979</td>\n",
       "      <td>0.879866</td>\n",
       "      <td>-0.0770961</td>\n",
       "      <td>1.02779</td>\n",
       "      <td>-0.135365</td>\n",
       "      <td>-0.715184</td>\n",
       "      <td>-0.646191</td>\n",
       "      <td>-0.333816</td>\n",
       "    </tr>\n",
       "    <tr>\n",
       "      <td>1980</td>\n",
       "      <td>0.85653</td>\n",
       "      <td>-0.235652</td>\n",
       "      <td>1.13611</td>\n",
       "      <td>-0.179562</td>\n",
       "      <td>-0.498016</td>\n",
       "      <td>-0.72116</td>\n",
       "      <td>-0.358254</td>\n",
       "    </tr>\n",
       "    <tr>\n",
       "      <td>1981</td>\n",
       "      <td>0.857108</td>\n",
       "      <td>-0.107283</td>\n",
       "      <td>1.13925</td>\n",
       "      <td>-0.151735</td>\n",
       "      <td>-0.512748</td>\n",
       "      <td>-0.815029</td>\n",
       "      <td>-0.409564</td>\n",
       "    </tr>\n",
       "    <tr>\n",
       "      <td>1982</td>\n",
       "      <td>0.965062</td>\n",
       "      <td>0.065379</td>\n",
       "      <td>1.19488</td>\n",
       "      <td>-0.0732071</td>\n",
       "      <td>-0.6637</td>\n",
       "      <td>-1.08144</td>\n",
       "      <td>-0.40698</td>\n",
       "    </tr>\n",
       "    <tr>\n",
       "      <td>1983</td>\n",
       "      <td>1.02188</td>\n",
       "      <td>0.0621074</td>\n",
       "      <td>1.24247</td>\n",
       "      <td>-0.030983</td>\n",
       "      <td>-0.826784</td>\n",
       "      <td>-1.14187</td>\n",
       "      <td>-0.326828</td>\n",
       "    </tr>\n",
       "    <tr>\n",
       "      <td>1984</td>\n",
       "      <td>1.05715</td>\n",
       "      <td>0.233293</td>\n",
       "      <td>1.19709</td>\n",
       "      <td>0.00109934</td>\n",
       "      <td>-0.838651</td>\n",
       "      <td>-1.14403</td>\n",
       "      <td>-0.505946</td>\n",
       "    </tr>\n",
       "    <tr>\n",
       "      <td>1985</td>\n",
       "      <td>1.05872</td>\n",
       "      <td>0.28732</td>\n",
       "      <td>1.18325</td>\n",
       "      <td>0.0326782</td>\n",
       "      <td>-0.988973</td>\n",
       "      <td>-1.2052</td>\n",
       "      <td>-0.367799</td>\n",
       "    </tr>\n",
       "    <tr>\n",
       "      <td>1986</td>\n",
       "      <td>1.07983</td>\n",
       "      <td>0.29204</td>\n",
       "      <td>1.14458</td>\n",
       "      <td>0.0428243</td>\n",
       "      <td>-1.0097</td>\n",
       "      <td>-1.21942</td>\n",
       "      <td>-0.330155</td>\n",
       "    </tr>\n",
       "  </tbody>\n",
       "</table>\n",
       "</div>"
      ],
      "text/plain": [
       "            C1         C2        C3          C4        C5        C6         C7\n",
       "Year                                                                          \n",
       "1967   1.65626  -0.109522  0.759516   -0.728561 -0.728561 -0.882712  0.0335788\n",
       "1968   1.63232  -0.205961  0.681342   -0.542434 -0.765577 -0.899108  0.0994203\n",
       "1969    1.6189 -0.0971445  0.767853   -0.384827 -0.790292  -1.07797 -0.0365198\n",
       "1970   1.51496 -0.0833026  0.810515   -0.408725  -0.77645  -1.02776 -0.0292354\n",
       "1971   1.38834 -0.0932634  0.936356   -0.449938   -0.6911 -0.891771  -0.198624\n",
       "1972   1.29196  -0.152154  0.977711   -0.363463 -0.798781 -0.894091 -0.0611821\n",
       "1973   1.24063   -0.10121   1.05376   -0.346332 -0.671755 -0.934119  -0.240972\n",
       "1974   1.14982 -0.0397615   1.05885   -0.280924 -0.807017 -0.887059  -0.193912\n",
       "1975   1.09572  -0.114679   1.14268   -0.216462 -0.776078 -0.840616   -0.29057\n",
       "1976   1.02014  -0.106647   1.18219   -0.165487 -0.828781 -0.771623   -0.32979\n",
       "1977   0.96826  -0.147744   1.14192   -0.121769 -0.840892 -0.740808   -0.25897\n",
       "1978  0.881765  -0.154327   1.04509   -0.154327 -0.760463  -0.68042  -0.177317\n",
       "1979  0.879866 -0.0770961   1.02779   -0.135365 -0.715184 -0.646191  -0.333816\n",
       "1980   0.85653  -0.235652   1.13611   -0.179562 -0.498016  -0.72116  -0.358254\n",
       "1981  0.857108  -0.107283   1.13925   -0.151735 -0.512748 -0.815029  -0.409564\n",
       "1982  0.965062   0.065379   1.19488  -0.0732071   -0.6637  -1.08144   -0.40698\n",
       "1983   1.02188  0.0621074   1.24247   -0.030983 -0.826784  -1.14187  -0.326828\n",
       "1984   1.05715   0.233293   1.19709  0.00109934 -0.838651  -1.14403  -0.505946\n",
       "1985   1.05872    0.28732   1.18325   0.0326782 -0.988973   -1.2052  -0.367799\n",
       "1986   1.07983    0.29204   1.14458   0.0428243   -1.0097  -1.21942  -0.330155"
      ]
     },
     "execution_count": 153,
     "metadata": {},
     "output_type": "execute_result"
    }
   ],
   "source": [
    "# 7. Apply the transformation (2) to the data. What is the resulting data table?\n",
    "from numpy import log as ln\n",
    "\n",
    "train_transform = pd.DataFrame(columns=train.columns, index=train.index)\n",
    "for index, row in train.iterrows():\n",
    "    # apply formula (2) to each value of data value X_{ij}^*\n",
    "    sum_ln = row.apply(lambda x: ln(x)).sum() / len(train.columns)\n",
    "    row_transform = row.apply(lambda x: ln(x) - sum_ln)\n",
    "    train_transform.loc[index] = row_transform\n",
    "\n",
    "train_transform"
   ]
  },
  {
   "cell_type": "code",
   "execution_count": 157,
   "metadata": {},
   "outputs": [
    {
     "data": {
      "text/plain": [
       "array([[0.07192485710154495, -0.00800100610733325, -0.039284799016458385,\n",
       "        -0.04492577847280772, -0.004595437724536555,\n",
       "        -0.012182777613086653, 0.03706494183267763],\n",
       "       [-0.00800100610733325, 0.023621198843403655, 0.01179368836724956,\n",
       "        0.01941827227100971, -0.012366240924746197,\n",
       "        -0.021507422248614048, -0.012958490200969435],\n",
       "       [-0.039284799016458385, 0.01179368836724956, 0.02793175531548807,\n",
       "        0.029691669304533708, -0.0020775307190331604,\n",
       "        -0.0029783575677639436, -0.025076425684015906],\n",
       "       [-0.04492577847280772, 0.01941827227100971, 0.029691669304533708,\n",
       "        0.04129898222964777, -0.007667628364727107,\n",
       "        -0.009311122593023488, -0.028504394374632865],\n",
       "       [-0.004595437724536555, -0.012366240924746197,\n",
       "        -0.0020775307190331604, -0.007667628364727107,\n",
       "        0.01558230781507618, 0.01192046628142841, -0.0007959363634615569],\n",
       "       [-0.012182777613086653, -0.021507422248614048,\n",
       "        -0.0029783575677639436, -0.009311122593023488,\n",
       "        0.01192046628142841, 0.030549563739712127, 0.0035096500013476134],\n",
       "       [0.03706494183267763, -0.012958490200969435,\n",
       "        -0.025076425684015906, -0.028504394374632865,\n",
       "        -0.0007959363634615569, 0.0035096500013476134,\n",
       "        0.02676065478905449]], dtype=object)"
      ]
     },
     "execution_count": 157,
     "metadata": {},
     "output_type": "execute_result"
    }
   ],
   "source": [
    "# 8. What is the sample covariance matrix for these (transformed) data?\n",
    "\n",
    "# according to the definition of Q:\n",
    "# # Q = 1/(n-1) (X')^TX'\n",
    "# let's center the transformed data first to obtain X':\n",
    "n = train_transform.shape[0]\n",
    "p = train_transform.shape[1]\n",
    "sample_mean = np.mean(train_transform, axis=0)\n",
    "X_centered = train_transform - sample_mean\n",
    "X_centered\n",
    "\n",
    "# now, the sample covariance matrix Q is:\n",
    "Q_transform = 1/(n-1)*np.dot(X_centered.T, X_centered)\n",
    "Q_transform\n"
   ]
  },
  {
   "cell_type": "code",
   "execution_count": 158,
   "metadata": {},
   "outputs": [
    {
     "name": "stdout",
     "output_type": "stream",
     "text": [
      "n_features_: 7\n",
      "n_components_: 7\n"
     ]
    }
   ],
   "source": [
    "# 9. Perform PCA on this covariance matrix and interpret the first three principal components.\n",
    "\n",
    "n = Q_transform.shape[0]\n",
    "p = Q_transform.shape[1]\n",
    "pca = PCA(n_components=p);\n",
    "pca.fit(Q_transform)\n",
    "print('n_features_:', pca.n_features_)\n",
    "print('n_components_:', pca.n_components_)"
   ]
  },
  {
   "cell_type": "code",
   "execution_count": 159,
   "metadata": {},
   "outputs": [
    {
     "data": {
      "text/plain": [
       "array([4.04229183e-03, 6.53447052e-04, 1.98299518e-05, 2.27563581e-06,\n",
       "       1.69644022e-06, 3.87361343e-07, 1.22165399e-36])"
      ]
     },
     "execution_count": 159,
     "metadata": {},
     "output_type": "execute_result"
    }
   ],
   "source": [
    "pca.explained_variance_"
   ]
  },
  {
   "cell_type": "code",
   "execution_count": 171,
   "metadata": {},
   "outputs": [
    {
     "name": "stdout",
     "output_type": "stream",
     "text": [
      "[85.64, 13.84, 0.42, 0.05, 0.04, 0.01, 0.0]\n"
     ]
    },
    {
     "data": {
      "image/png": "[encoded data removed]",
      "text/plain": [
       "<Figure size 432x288 with 1 Axes>"
      ]
     },
     "metadata": {
      "needs_background": "light"
     },
     "output_type": "display_data"
    }
   ],
   "source": [
    "pylab.plot([x / sum(pca.explained_variance_) for x in pca.explained_variance_], 'x')\n",
    "print([round(x / sum(pca.explained_variance_) * 100, 2) for x in pca.explained_variance_])\n",
    "pylab.xticks(range(p), ['PC' + str(i) for i in range(1, p+1)]);"
   ]
  },
  {
   "cell_type": "markdown",
   "metadata": {},
   "source": [
    "From this plot we see that PC1 explains about 86%, PC2 about 14% and PC3 about 0.5% of the total variability of the underlying data, i.e. the sample covariance matrix of the transformed data."
   ]
  },
  {
   "cell_type": "code",
   "execution_count": 172,
   "metadata": {},
   "outputs": [
    {
     "data": {
      "text/plain": [
       "(7, 7)"
      ]
     },
     "execution_count": 172,
     "metadata": {},
     "output_type": "execute_result"
    }
   ],
   "source": [
    "Z = pca.transform(Q_transform); Z.shape"
   ]
  },
  {
   "cell_type": "code",
   "execution_count": 185,
   "metadata": {},
   "outputs": [
    {
     "data": {
      "text/html": [
       "\n",
       "        <iframe\n",
       "            width=\"100%\"\n",
       "            height=\"525px\"\n",
       "            src=\"https://plot.ly/~machine.trading/5.embed\"\n",
       "            frameborder=\"0\"\n",
       "            allowfullscreen\n",
       "        ></iframe>\n",
       "        "
      ],
      "text/plain": [
       "<IPython.lib.display.IFrame at 0x2ac3073bd30>"
      ]
     },
     "execution_count": 185,
     "metadata": {},
     "output_type": "execute_result"
    }
   ],
   "source": [
    "trace = go.Heatmap(z=pca.components_.T,\n",
    "                   x = ['PC' + str(i) for i in range(1, np.shape(Z)[1] + 1)],\n",
    "                   y=['cov_' + str(c) for c in range(1, Q_transform.shape[1] + 1)])\n",
    "data=[trace]\n",
    "py.iplot(data, filename='basic-heatmap')"
   ]
  },
  {
   "cell_type": "markdown",
   "metadata": {},
   "source": [
    "From this matrix we can see that each covariance feature can be well explained by the first three principal components:\n",
    "cov_1:  PC1, 0.63\n",
    "cov_2:  PC2, -0.51\n",
    "cov_3:  PC1, -0.40\n",
    "cov_4:  PC1, -0.49\n",
    "cov_5:  PC3, 0.78\n",
    "cov_6:  PC2, 0.67\n",
    "cov_7:  PC1, 0.39 or PC3, -0.40\n",
    "\n",
    "However, relating these features from the sample covariance matrix back to the original features C1-C7, we could say that (I am not completely sure whether this link that I am making here is valid):\n",
    "PC1 shows there is a positive correlation with C1, C6 (and C7) as well as a negative correlation with C3 and C4, and explains the variability thereof. \n",
    "PC2 shows there is a negative correlation with C2 (Interest on National Debt) and C6 (Education and Manpower).\n",
    "PC3 explains the variability of C5 and C7 and has a negative correlation with them."
   ]
  }
 ],
 "metadata": {
  "kernelspec": {
   "display_name": "Python 3",
   "language": "python",
   "name": "python3"
  },
  "language_info": {
   "codemirror_mode": {
    "name": "ipython",
    "version": 3
   },
   "file_extension": ".py",
   "mimetype": "text/x-python",
   "name": "python",
   "nbconvert_exporter": "python",
   "pygments_lexer": "ipython3",
   "version": "3.6.9"
  }
 },
 "nbformat": 4,
 "nbformat_minor": 2
}
